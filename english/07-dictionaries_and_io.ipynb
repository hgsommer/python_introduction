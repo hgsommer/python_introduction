{
 "cells": [
  {
   "cell_type": "markdown",
   "metadata": {},
   "source": [
    "<a name=\"top\"></a>Overview: Dictionaries & I/O\n",
    "==="
   ]
  },
  {
   "cell_type": "markdown",
   "metadata": {},
   "source": [
    "* [Dictionaries](#dictionaries)\n",
    "  * [Indexing](#dindex)\n",
    "  * [Iterating](#diteration)\n",
    "  * [Modifying](#dmodify)\n",
    "\n",
    "* [Input/Output](#inputoutput)\n",
    "  * [Reading files](#reading)\n",
    "  * [Writing files](#writing)\n",
    "  * [User input](#userinteraction)\n",
    "\n",
    "* [Exercise 07: Dictionaries & I/O](#exercise07)"
   ]
  },
  {
   "cell_type": "markdown",
   "metadata": {},
   "source": [
    "**Learning Goals:** After this lecture you will\n",
    "* know how to store and access variables in dictionaries\n",
    "* be able to read from and write to files\n",
    "* be able to request and process user input"
   ]
  },
  {
   "cell_type": "markdown",
   "metadata": {},
   "source": [
    "# <a name=\"dictionaries\"></a>Dictionaries"
   ]
  },
  {
   "cell_type": "markdown",
   "metadata": {},
   "source": [
    "Dictionaries are another type for collections of items, like lists.\n",
    "\n",
    "Dictionaries share some properties with lists:\n",
    "\n",
    "* dictionaries are collections of items, stored in a variable\n",
    "* there are no restrictions on what can be stored in a dictionary\n",
    "\n",
    "In some other aspects they differ:\n",
    "\n",
    "* items in dictionaries have no index number, but a *key*\n",
    "* dictionaries are declared using curly brackets (lists: `[]`, dictionaries: `{}`)\n",
    "\n",
    "Other names for such a datatype are e. g. *map*, *associative array*, *hashtable/hashmap*\n",
    "\n",
    "Dictionaries map *keys* to *values*, for example:\n",
    "\n",
    "* word $\\rightarrow$ meaning or translation (a typical dictionary)\n",
    "* name $\\rightarrow$ phone number (a phonebook)\n",
    "* configuration $\\rightarrow$ value (configuration for a program)"
   ]
  },
  {
   "cell_type": "markdown",
   "metadata": {},
   "source": [
    "##### Example"
   ]
  },
  {
   "cell_type": "code",
   "execution_count": null,
   "metadata": {},
   "outputs": [],
   "source": [
    "# this is a dictionary, tha uses strings as keys\n",
    "data_types = {'integer': 'whole number',\n",
    "              'float': 'number with digits behind the dot',\n",
    "              'string': 'sequence of characters',\n",
    "              'list': 'collection indexed with a number'}"
   ]
  },
  {
   "cell_type": "markdown",
   "metadata": {},
   "source": [
    "[top](#top)"
   ]
  },
  {
   "cell_type": "markdown",
   "metadata": {},
   "source": [
    "## <a name=\"dindex\"></a>Dictionary index"
   ]
  },
  {
   "cell_type": "markdown",
   "metadata": {},
   "source": [
    "Whereas lists are indexed with a number, dictionaries are indexed with a *key*!  Most of the time, integers or strings are used as keys."
   ]
  },
  {
   "cell_type": "code",
   "execution_count": null,
   "metadata": {},
   "outputs": [],
   "source": [
    "# access an element\n",
    "int_type = data_types['integer']\n",
    "print(int_type)"
   ]
  },
  {
   "cell_type": "markdown",
   "metadata": {},
   "source": [
    "To check the amount of objects in a dictionary we can use the `len()` function:"
   ]
  },
  {
   "cell_type": "code",
   "execution_count": null,
   "metadata": {},
   "outputs": [],
   "source": [
    "# length of the dictionary data_types\n",
    "number_of_types = len(data_types)\n",
    "\n",
    "print('There are {} elements in the dictionary data_types.'\n",
    "      .format(number_of_types))"
   ]
  },
  {
   "cell_type": "markdown",
   "metadata": {},
   "source": [
    "If you try to access a key that is not in the dictionary, you will get a **KeyError**:"
   ]
  },
  {
   "cell_type": "code",
   "execution_count": null,
   "metadata": {},
   "outputs": [],
   "source": [
    "data_types['bicycle']"
   ]
  },
  {
   "cell_type": "markdown",
   "metadata": {},
   "source": [
    "You can check if some key exists in a dictionary by using the `in` operator:"
   ]
  },
  {
   "cell_type": "code",
   "execution_count": null,
   "metadata": {},
   "outputs": [],
   "source": [
    "test_types = ['integer', 'bicycle']\n",
    "\n",
    "for test in test_types:\n",
    "    if test in data_types:\n",
    "        print('{} is in data_types'.format(test))\n",
    "    else:\n",
    "        print('{} is not in data_types'.format(test))"
   ]
  },
  {
   "cell_type": "markdown",
   "metadata": {},
   "source": [
    "[top](#top)"
   ]
  },
  {
   "cell_type": "markdown",
   "metadata": {},
   "source": [
    "## <a name=\"diteration\"></a>Iterating dictionaries"
   ]
  },
  {
   "cell_type": "markdown",
   "metadata": {},
   "source": [
    "Just like lists, dictionaries can be iterated.  There are a few ways of doing this:\n",
    "\n",
    "* you can iterate a dictionary's keys; this the default\n",
    "* you can iterate pairs of key and value"
   ]
  },
  {
   "cell_type": "markdown",
   "metadata": {},
   "source": [
    "##### Iterating keys"
   ]
  },
  {
   "cell_type": "markdown",
   "metadata": {},
   "source": [
    "We already used `for` loops to access all the elements in a list. Now we will use a loop to iterate over the keys in our dictionary. In this case, our loop will run four times (once for every item in our dictionary):"
   ]
  },
  {
   "cell_type": "code",
   "execution_count": null,
   "metadata": {},
   "outputs": [],
   "source": [
    "# iterate keys in the dictionary\n",
    "for key in data_types:\n",
    "    print('{} is a data type in Python.'.format(key))"
   ]
  },
  {
   "cell_type": "markdown",
   "metadata": {},
   "source": [
    "##### Iterating keys and values\n",
    "\n",
    "To iterate pairs of key and value in a dictionary, you can use the `dict.items()` function:"
   ]
  },
  {
   "cell_type": "code",
   "execution_count": null,
   "metadata": {},
   "outputs": [],
   "source": [
    "# iterate key-and-value pairs in the dictionary\n",
    "for key, value in data_types.items():\n",
    "    print('{} is a {}.'.format(key, value))"
   ]
  },
  {
   "cell_type": "markdown",
   "metadata": {},
   "source": [
    "Of course you can also iterate only over keys, and then get the corresponding values by indexing the dictionary.  Note that this is slower than the above!"
   ]
  },
  {
   "cell_type": "code",
   "execution_count": null,
   "metadata": {},
   "outputs": [],
   "source": [
    "# iterate keys in the dictionary, and get the corresponding values manually\n",
    "# this is slower than iterating over key-value pairs!\n",
    "for key in data_types:\n",
    "    print('{} is a {}.'.format(key, data_types[key]))"
   ]
  },
  {
   "cell_type": "markdown",
   "metadata": {},
   "source": [
    "## <a name=\"dmodify\"></a>Modifying dictionaries\n",
    "\n",
    "Variables in dictionaries can be added, changed or removed."
   ]
  },
  {
   "cell_type": "markdown",
   "metadata": {},
   "source": [
    "##### Adding and changing variables\n",
    "\n",
    "In order to add or change a variable, index the dictionary as described above, and then assign to it:"
   ]
  },
  {
   "cell_type": "code",
   "execution_count": null,
   "metadata": {},
   "outputs": [],
   "source": [
    "data_types['dictionary'] = 'colletcion index wit kyes'\n",
    "\n",
    "for key, value in data_types.items():\n",
    "    print('{} is a {}.'.format(key, value))"
   ]
  },
  {
   "cell_type": "markdown",
   "metadata": {},
   "source": [
    "Woops, we made a typo.  Let's correct it:"
   ]
  },
  {
   "cell_type": "code",
   "execution_count": null,
   "metadata": {},
   "outputs": [],
   "source": [
    "print('A dictionary is a {}.'.format(data_types['dictionary']))\n",
    "data_types['dictionary'] = 'collection indexed with keys'\n",
    "print('A dictionary is a {}.'.format(data_types['dictionary']))"
   ]
  },
  {
   "cell_type": "markdown",
   "metadata": {},
   "source": [
    "##### Removing variables\n",
    "\n",
    "To remove a variable from a dictionary, use the `del` operator:"
   ]
  },
  {
   "cell_type": "code",
   "execution_count": null,
   "metadata": {},
   "outputs": [],
   "source": [
    "del data_types['dictionary']\n",
    "\n",
    "for key, value in data_types.items():\n",
    "    print('{} is a {}.'.format(key, value))"
   ]
  },
  {
   "cell_type": "markdown",
   "metadata": {},
   "source": [
    "[top](#top)"
   ]
  },
  {
   "cell_type": "markdown",
   "metadata": {},
   "source": [
    "# <span id=\"inputoutput\"/>Input & Output"
   ]
  },
  {
   "cell_type": "markdown",
   "metadata": {},
   "source": [
    "## <span id=\"reading\"/>Reading files"
   ]
  },
  {
   "cell_type": "markdown",
   "metadata": {},
   "source": [
    "In the previous lesson we've already used `open()` to open files.  The `open()` function returns a **file-object** that can be be used to read from or to write to.\n",
    "\n",
    "By default a file is opened for reading text. To read line of text, you can use the `readline()` function. File objects are also **iterable**, which means that we can use a `for` loop in order to read from them. Both are demonstrated here:"
   ]
  },
  {
   "cell_type": "code",
   "execution_count": null,
   "metadata": {},
   "outputs": [],
   "source": [
    "# Open a file for reading text.\n",
    "f = open('text_file.txt')\n",
    "\n",
    "# Read a line, and print it.\n",
    "line = f.readline()\n",
    "print(line)\n",
    "\n",
    "# Iterate it and print its contents.\n",
    "for line in f:\n",
    "    print(line)\n",
    "\n",
    "# Close the file.\n",
    "f.close()"
   ]
  },
  {
   "cell_type": "markdown",
   "metadata": {},
   "source": [
    "**Note:** Python remembers the position, until which the file was read. Therefore the first line wasn't printed twice.\n",
    "\n",
    "Note that there are empty lines interleaved with the text.  These lines are not present in the original file. They got there, because Python reads the newlines from the file, and then `print()` adds another one. This can be improved with the `str.rstrip()` function:"
   ]
  },
  {
   "cell_type": "code",
   "execution_count": null,
   "metadata": {},
   "outputs": [],
   "source": [
    "# Open a file for reading text.\n",
    "f = open('text_file.txt')\n",
    "\n",
    "# str.rstrip() removes whitespace (spaces, tabs newlines)\n",
    "# from the end of the string\n",
    "for line in f:\n",
    "    print(line.rstrip())\n",
    "\n",
    "    # or use the optional parameter 'end' of print():\n",
    "    # print(line, end=\"\")\n",
    "\n",
    "# Close the file.\n",
    "f.close()"
   ]
  },
  {
   "cell_type": "markdown",
   "metadata": {},
   "source": [
    "Closing the file with `close()` is recommended, because otherwise the file will stay open and occupy ressouces until the program is terminated.\n",
    "\n",
    "Even better would be to use the `with` statement:"
   ]
  },
  {
   "cell_type": "code",
   "execution_count": null,
   "metadata": {},
   "outputs": [],
   "source": [
    "# open the file with context manager\n",
    "# the keyword 'as' provides access to the file via the variable f\n",
    "with open('text_file.txt') as f:\n",
    "    # read() reads the whole content into a string\n",
    "    print(f.read())\n",
    "    print('Is the file closed within the block?:', f.closed)\n",
    "    # At the end of the block the file will be closed automatocally.\n",
    "    # This will happen even if an error occured in the indented block\n",
    "\n",
    "print('Is the file closed after the block?:', f.closed)"
   ]
  },
  {
   "cell_type": "markdown",
   "metadata": {},
   "source": [
    "[top](#top)"
   ]
  },
  {
   "cell_type": "markdown",
   "metadata": {},
   "source": [
    "## <span id=\"writing\"/>Writing files"
   ]
  },
  {
   "cell_type": "markdown",
   "metadata": {},
   "source": [
    "If we want to write to a file, we need to tell Python to open it for writing.  We can do this by passing an extra argument to `open()`:\n",
    "\n",
    "* `'w'` overwrites the file content, if the file already exists\n",
    "* `'a'` appends to the end of the file\n",
    "* `'r+'` opens the file for both reading and writing\n",
    "\n",
    "Files that are opened for writing, can be written to using the `print()` function that we're already familiar with. We can tell it what file-object to write to using the `file=` keyword argument."
   ]
  },
  {
   "cell_type": "code",
   "execution_count": null,
   "metadata": {},
   "outputs": [],
   "source": [
    "# Open a file for writing text.\n",
    "with open('writing.txt', 'w') as f:\n",
    "\n",
    "    # Write a line of text to the file.\n",
    "    print('This is a text file.', file=f)\n",
    "\n",
    "    # Write a few lines to it:\n",
    "    for number in range(1,6):\n",
    "        print('a number: {}'.format(number), file=f)"
   ]
  },
  {
   "cell_type": "code",
   "execution_count": null,
   "metadata": {},
   "outputs": [],
   "source": [
    "!cat writing.txt"
   ]
  },
  {
   "cell_type": "markdown",
   "metadata": {},
   "source": [
    "We could also use `write()` directly, but we have to care about the formatting ourself:"
   ]
  },
  {
   "cell_type": "code",
   "execution_count": null,
   "metadata": {},
   "outputs": [],
   "source": [
    "# Open a file for writing text.\n",
    "with open('writing.txt', 'w') as f:\n",
    "\n",
    "    # write a line, note the explicit newline\n",
    "    f.write('This is a text file.\\n')\n",
    "\n",
    "    # write() takes only a string argument:\n",
    "    for number in range(1, 6):\n",
    "        f.write('a number: {}\\n'.format(number))"
   ]
  },
  {
   "cell_type": "code",
   "execution_count": null,
   "metadata": {},
   "outputs": [],
   "source": [
    "!cat writing.txt"
   ]
  },
  {
   "cell_type": "markdown",
   "metadata": {},
   "source": [
    "[top](#top)"
   ]
  },
  {
   "cell_type": "markdown",
   "metadata": {},
   "source": [
    "## <span id=\"userinteraction\" />User interaction"
   ]
  },
  {
   "cell_type": "markdown",
   "metadata": {},
   "source": [
    "Sometimes you might want your program to talk with the user.  If you just want to give some information to the user, you can use the `print()` function.  Using the `input()` function we can also get information from the user.\n",
    "\n",
    "The `input()` function prints a string (e.g. a question) and waits for input. The input is returned as a string."
   ]
  },
  {
   "cell_type": "code",
   "execution_count": null,
   "metadata": {},
   "outputs": [],
   "source": [
    "s = input('What is your name?\\n')\n",
    "print('Hello {}.'.format(s))"
   ]
  },
  {
   "cell_type": "markdown",
   "metadata": {},
   "source": [
    "Here is more elaborate example, that uses the `split()` function to split a string into separate words."
   ]
  },
  {
   "cell_type": "code",
   "execution_count": null,
   "metadata": {},
   "outputs": [],
   "source": [
    "s = input('Please enter a sentence: ')\n",
    "\n",
    "# Split the string on every space.\n",
    "words = s.split(' ')\n",
    "\n",
    "word_num = 1\n",
    "for word in words:\n",
    "    print('word #{} is \"{}\".'.format(word_num, word))\n",
    "    word_num = word_num + 1"
   ]
  },
  {
   "cell_type": "markdown",
   "metadata": {},
   "source": [
    "Here is another example, that shows you how to make decisions based on input."
   ]
  },
  {
   "cell_type": "code",
   "execution_count": null,
   "metadata": {},
   "outputs": [],
   "source": [
    "# input() returns a string, which we\n",
    "# convert to an int\n",
    "x = int(input('Please enter a number: '))\n",
    "if x < 0:\n",
    "    print('The number was negative.')\n",
    "elif x == 0:\n",
    "    print('Null...')\n",
    "elif x < 10:\n",
    "    print('One-digit number.')\n",
    "else:\n",
    "    print('The number war greater than ten.')"
   ]
  },
  {
   "cell_type": "markdown",
   "metadata": {},
   "source": [
    "[top](#top)"
   ]
  },
  {
   "cell_type": "markdown",
   "metadata": {},
   "source": [
    "# <span id=\"exercise07\"/>Exercise 07: Dictionaries & I/O"
   ]
  },
  {
   "cell_type": "markdown",
   "metadata": {},
   "source": [
    "1. **Dictionaries**\n",
    "\n",
    "  1. Create a dictionary that contains names and e-mail addresses. The names should be used as keys.\n",
    "  2. Create a new dictionary also with names and e-mail addresses, but now use the e-mail addresses as keys. Make the new dictionary by looping over the previous exercise's dictionary with `for`.\n",
    "  3. Add a few entries to the new dictionary.\n",
    "  4. Print the new dictionary by looping over it with `for`.\n",
    "\n",
    "\n",
    "2. **Letter frequency**\n",
    "  1. Take a sentence or short text of your choice and save it in a string variable. Create a dictionary, that contains for every letter the number of occurences in the string. Output the dictionary.\n",
    "  2. **(Optional)** Output the letters and counts ordered by the frequency.\n",
    "\n",
    "\n",
    "\n",
    "3. **Input/Output**\n",
    "\n",
    "  1. Write a program that reads names and e-mail addresses from a file. Your program should do the following:\n",
    "\n",
    "      1. Read the names and e-mail addresses\n",
    "      2. Print what was read\n",
    "      2. Ask the user for a name, and print the e-mail address corresponding to that name.\n",
    "\n",
    "    The file `email_addresses.txt` contains lines of the following form:\n",
    "\n",
    "    `[name] [e-mail-address]`\n",
    "\n",
    "    Each line contains a name and an e-mail address, separated by a space. There are only firstnames, which means that `name` doesn't contain spaces.\n",
    "\n",
    "    Hint: Use the `split()` function to split each line into a name, and an e-mail address. The output of `split()` is a list.\n",
    "\n",
    "  2. **(Optional)** Improve the program so that if there is no matching name, it asks for a corresponding e-mail-address and saves both to the file. The previous content should not be overwritten."
   ]
  },
  {
   "cell_type": "markdown",
   "metadata": {},
   "source": [
    "[top](#top)"
   ]
  }
 ],
 "metadata": {
  "kernelspec": {
   "display_name": "Python 3",
   "language": "python",
   "name": "python3"
  },
  "language_info": {
   "codemirror_mode": {
    "name": "ipython",
    "version": 3
   },
   "file_extension": ".py",
   "mimetype": "text/x-python",
   "name": "python",
   "nbconvert_exporter": "python",
   "pygments_lexer": "ipython3",
   "version": "3.7.3"
  }
 },
 "nbformat": 4,
 "nbformat_minor": 1
}
