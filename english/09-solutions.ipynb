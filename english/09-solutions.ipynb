{
 "cells": [
  {
   "cell_type": "markdown",
   "metadata": {},
   "source": [
    "<a name=\"loesung06\"></a>Solutions Exercises 09\n",
    "==="
   ]
  },
  {
   "cell_type": "code",
   "execution_count": null,
   "metadata": {},
   "outputs": [],
   "source": [
    "# 1.a\n",
    "import numpy as np\n",
    "import matplotlib.pyplot as plt\n",
    "%matplotlib inline\n",
    "\n",
    "x = np.linspace(0, 2*np.pi, 100)"
   ]
  },
  {
   "cell_type": "code",
   "execution_count": null,
   "metadata": {},
   "outputs": [],
   "source": [
    "# numpy allows us to execute mathematical operations on arrays\n",
    "# remember: x is a 100 element array!\n",
    "y1 = np.cos(x)\n",
    "y2 = np.cos(2*x)\n",
    "\n",
    "# display the first 5 elements to check\n",
    "print(x[:5])\n",
    "print(y1[:5])\n",
    "print(y2[:5])"
   ]
  },
  {
   "cell_type": "code",
   "execution_count": null,
   "metadata": {},
   "outputs": [],
   "source": [
    "# 1.c\n",
    "plt.plot(x, y1)\n",
    "plt.plot(x, y2)"
   ]
  },
  {
   "cell_type": "code",
   "execution_count": null,
   "metadata": {},
   "outputs": [],
   "source": [
    "# 1.d\n",
    "def title_axis():\n",
    "    plt.title('Curves')\n",
    "    plt.xlabel('x')\n",
    "    plt.ylabel('y')\n",
    "\n",
    "plt.plot(x, y1)\n",
    "plt.plot(x, y2)\n",
    "title_axis()"
   ]
  },
  {
   "cell_type": "code",
   "execution_count": null,
   "metadata": {},
   "outputs": [],
   "source": [
    "# 1.e\n",
    "title_axis()\n",
    "plt.plot(x, y1, label='$\\cos(x)$')\n",
    "plt.plot(x, y2, label='$\\cos(2x)$')\n",
    "plt.legend()"
   ]
  },
  {
   "cell_type": "code",
   "execution_count": null,
   "metadata": {},
   "outputs": [],
   "source": [
    "# 1.f\n",
    "# Documentation for saving plots:\n",
    "# https://matplotlib.org/devdocs/api/_as_gen/matplotlib.pyplot.savefig.html\n",
    "title_axis()\n",
    "plt.plot(x, y1, label='$\\cos(x)$')\n",
    "plt.plot(x, y2, label='$\\cos(2x)$')\n",
    "plt.legend()\n",
    "plt.savefig('example-plot.pdf')"
   ]
  },
  {
   "cell_type": "code",
   "execution_count": null,
   "metadata": {},
   "outputs": [],
   "source": [
    "# 1.g\n",
    "# create a list with 100 values of 0 to 99\n",
    "line = list(range(0, 100))\n",
    "# repeat this list 100 times\n",
    "lines = 100 * line\n",
    "# convert it to a 1-d array\n",
    "img = np.asarray(lines)\n",
    "# reshape the array to a 100x100 2-d array\n",
    "img = img.reshape((100, 100))\n",
    "# create sinusoidial data\n",
    "img = np.sin(img)\n",
    "# display the image based on the array\n",
    "plt.imshow(img)"
   ]
  }
 ],
 "metadata": {
  "kernelspec": {
   "display_name": "Python 3",
   "language": "python",
   "name": "python3"
  },
  "language_info": {
   "codemirror_mode": {
    "name": "ipython",
    "version": 3
   },
   "file_extension": ".py",
   "mimetype": "text/x-python",
   "name": "python",
   "nbconvert_exporter": "python",
   "pygments_lexer": "ipython3",
   "version": "3.6.6"
  }
 },
 "nbformat": 4,
 "nbformat_minor": 1
}
