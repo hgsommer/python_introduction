{
 "cells": [
  {
   "cell_type": "markdown",
   "metadata": {},
   "source": [
    "<a name=\"loesung06\"></a>Solutions exercise 06\n",
    "==="
   ]
  },
  {
   "cell_type": "code",
   "execution_count": null,
   "metadata": {},
   "outputs": [],
   "source": [
    "# 1.a for the documentation see\n",
    "# https://docs.python.org/3/library/math.html#angular-conversion\n",
    "import math\n",
    "pi = math.pi\n",
    "print('pi in degrees is {}'.format(math.degrees(pi)))\n",
    "print('pi / 2 in degrees is {}'.format(math.degrees(pi/2)))\n",
    "print('2*pi in degrees is {}'.format(math.degrees(2*pi)))"
   ]
  },
  {
   "cell_type": "code",
   "execution_count": null,
   "metadata": {},
   "outputs": [],
   "source": [
    "# 1.b\n",
    "A = [0, 0]\n",
    "B = [3, 0]\n",
    "C = [4, 2]\n",
    "\n",
    "# point1 and point2 are lists containting\n",
    "# the x- and y- coordinates\n",
    "def distance(point1, point2):\n",
    "    # save the x- and y- coordinates seperatly\n",
    "    x1 = point1[0]\n",
    "    y1 = point1[1]\n",
    "    x2 = point2[0]\n",
    "    y2 = point2[1]\n",
    "\n",
    "    # calculate the distance between the points\n",
    "    distance = math.sqrt((x1 - x2)**2 + (y1 - y2)**2)\n",
    "\n",
    "    # return the value\n",
    "    return distance"
   ]
  },
  {
   "cell_type": "code",
   "execution_count": null,
   "metadata": {},
   "outputs": [],
   "source": [
    "# 1.c\n",
    "\n",
    "# calculate the three distances using the function\n",
    "a = distance(B,C)\n",
    "b = distance(A,C)\n",
    "c = distance(A,B)\n",
    "\n",
    "# display the results\n",
    "print('distance between B and C is {}'.format(a))\n",
    "print('distance between A and C is {}'.format(b))\n",
    "print('distance between A and B is {}'.format(c))"
   ]
  },
  {
   "cell_type": "code",
   "execution_count": null,
   "metadata": {},
   "outputs": [],
   "source": [
    "# 1.d\n",
    "def calculate_alpha(a, b, c):\n",
    "    cos = (b**2 + c**2 - a**2) / (2 * b * c)\n",
    "    alpha = math.degrees(math.acos(cos))\n",
    "    return alpha\n",
    "\n",
    "def calculate_beta(a, b, c):\n",
    "    cos = (a**2 + c**2 - b**2) / (2 * a * c)\n",
    "    beta = math.degrees(math.acos(cos))\n",
    "    return beta\n",
    "\n",
    "def calculate_gamma(a, b, c):\n",
    "    cos = (a**2 + b**2 - c**2) / (2 * a * b)\n",
    "    gamma = math.degrees(math.acos(cos))\n",
    "    return gamma\n",
    "\n",
    "alpha = calculate_alpha(a, b, c)\n",
    "beta = calculate_beta(a, b, c)\n",
    "gamma = calculate_gamma(a, b, c)\n",
    "\n",
    "print('alpha = {}, beta = {}, gamma = {}'.format(alpha, beta, gamma))\n",
    "print('check sum of angles: {}'.format(alpha + beta + gamma))"
   ]
  },
  {
   "cell_type": "code",
   "execution_count": null,
   "metadata": {},
   "outputs": [],
   "source": [
    "# 2.a\n",
    "import os\n",
    "from os.path import join\n",
    "folder_name = 'Exercise-06'\n",
    "os.mkdir(folder_name)"
   ]
  },
  {
   "cell_type": "code",
   "execution_count": null,
   "metadata": {},
   "outputs": [],
   "source": [
    "# 2.b\n",
    "current_directory = os.getcwd()\n",
    "path = join(current_directory, folder_name)\n",
    "print(path)"
   ]
  },
  {
   "cell_type": "code",
   "execution_count": null,
   "metadata": {},
   "outputs": [],
   "source": [
    "# 2.c\n",
    "for i in range(5):\n",
    "    file_name = 'data_{}.txt'.format(i)\n",
    "    open(join(path,file_name), 'w')\n",
    "    file_name = 'data_{}.csv'.format(i)\n",
    "    open(join(path,file_name), 'w')"
   ]
  },
  {
   "cell_type": "code",
   "execution_count": null,
   "metadata": {},
   "outputs": [],
   "source": [
    "# 2.d\n",
    "# create a list of the files contained in the folder\n",
    "files = os.listdir(path)\n",
    "# sort the list alphabetically (not guaranteed to be done from the start)\n",
    "files.sort()\n",
    "\n",
    "# create two temporal varibles to track file names\n",
    "i = 0\n",
    "j = 0\n",
    "\n",
    "# iterate over all files in the folder\n",
    "for file in files:\n",
    "    # case for a .txt file\n",
    "    if file.endswith('.txt'):\n",
    "        # create a new file name\n",
    "        new_name = 'renamed_{}.txt'.format(i)\n",
    "        print('renaming file {} to {}'.format(file, new_name))\n",
    "        # rename the file using rename(old_path, new_path)\n",
    "        os.rename(join(path, file), join(path, new_name))\n",
    "        # increase the temporary variable i by one\n",
    "        i = i + 1\n",
    "    # case for a .csv file\n",
    "    elif file.endswith('.csv'):\n",
    "        new_name = 'renamed_{}.csv'.format(j)\n",
    "        print('renaming file {} to {}'.format(file, new_name))\n",
    "        os.rename(join(path, file), join(path, new_name))\n",
    "        j = j + 1\n",
    "    # case for a different type of file\n",
    "    else:\n",
    "        print('found a different file: {}'.format(file))\n",
    "    "
   ]
  },
  {
   "cell_type": "code",
   "execution_count": null,
   "metadata": {},
   "outputs": [],
   "source": [
    "# 3.e\n",
    "\n",
    "# Iteration over four weeks\n",
    "for i in range(4):\n",
    "    # name for the week folder\n",
    "    folder_name = 'june-0{}'.format(i + 1)\n",
    "    # path to the new folder\n",
    "    working_directory = os.getcwd()\n",
    "    path = join(working_directory, folder_name)\n",
    "    print('creating folder {}'.format(folder_name))\n",
    "\n",
    "    # create the folder only if it does not exist yet\n",
    "    # see documentation\n",
    "    # https://docs.python.org/3/tutorial/errors.html\n",
    "    # for an explanation of error handling in python\n",
    "    try:\n",
    "        os.mkdir(path)\n",
    "    except FileExistsError:\n",
    "        print(\"dir already exists; continuing anyway\")\n",
    "        pass\n",
    "\n",
    "    # calculate start and end of the current week in days\n",
    "    week_start = i * 7 + 1\n",
    "    print('week_start {}'.format(week_start))\n",
    "    week_end = (i + 1) * 7 + 1\n",
    "    print('week_end {}'.format(week_end))\n",
    "\n",
    "    # iterate over the 7 days of the week\n",
    "    for j in range(week_start, week_end):\n",
    "        # name for the new file\n",
    "        file_name = '2019-06-{}.txt'.format(j)\n",
    "        print('creating file {} in folder {}'\\\n",
    "              .format(file_name, folder_name))\n",
    "        # create the file in the current folder\n",
    "        open(join(path, file_name), 'w')"
   ]
  },
  {
   "cell_type": "code",
   "execution_count": null,
   "metadata": {},
   "outputs": [],
   "source": [
    "# 3.f\n",
    "# Documentation for writing to and reading from files:\n",
    "# https://docs.python.org/3/tutorial/inputoutput.html\n",
    "test_file = open('testdata.txt', 'w')\n",
    "test_file.write('test-text')\n",
    "test_file.close()"
   ]
  },
  {
   "cell_type": "code",
   "execution_count": null,
   "metadata": {},
   "outputs": [],
   "source": [
    "# 3.g\n",
    "\n",
    "# List of the weekdays we want to write to text\n",
    "weekdays = ['monday', 'tuesday', 'wednesday', 'thursday',\\\n",
    "             'friday', 'saturday', 'sunday']\n",
    "\n",
    "# iterate over the 4 weeks\n",
    "for i in range(4):\n",
    "    # path to the week folder\n",
    "    folder_name = 'june-0{}'.format(i + 1)\n",
    "    working_directory = os.getcwd()\n",
    "    path = join(working_directory, folder_name)\n",
    "\n",
    "    # list of the files in the current directory\n",
    "    files = os.listdir(path)\n",
    "    # sort the list alphabetically ascending\n",
    "    files.sort()\n",
    "    # if the first file is a hidden file, cut it from the list using a slice\n",
    "    files = files[1:]\n",
    "    # iterate the days in the current week\n",
    "    for index, file in enumerate(files):\n",
    "        if file.endswith('.txt'):\n",
    "            file = open(join(path, file), 'w')\n",
    "            file.write(weekdays[index])\n",
    "            file.close()"
   ]
  },
  {
   "cell_type": "code",
   "execution_count": null,
   "metadata": {},
   "outputs": [],
   "source": [
    "# 3.a\n",
    "import random\n",
    "\n",
    "# random length of the list\n",
    "length = random.randint(5, 10)\n",
    "\n",
    "# create a list of length 'length' with random integers in range 0 to 10 using list comprehension\n",
    "numbers = [random.randint(0, 10) for i in range(length)]\n",
    "print(numbers)"
   ]
  },
  {
   "cell_type": "code",
   "execution_count": null,
   "metadata": {},
   "outputs": [],
   "source": [
    "# 3.b\n",
    "# Documentation for 'shuffle'\n",
    "# https://docs.python.org/3/library/random.html#random.shuffle\n",
    "\n",
    "# important: shuffle operates \"in place\", and thus has no return value\n",
    "# but rather changes the given list directly\n",
    "random.shuffle(numbers)\n",
    "print(numbers)"
   ]
  },
  {
   "cell_type": "code",
   "execution_count": null,
   "metadata": {},
   "outputs": [],
   "source": [
    "# 3.c\n",
    "\n",
    "# definition of a comparision function\n",
    "def compare(original):\n",
    "    # create a copy of the list given\n",
    "    copy = original[:]\n",
    "\n",
    "    # shuffle the copy\n",
    "    random.shuffle(copy)\n",
    "\n",
    "    # cases: if copy and original are the same\n",
    "    # (comparison: copy == original), return True\n",
    "    if copy == original:\n",
    "        return True\n",
    "    # else False\n",
    "    else:\n",
    "        return False"
   ]
  },
  {
   "cell_type": "code",
   "execution_count": null,
   "metadata": {},
   "outputs": [],
   "source": [
    "# 3.d\n",
    "# number of iterations\n",
    "N = 100\n",
    "\n",
    "# \"cut\" the list, to test different lengths\n",
    "numbers = numbers[0:4]\n",
    "\n",
    "# shuffle the list N times and compare with the original each time\n",
    "for i in range(N):\n",
    "\n",
    "    # if compare returns True\n",
    "    if compare(numbers):\n",
    "        # display a message with the current iteration number\n",
    "        print('Lists are the same after iteration {}'.format(i))\n",
    "\n",
    "        # and leave the for loop\n",
    "        break"
   ]
  }
 ],
 "metadata": {
  "kernelspec": {
   "display_name": "Python 3",
   "language": "python",
   "name": "python3"
  },
  "language_info": {
   "codemirror_mode": {
    "name": "ipython",
    "version": 3
   },
   "file_extension": ".py",
   "mimetype": "text/x-python",
   "name": "python",
   "nbconvert_exporter": "python",
   "pygments_lexer": "ipython3",
   "version": "3.6.6"
  }
 },
 "nbformat": 4,
 "nbformat_minor": 1
}
