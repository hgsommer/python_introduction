{
 "cells": [
  {
   "cell_type": "markdown",
   "metadata": {
    "collapsed": true
   },
   "source": [
    "<a name=\"top\"></a>Overview: Plots\n",
    "==="
   ]
  },
  {
   "cell_type": "markdown",
   "metadata": {},
   "source": [
    "* [Plots](#plots)\n",
    "  * [Curves](#kurven)\n",
    "  * [Titel, axis, legend](#stuff)\n",
    "  * [Fields](#felder)\n",
    "\n",
    "\n",
    "* [Examples](#anwendung)\n",
    "* [Exercise 09: Plots](#uebung08)\n",
    "* [References](#referenzen)"
   ]
  },
  {
   "cell_type": "markdown",
   "metadata": {},
   "source": [
    "**Learning Goals:** after this lecture, you will\n",
    "* be able to create simple plots of curves\n",
    "* know how to add a title, axis lables and legends\n",
    "* understand how to display fields\n",
    "* have seen a number of examples for plotting"
   ]
  },
  {
   "cell_type": "markdown",
   "metadata": {
    "collapsed": true
   },
   "source": [
    "<a name=\"plots\"></a>Plots\n",
    "==="
   ]
  },
  {
   "cell_type": "markdown",
   "metadata": {},
   "source": [
    "Creating visual representations of data, more commonly known as plotting, is an everyday task in science.\n",
    "\n",
    "There is much software and many libraries to do this at different levels of quality.\n",
    "In Python, the biggest and best known library is ```matplotlib```.\n",
    "A very useful property of ```matplotlib``` is its direct interaction with ```NumPy``` arrays - we can simply pass the arrays as arguments to the plot functions!"
   ]
  },
  {
   "cell_type": "markdown",
   "metadata": {
    "collapsed": true
   },
   "source": [
    "<a name=\"kurven\"></a>Curves\n",
    "---"
   ]
  },
  {
   "cell_type": "code",
   "execution_count": null,
   "metadata": {},
   "outputs": [],
   "source": [
    "# we use a sub-module of matplotlib to plot\n",
    "# it is called \"pyplot\" and we import it as 'plt' for short.\n",
    "import matplotlib.pyplot as plt\n",
    "\n",
    "# we also import numpy as 'np' to creat example data.\n",
    "import numpy as np\n",
    "\n",
    "# this line tells jupyter notebookt that the plots\n",
    "# are to be shown directly in the notebook\n",
    "%matplotlib inline\n",
    "\n",
    "# generate a numpy array with 100 data points\n",
    "# between 0 and 10 for the x values\n",
    "x = np.linspace(0,10,100)\n",
    "\n",
    "# take the sine of the array as y values\n",
    "y = np.sin(x)\n",
    "\n",
    "# the plot() function takes two lists as arguments\n",
    "# the x- and the y-coordinates and plots the corresponding points\n",
    "plt.plot(x,y);"
   ]
  },
  {
   "cell_type": "markdown",
   "metadata": {
    "collapsed": true
   },
   "source": [
    "<a name=\"stuff\"></a>Titel, axis, legend\n",
    "---"
   ]
  },
  {
   "cell_type": "markdown",
   "metadata": {},
   "source": [
    "Like this, our plot isn't very informative. We will now add a title, axis lables and a legend to make it more self-explanatory:"
   ]
  },
  {
   "cell_type": "code",
   "execution_count": null,
   "metadata": {},
   "outputs": [],
   "source": [
    "# set a string as the title\n",
    "plt.title('Example plot')\n",
    "\n",
    "# set the axis lables\n",
    "plt.xlabel('$x$')\n",
    "plt.ylabel('$y$')\n",
    "\n",
    "# plot a curve and assign it a name\n",
    "plt.plot(x,y, label='$\\\\sin(x)$')\n",
    "\n",
    "# add a legend that uses the name of the curve\n",
    "plt.legend();"
   ]
  },
  {
   "cell_type": "markdown",
   "metadata": {},
   "source": [
    "**Important:** We can use neat $\\LaTeX$ symbols in the lables by encasing the string with $$ symbols."
   ]
  },
  {
   "cell_type": "markdown",
   "metadata": {
    "collapsed": true
   },
   "source": [
    "<a name=\"felder\"></a>Fields\n",
    "---"
   ]
  },
  {
   "cell_type": "markdown",
   "metadata": {},
   "source": [
    "Another handy function besides ```plot()``` is ```imshow()```. Imshow can display images."
   ]
  },
  {
   "cell_type": "code",
   "execution_count": null,
   "metadata": {},
   "outputs": [],
   "source": [
    "# we need a special library to be able to load images:\n",
    "# the Python Image Library (PIL)\n",
    "from PIL import Image\n",
    "\n",
    "# with the function 'Image' from PIL we can read\n",
    "# an image from file\n",
    "img = Image.open('polygons.jpg')\n",
    "\n",
    "# we convert the image to a NumPy array\n",
    "img = np.asarray(img)\n",
    "\n",
    "# img is a 3-d array of dimenions 816 x 1232 x 3\n",
    "print(img.shape)"
   ]
  },
  {
   "cell_type": "code",
   "execution_count": null,
   "metadata": {},
   "outputs": [],
   "source": [
    "# now we display the images using imshow()\n",
    "plt.imshow(img)"
   ]
  },
  {
   "cell_type": "markdown",
   "metadata": {},
   "source": [
    "This works, since digital images can be interpreted as matrices. Every pixel has $(x,y)$ - coordinates and a grey value. If instead of a black-and-white image we have a colour image, there are three colour channels (red, green, blue) which together form the colour of the image."
   ]
  },
  {
   "cell_type": "markdown",
   "metadata": {},
   "source": [
    "The script we just used is a good example for the everyday programming life in Python: there are many, specialised functionalities. If we use these together, we can realise quite complicated results in few lines of code!\n",
    "\n",
    "Nearly all scientific libraries accept ```NumPy``` arrays as arguments and nearly all data types can be converted to arrays, which makes life a lot easier!"
   ]
  },
  {
   "cell_type": "markdown",
   "metadata": {
    "collapsed": true
   },
   "source": [
    "<a name=\"anwendung\"></a>Examples\n",
    "==="
   ]
  },
  {
   "cell_type": "markdown",
   "metadata": {},
   "source": [
    "Let's use the things we learned until now, to write a program that is pretty close to something we might use in science:"
   ]
  },
  {
   "cell_type": "code",
   "execution_count": null,
   "metadata": {},
   "outputs": [],
   "source": [
    "# import the necessary modules\n",
    "import numpy as np\n",
    "import matplotlib.pyplot as plt"
   ]
  },
  {
   "cell_type": "code",
   "execution_count": null,
   "metadata": {},
   "outputs": [],
   "source": [
    "# load the data and visualize it to get an idea of it\n",
    "data = np.loadtxt('polygons.txt')\n",
    "\n",
    "plt.title('Salt polygons in Death Valley')\n",
    "plt.imshow(data)\n",
    "cbar = plt.colorbar()\n",
    "cbar.set_label('height')"
   ]
  },
  {
   "cell_type": "code",
   "execution_count": null,
   "metadata": {},
   "outputs": [],
   "source": [
    "# calculate a few parameters to characterise the pattern\n",
    "minimum = np.nanmin(data)\n",
    "data = data - minimum\n",
    "\n",
    "# since the data includes nan-values, we\n",
    "# have to use special functions which ignore these values\n",
    "maximum = np.nanmax(data)\n",
    "mean = np.nanmean(data)\n",
    "\n",
    "# display the calculated values and format\n",
    "# them to show only 2 figures after the decimal\n",
    "print('maximum height: {:1.2f} m'.format(maximum))\n",
    "print('mean height: {:1.2f} m'.format(mean))\n"
   ]
  },
  {
   "cell_type": "code",
   "execution_count": null,
   "metadata": {},
   "outputs": [],
   "source": [
    "# filter the data to enhance the\n",
    "# visibility of the pattern and visualize it\n",
    "filtered_data = np.where(data >= mean, 1, 0)\n",
    "\n",
    "# show the filtered data as a black-white image\n",
    "plt.imshow(filtered_data, cmap=plt.get_cmap('Greys'))"
   ]
  },
  {
   "cell_type": "markdown",
   "metadata": {
    "collapsed": true
   },
   "source": [
    "<a name=\"uebung08\"></a>Exercises 09: Plots\n",
    "==="
   ]
  },
  {
   "cell_type": "markdown",
   "metadata": {},
   "source": [
    "**Plots**\n",
    "  1. Create an array x with 100 values between 0 and $2\\pi$\n",
    "  2. Create a second array with values $\\cos(x)$ and a third with values $\\cos(2x)$.\n",
    "  3. Plot both curves in a plot over each other.\n",
    "  Hint: if you call ```plot()``` twice in one cell, the curves get plotted into the same image.\n",
    "  4. Add a title and axis lables.\n",
    "  5. Lable both curves and add a legend to the plot.\n",
    "  6. **(Optional)** look up the function ```plt.savefig()``` and use it to save your plot as a .pdf file.\n",
    "  7. **(Optional)** Create a 100x100 array with a sinusodial value range in x-direction. Plot the array using ```imshow()```."
   ]
  },
  {
   "cell_type": "markdown",
   "metadata": {
    "collapsed": true
   },
   "source": [
    "<a name=\"referenzen\"></a>References\n",
    "==="
   ]
  },
  {
   "cell_type": "markdown",
   "metadata": {},
   "source": [
    "* Detailed and advanced Python course for beginners. Was used as the basis for this introductory course (uses jupyter notebooks as well): https://github.com/leriomaggio/python-in-a-notebook\n",
    "* Tutorial for easy plotting using ```matplotlib```: https://matplotlib.org/users/pyplot_tutorial.html"
   ]
  }
 ],
 "metadata": {
  "kernelspec": {
   "display_name": "Python 3",
   "language": "python",
   "name": "python3"
  },
  "language_info": {
   "codemirror_mode": {
    "name": "ipython",
    "version": 3
   },
   "file_extension": ".py",
   "mimetype": "text/x-python",
   "name": "python",
   "nbconvert_exporter": "python",
   "pygments_lexer": "ipython3",
   "version": "3.6.6"
  }
 },
 "nbformat": 4,
 "nbformat_minor": 1
}
