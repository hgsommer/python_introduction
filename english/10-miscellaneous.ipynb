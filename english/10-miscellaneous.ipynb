{
 "cells": [
  {
   "cell_type": "markdown",
   "metadata": {
    "nbpresent": {
     "id": "949ee12e-e777-4571-9fff-d8b7e94026de"
    }
   },
   "source": [
    "# Miscellaneous and look-out\n",
    "\n",
    "\n",
    "## Content\n",
    "\n",
    "* [Installing Python locally](#local)\n",
    "  * [Get it from python.org](#pythonorg)\n",
    "  * [Alternative: Anaconda](#anaconda)\n",
    "* [Installing packages with pip](#pip)\n",
    "* [Command Line / Terminal](#cli)\n",
    "* [Some other useful modules](#modules)\n",
    "* [IDEs (Integrated Development Environments)](#ide)\n",
    "* [Links](#links)\n",
    "  * [Tutorials](#tutorials)"
   ]
  },
  {
   "cell_type": "markdown",
   "metadata": {
    "nbpresent": {
     "id": "364b38e2-94e7-41c6-a80c-6719b657ef2e"
    }
   },
   "source": [
    "# Installing Python locally<a name=\"local\"></a>"
   ]
  },
  {
   "cell_type": "markdown",
   "metadata": {
    "nbpresent": {
     "id": "5382c652-a268-4c41-aa8b-fffc8608e847"
    }
   },
   "source": [
    "## Get it from python.org <a name=\"pythonorg\"></a>\n",
    "\n",
    "If you do not already have Python on your system, go to the official website http://www.python.org\n",
    "\n",
    "There you can download a Python installer, or find instructions for other ways of installation for your specific operating system."
   ]
  },
  {
   "cell_type": "markdown",
   "metadata": {
    "nbpresent": {
     "id": "a4dd0a71-5624-4feb-a697-6d5ef3bad184"
    }
   },
   "source": [
    "## Alternative: Anaconda<a name=\"anaconda\"></a>\n",
    "\n",
    "Anaconda provides an open source **Anaconda Python Distribution** with lots of libraries for data science, including:\n",
    "- Python 2, Python 3, pip\n",
    "- Libraries: numpy, pandas, SciPy, Matplotlib, ...\n",
    "- Conda: Environment and package manager\n",
    "- IDEs: Jupyter, Spyder\n",
    "\n",
    "Get it here: https://www.anaconda.com/\n"
   ]
  },
  {
   "cell_type": "markdown",
   "metadata": {},
   "source": [
    "# Installing packages with pip<a name=\"pip\"></a>\n",
    "\n",
    "Python comes with a package manager for installing modules from the [Python Package Index](https://pypi.org) (PyPI).\n",
    "\n",
    "Basic usage:\n",
    "```\n",
    "> pip install PackageName\n",
    "```\n",
    "Documentation for pip: https://pip.pypa.io/en/stable/user_guide/\n"
   ]
  },
  {
   "cell_type": "markdown",
   "metadata": {
    "nbpresent": {
     "id": "f51a4894-327e-4cae-9348-0c0f25c323e4"
    }
   },
   "source": [
    "# Running Python from the command-line / terminal<a name=\"cli\"></a>"
   ]
  },
  {
   "cell_type": "markdown",
   "metadata": {
    "nbpresent": {
     "id": "4bb1a36a-8bfa-4c22-9c9e-2711c705608b"
    }
   },
   "source": [
    "## Interactive mode\n",
    "\n",
    "Open a terminal window and type:\n",
    "```\n",
    "> python\n",
    "```\n",
    "This will start the interactive python interpreter, where you can enter Python commands at the prompt:\n",
    "\n",
    "```\n",
    "Python 3.5.2 |Anaconda custom (64-bit)| (default, Jul  5 2016, 11:41:13) [MSC v.1900 64 bit (AMD64)] on win32\n",
    "Type \"help\", \"copyright\", \"credits\" or \"license\" for more information.\n",
    ">>> print('Hello world!')\n",
    "Hello world!\n",
    ">>> exit()\n",
    "```\n",
    "This is usefull for simple tasks and testing."
   ]
  },
  {
   "cell_type": "markdown",
   "metadata": {},
   "source": [
    "## Running scripts\n",
    "\n",
    "Save your python code in a text file with extension **.py**\n",
    "\n",
    "Contents of file `sample_script.py`:"
   ]
  },
  {
   "cell_type": "markdown",
   "metadata": {},
   "source": [
    "```python\n",
    "# A very simple python program\n",
    "\n",
    "import sys\n",
    "\n",
    "# Ask for user input\n",
    "try:\n",
    "    a = int(input(\"Please enter a number: \"))\n",
    "    b = int(input(\"Please enter another number: \"))\n",
    "except:\n",
    "    print(\"Huh? I didn't expect that...\")\n",
    "    sys.exit(1)\n",
    "    \n",
    "print(\"The sum of {} and {} is {}\".format(a, b, a+b))\n",
    "```"
   ]
  },
  {
   "cell_type": "markdown",
   "metadata": {
    "nbpresent": {
     "id": "0697d0f1-607e-4059-8ba0-d8ab5fb95ca6"
    }
   },
   "source": [
    "In order to execute this script in the terminal, go to the directory containing the script file and type:\n",
    "```\n",
    "> python sample_script.py\n",
    "```"
   ]
  },
  {
   "cell_type": "markdown",
   "metadata": {},
   "source": [
    "## Running scripts with arguments\n",
    "\n",
    "Similar to arguments of functions, scripts can be called with arguments from the terminal.\n",
    "The list of arguments can be accessed using the `argv` from the `sys` module."
   ]
  },
  {
   "cell_type": "markdown",
   "metadata": {},
   "source": [
    "Content of file script-arguments.py:"
   ]
  },
  {
   "cell_type": "markdown",
   "metadata": {},
   "source": [
    "```python\n",
    "import sys\n",
    "print('Number of arguments:', len(sys.argv))\n",
    "print('Argument List:', str(sys.argv))\n",
    "```"
   ]
  },
  {
   "cell_type": "markdown",
   "metadata": {
    "nbpresent": {
     "id": "90975b12-a726-4cb9-9586-e5198b51c7de"
    }
   },
   "source": [
    "To call the script with the arguments, just append them after the filename:\n",
    "```\n",
    "> python script-arguments.py John Cleese 1939 \"Monty Python\"\n",
    "Number of arguments: 5\n",
    "Argument List: ['script-arguments.py', 'John', 'Cleese', '1939', 'Monty Python']\n",
    "```"
   ]
  },
  {
   "cell_type": "markdown",
   "metadata": {
    "nbpresent": {
     "id": "537eb814-a823-44ca-baf5-31c1fea0418c"
    }
   },
   "source": [
    "As you can see from the output of the script:\n",
    "- The first argument is the filename of the running script (always present).\n",
    "- Arguments are separated by space characters.\n",
    "- All arguments are passed as strings and need to be converted to other data types if necessary.\n",
    "- Argument strings containing spaces have to be enclosed in quotation marks.\n",
    "- Individal arguments can be accessed by indexing the list `sys.argv`."
   ]
  },
  {
   "cell_type": "markdown",
   "metadata": {},
   "source": [
    "**More complicated cases**:\n",
    "If you need to have a script with many arguments, directly accessing `argv` can become confusing.\n",
    "The **`argparse`** module allows to make user-friendly command-line interfaces with:\n",
    "- arguments with short and long names,\n",
    "- optional arguments,\n",
    "- type checking,\n",
    "- error handling for invalid arguments.\n",
    "\n",
    "Documentation: https://docs.python.org/3/library/argparse.html\n"
   ]
  },
  {
   "cell_type": "markdown",
   "metadata": {},
   "source": [
    "# Some other useful modules<a name=\"modules\"></a>\n",
    "\n",
    "This is a small and subjective selection of modules, that might be useful.\n",
    "\n",
    "Standard library:\n",
    "* `datetime` - handle dates and times ([Documentation](https://docs.python.org/3/library/datetime.html))\n",
    "* `re` - regular expressions ([Documentation](https://docs.python.org/3/library/re.html))\n",
    "* `subprocess` - execute external programs, check their output ([Documentation](https://docs.python.org/3/library/subprocess.html))\n",
    "\n",
    "External modules:\n",
    "* `requests` - make HTTP requests ([Documentation](https://3.python-requests.org/))\n",
    "* `pandas` - huge library for data analysis, integrates well with NumPy and Matplotlib ([Documentation](http://pandas.pydata.org/pandas-docs/stable/))"
   ]
  },
  {
   "cell_type": "markdown",
   "metadata": {
    "nbpresent": {
     "id": "424156ec-2133-40f0-ae49-c315b705223c"
    }
   },
   "source": [
    "\n",
    "# Using IDEs for working with Python<a name=\"ide\"></a>\n",
    "\n",
    "Integrated Development Environments (IDE) are usefull for managing single Python files as well as large projects.\n",
    "\n",
    "Most common features of IDEs:\n",
    "\n",
    "- Graphical User Interface\n",
    "- Text Editor for multiple files\n",
    "- Syntax Highlighting\n",
    "- Code completion\n",
    "- Integrated IPython console\n",
    "- File Explorer\n",
    "- Variable explorer\n",
    "- Debugger\n",
    "- Integration of Version Control Systems (PyCharm)"
   ]
  },
  {
   "cell_type": "markdown",
   "metadata": {
    "collapsed": true
   },
   "source": [
    "Comparison of different Python IDEs for Data Science:\n",
    "\n",
    "https://www.datacamp.com/community/tutorials/data-science-python-ide"
   ]
  },
  {
   "cell_type": "markdown",
   "metadata": {
    "nbpresent": {
     "id": "ec7c2ef7-2fa6-4472-8f8e-3088c0941144"
    }
   },
   "source": [
    "## Spyder\n",
    "\n",
    "![Screenshot of Spyder](../img/spyder.png)"
   ]
  },
  {
   "cell_type": "markdown",
   "metadata": {},
   "source": [
    "# Links<a name=\"links\"></a>\n",
    "\n",
    "* Documentation for the standard library (*\"keep this under your pillow\"*): https://docs.python.org/3/library/index.html "
   ]
  },
  {
   "cell_type": "markdown",
   "metadata": {},
   "source": [
    "## Tutorials<a name=\"tutorials\"></a>\n",
    "\n",
    "* The official Python tutorial: https://docs.python.org/3/tutorial/index.html\n",
    "* Beginners guide: https://wiki.python.org/moin/BeginnersGuide\n",
    "* Python in a notebook: https://github.com/leriomaggio/python-in-a-notebook"
   ]
  }
 ],
 "metadata": {
  "anaconda-cloud": {},
  "kernelspec": {
   "display_name": "Python 3",
   "language": "python",
   "name": "python3"
  },
  "language_info": {
   "codemirror_mode": {
    "name": "ipython",
    "version": 3
   },
   "file_extension": ".py",
   "mimetype": "text/x-python",
   "name": "python",
   "nbconvert_exporter": "python",
   "pygments_lexer": "ipython3",
   "version": "3.6.6"
  }
 },
 "nbformat": 4,
 "nbformat_minor": 1
}
