{
 "cells": [
  {
   "cell_type": "markdown",
   "metadata": {
    "nbpresent": {
     "id": "949ee12e-e777-4571-9fff-d8b7e94026de"
    }
   },
   "source": [
    "# Using Python on your own computer\n",
    "\n",
    "\n",
    "## Overview\n",
    "- Installing Python locally\n",
    "  - Python\n",
    "  - Packages\n",
    "  - Anaconda Python\n",
    "- Command Line / Terminal\n",
    "- IDEs (Integrated Development Environments):\n",
    "  - Spyder and Debugging\n"
   ]
  },
  {
   "cell_type": "markdown",
   "metadata": {
    "nbpresent": {
     "id": "364b38e2-94e7-41c6-a80c-6719b657ef2e"
    }
   },
   "source": [
    "# Installing Python locally"
   ]
  },
  {
   "cell_type": "markdown",
   "metadata": {
    "nbpresent": {
     "id": "5382c652-a268-4c41-aa8b-fffc8608e847"
    }
   },
   "source": [
    "## Get it from python.org\n",
    "\n",
    "If you do not already have Python on your system, go to the official website http://www.python.org\n",
    "\n",
    "There you can download a Python installer, or find instructions for other ways of installation for your specific operating system.\n",
    "\n",
    "The site also has other informative resources, e.g. a Beginners Guide and Documentation for the standard library.\n",
    "\n",
    "\n",
    "### Installing packages with pip:\n",
    "Python comes with a package manager for installing modlues from the Python Package Index (PyPI) and other sources.\n",
    "\n",
    "Basic usage:\n",
    "```\n",
    "> pip install PackageName\n",
    "```\n",
    "or\n",
    "```\n",
    "> pip install PackageName==Version\n",
    "```\n",
    "More info: https://pip.pypa.io/\n"
   ]
  },
  {
   "cell_type": "markdown",
   "metadata": {
    "nbpresent": {
     "id": "a4dd0a71-5624-4feb-a697-6d5ef3bad184"
    }
   },
   "source": [
    "## Alternative: Anaconda\n",
    "\n",
    "Anaconda provides an open source **Anaconda Python Distribution** with lots of libraries for data science, including:\n",
    "- Python 2, Python 3, pip\n",
    "- Libraries: numpy, pandas, SciPy, Matplotlib, ...\n",
    "- Conda: Environment and package manager\n",
    "- IDEs: Jupyter, Spyder\n",
    "\n",
    "Get it here: http://www.anaconda.com\n"
   ]
  },
  {
   "cell_type": "markdown",
   "metadata": {
    "nbpresent": {
     "id": "f51a4894-327e-4cae-9348-0c0f25c323e4"
    }
   },
   "source": [
    "# Running Python from the command-line / terminal"
   ]
  },
  {
   "cell_type": "markdown",
   "metadata": {
    "nbpresent": {
     "id": "4bb1a36a-8bfa-4c22-9c9e-2711c705608b"
    }
   },
   "source": [
    "## Interactive mode\n",
    "\n",
    "Open a terminal window and type:\n",
    "```\n",
    "> python\n",
    "```\n",
    "This will start the interactive python interpreter, where you can enter Python commands at the prompt:\n",
    "\n",
    "```\n",
    "Python 3.5.2 |Anaconda custom (64-bit)| (default, Jul  5 2016, 11:41:13) [MSC v.1900 64 bit (AMD64)] on win32\n",
    "Type \"help\", \"copyright\", \"credits\" or \"license\" for more information.\n",
    ">>> print('Hello world!')\n",
    "Hello world!\n",
    ">>> exit()\n",
    ">\n",
    "\n",
    "```\n",
    "It is usefull for simple tasks and testing."
   ]
  },
  {
   "cell_type": "markdown",
   "metadata": {},
   "source": [
    "## Running scripts\n",
    "\n",
    "You can combine several python commands in a text file with extension **.py**\n",
    "\n",
    "Contents of file script-calendar.py:"
   ]
  },
  {
   "cell_type": "raw",
   "metadata": {},
   "source": [
    "# Python program to display calendar of given month of the year\n",
    "\n",
    "import calendar\n",
    "\n",
    "# Ask month and year from the user\n",
    "yy = int(input(\"Enter year: \"))\n",
    "mm = int(input(\"Enter month: \"))\n",
    "\n",
    "print(calendar.month(yy, mm))"
   ]
  },
  {
   "cell_type": "markdown",
   "metadata": {
    "nbpresent": {
     "id": "0697d0f1-607e-4059-8ba0-d8ab5fb95ca6"
    }
   },
   "source": [
    "In order to execute this script in the terminal, go to the directory containing the script file and type:\n",
    "```\n",
    "> python script-calendar.py\n",
    "```"
   ]
  },
  {
   "cell_type": "markdown",
   "metadata": {},
   "source": [
    "## Running scripts with arguments\n",
    "\n",
    "Similar to arguments of functions, scripts can be called with arguments from the terminal.\n",
    "The list of arguments can be accessed using the `argv` from the `sys` module."
   ]
  },
  {
   "cell_type": "markdown",
   "metadata": {},
   "source": [
    "Content of file script-arguments.py:"
   ]
  },
  {
   "cell_type": "raw",
   "metadata": {},
   "source": [
    "import sys\n",
    "print('Number of arguments:', len(sys.argv))\n",
    "print('Argument List:', str(sys.argv))"
   ]
  },
  {
   "cell_type": "markdown",
   "metadata": {
    "nbpresent": {
     "id": "90975b12-a726-4cb9-9586-e5198b51c7de"
    }
   },
   "source": [
    "To call the script with the arguments, just append them after the filename:\n",
    "```\n",
    "> python script-arguments.py John Cleese 1939 \"Monty Python\"\n",
    "Number of arguments: 5\n",
    "Argument List: ['script-arguments.py', 'John', 'Cleese', '1939', 'Monty Python']\n",
    "```"
   ]
  },
  {
   "cell_type": "markdown",
   "metadata": {
    "nbpresent": {
     "id": "537eb814-a823-44ca-baf5-31c1fea0418c"
    }
   },
   "source": [
    "As you can see from the output of the script:\n",
    "- The first argument is the filename of the running script (always present).\n",
    "- Arguments are separated by space characters.\n",
    "- All arguments are passed as strings and need to be converted to other data types if necessary.\n",
    "- Argument strings containing spaces have to be enclosed in quotation marks.\n",
    "- Individal arguments can be accessed by indexing the list `sys.argv`."
   ]
  },
  {
   "cell_type": "markdown",
   "metadata": {},
   "source": [
    "**More complicated cases**:\n",
    "If you need to have a script with many arguments, directly accessing `argv` can become confusing.\n",
    "The **`argparse`** module allows to make user-friendly command-line interfaces with:\n",
    "- arguments with short and long names,\n",
    "- optional arguments,\n",
    "- type checking,\n",
    "- error handling for invalid arguments.\n",
    "\n",
    "Documentation: https://docs.python.org/2/library/argparse.html\n"
   ]
  },
  {
   "cell_type": "markdown",
   "metadata": {
    "nbpresent": {
     "id": "424156ec-2133-40f0-ae49-c315b705223c"
    }
   },
   "source": [
    "\n",
    "# Using IDEs for working with Python\n",
    "\n",
    "Integrated Development Environments (IDE) are usefull for managing single Python files as well as large projects.\n",
    "\n",
    "Most common features of IDEs:\n",
    "\n",
    "- Graphical User Interface\n",
    "- Text Editor for multiple files\n",
    "- Syntax Highlighting\n",
    "- Code completion\n",
    "- Integrated Python console\n",
    "- Integrated IPython console\n",
    "- File Explorer\n",
    "- **Variable explorer**\n",
    "- **Debugger**\n",
    "- Integration of Version Control Systems (PyCharm)"
   ]
  },
  {
   "cell_type": "markdown",
   "metadata": {
    "collapsed": true
   },
   "source": [
    "Comparison of different Python IDEs for Data Science:\n",
    "\n",
    "https://www.datacamp.com/community/tutorials/data-science-python-ide"
   ]
  },
  {
   "cell_type": "markdown",
   "metadata": {
    "nbpresent": {
     "id": "ec7c2ef7-2fa6-4472-8f8e-3088c0941144"
    }
   },
   "source": [
    "## Spyder\n",
    "\n",
    "![Screenshot of Spyder](img/spyder.png)\n",
    "\n",
    "### Using the debugger\n",
    "Once in a while (say: almost every time) your program will contain errors, which may be difficult to find by eye.\n",
    "With the help of the debugger you can stop the execution of your program at pre-defined breakpoints, continue execution line by line, monitor the contents of your variables as you step through the code, and even change their values on the fly.\n",
    "\n",
    "For more info on how to use the debugger in Spyder, go to Help | Spyder Tutorial | Debugging"
   ]
  }
 ],
 "metadata": {
  "anaconda-cloud": {},
  "kernelspec": {
   "display_name": "Python 3",
   "language": "python",
   "name": "python3"
  },
  "language_info": {
   "codemirror_mode": {
    "name": "ipython",
    "version": 3
   },
   "file_extension": ".py",
   "mimetype": "text/x-python",
   "name": "python",
   "nbconvert_exporter": "python",
   "pygments_lexer": "ipython3",
   "version": "3.6.6"
  }
 },
 "nbformat": 4,
 "nbformat_minor": 1
}
