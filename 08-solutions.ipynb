{
 "cells": [
  {
   "cell_type": "markdown",
   "metadata": {},
   "source": [
    "<a name=\"loesung07\"></a>Solutions exercise 08\n",
    "==="
   ]
  },
  {
   "cell_type": "code",
   "execution_count": 1,
   "metadata": {},
   "outputs": [
    {
     "name": "stdout",
     "output_type": "stream",
     "text": [
      "[[27 10 18 89 41 42 41 14 52 34]\n",
      " [67 43 18 47 90 35 46  8 95 99]\n",
      " [60 12 31 25 76 73 26 56 45 47]\n",
      " [62 93 64 15 26 60 97 49 11 99]\n",
      " [76  7 28  7 78  6 14  9  6 55]\n",
      " [34 38 42 40 59 92 47 93 45 38]\n",
      " [93 41  0 60 74 27 61 44 48 33]\n",
      " [96 71 10 76 28 73 88 43 81 80]\n",
      " [97 36 20 56 18 32  7 12 81 41]\n",
      " [34 52 70 80  9 20 57  4 15  2]]\n"
     ]
    }
   ],
   "source": [
    "# 1.a\n",
    "# import random and numpy\n",
    "# note: call numpy using 'np'\n",
    "import random\n",
    "import numpy as np\n",
    "\n",
    "# create a list of 100 random integers between 0 and 100\n",
    "numbers = [random.randint(0,101) for i in range(100)]\n",
    "# convert the list to an array\n",
    "numbers = np.asarray(numbers)\n",
    "# \"reshape\" the 1-d array to a 2-d 10x10 matrix\n",
    "numbers = numbers.reshape((10,10))\n",
    "print(numbers)"
   ]
  },
  {
   "cell_type": "code",
   "execution_count": null,
   "metadata": {},
   "outputs": [],
   "source": []
  },
  {
   "cell_type": "code",
   "execution_count": null,
   "metadata": {
    "collapsed": true
   },
   "outputs": [],
   "source": [
    "# 1.b\n",
    "np.savetxt('random-numbers.txt', numbers)"
   ]
  },
  {
   "cell_type": "code",
   "execution_count": null,
   "metadata": {},
   "outputs": [],
   "source": [
    "# 1.c\n",
    "# Documentation to numpy.random.randint:\n",
    "# https://docs.scipy.org/doc/numpy/reference/generated/numpy.random.randint.html\n",
    "\n",
    "numbers = np.random.randint(0, 101, (10,10))\n",
    "print(numbers)"
   ]
  },
  {
   "cell_type": "code",
   "execution_count": null,
   "metadata": {},
   "outputs": [],
   "source": [
    "# 1.d\n",
    "print('upper left:')\n",
    "upper_left = numbers[:5, :5]\n",
    "print(upper_left)\n",
    "print('upper right:')\n",
    "upper_right = numbers[:5, 5:]\n",
    "print(upper_right)\n",
    "print('lower left:')\n",
    "down_left = numbers [5:, :5]\n",
    "print(down_left)\n",
    "print('lower right:')\n",
    "down_right = numbers[5:, 5:]\n",
    "print(down_right)"
   ]
  },
  {
   "cell_type": "code",
   "execution_count": null,
   "metadata": {},
   "outputs": [],
   "source": [
    "# 1.e\n",
    "matrix_product = np.dot(upper_left, upper_right)\n",
    "print(matrix_product)\n",
    "\n",
    "# the same for the other multiplications"
   ]
  },
  {
   "cell_type": "code",
   "execution_count": null,
   "metadata": {},
   "outputs": [],
   "source": [
    "# 1.f\n",
    "# create a new matrix\n",
    "# take a look in the matrix upper_right:\n",
    "# if upper_right > 50, take an element from lower_left\n",
    "# if upper_right < 50, take an element from lower_right\n",
    "new_matrix = np.where(upper_right > 50, down_left, down_right)\n",
    "print(new_matrix)"
   ]
  }
 ],
 "metadata": {
  "kernelspec": {
   "display_name": "Python 3",
   "language": "python",
   "name": "python3"
  },
  "language_info": {
   "codemirror_mode": {
    "name": "ipython",
    "version": 3
   },
   "file_extension": ".py",
   "mimetype": "text/x-python",
   "name": "python",
   "nbconvert_exporter": "python",
   "pygments_lexer": "ipython3",
   "version": "3.6.4"
  }
 },
 "nbformat": 4,
 "nbformat_minor": 1
}
