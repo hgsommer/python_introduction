{
 "cells": [
  {
   "cell_type": "markdown",
   "metadata": {},
   "source": [
    "<a name=\"loesung07\"></a>Solutions exercise 08\n",
    "==="
   ]
  },
  {
   "cell_type": "code",
   "execution_count": null,
   "metadata": {},
   "outputs": [],
   "source": [
    "# 1.a\n",
    "# import random and numpy\n",
    "# note: call numpy using 'np'\n",
    "import random\n",
    "import numpy as np\n",
    "\n",
    "# create a list of 100 random integers between 0 and 100\n",
    "numbers = [random.randint(0,101) for i in range(100)]\n",
    "# convert the list to an array\n",
    "numbers = np.asarray(numbers)\n",
    "# \"reshape\" the 1-d array to a 2-d 10x10 matrix\n",
    "numbers = numbers.reshape((10,10))\n",
    "print(numbers)"
   ]
  },
  {
   "cell_type": "code",
   "execution_count": null,
   "metadata": {
    "collapsed": true
   },
   "outputs": [],
   "source": [
    "# 1.b\n",
    "np.savetxt('random-numbers.txt', numbers)"
   ]
  },
  {
   "cell_type": "code",
   "execution_count": null,
   "metadata": {},
   "outputs": [],
   "source": [
    "# 1.c\n",
    "# Documentation to numpy.random.randint:\n",
    "# https://docs.scipy.org/doc/numpy/reference/generated/numpy.random.randint.html\n",
    "\n",
    "numbers = np.random.randint(0, 101, (10,10))\n",
    "print(numbers)"
   ]
  },
  {
   "cell_type": "code",
   "execution_count": null,
   "metadata": {},
   "outputs": [],
   "source": [
    "# 1.d\n",
    "print('upper left:')\n",
    "upper_left = numbers[:5, :5]\n",
    "print(upper_left)\n",
    "print('upper right:')\n",
    "upper_right = numbers[:5, 5:]\n",
    "print(upper_right)\n",
    "print('lower left:')\n",
    "down_left = numbers [5:, :5]\n",
    "print(down_left)\n",
    "print('lower right:')\n",
    "down_right = numbers[5:, 5:]\n",
    "print(down_right)"
   ]
  },
  {
   "cell_type": "code",
   "execution_count": null,
   "metadata": {},
   "outputs": [],
   "source": [
    "# 1.e\n",
    "matrix_product = np.dot(upper_left, upper_right)\n",
    "print(matrix_product)\n",
    "\n",
    "# the same for the other multiplications"
   ]
  },
  {
   "cell_type": "code",
   "execution_count": null,
   "metadata": {},
   "outputs": [],
   "source": [
    "# 1.f\n",
    "# create a new matrix\n",
    "# take a look in the matrix upper_right:\n",
    "# if upper_right > 50, take an element from lower_left\n",
    "# if upper_right < 50, take an element from lower_right\n",
    "new_matrix = np.where(upper_right > 50, down_left, down_right)\n",
    "print(new_matrix)"
   ]
  }
 ],
 "metadata": {
  "kernelspec": {
   "display_name": "Python 3",
   "language": "python",
   "name": "python3"
  },
  "language_info": {
   "codemirror_mode": {
    "name": "ipython",
    "version": 3
   },
   "file_extension": ".py",
   "mimetype": "text/x-python",
   "name": "python",
   "nbconvert_exporter": "python",
   "pygments_lexer": "ipython3",
   "version": "3.6.1"
  }
 },
 "nbformat": 4,
 "nbformat_minor": 1
}
