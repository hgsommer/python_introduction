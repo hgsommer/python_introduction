{
 "cells": [
  {
   "cell_type": "markdown",
   "metadata": {
    "collapsed": true
   },
   "source": [
    "<a name=\"top\"></a>Übersicht: Plots\n",
    "==="
   ]
  },
  {
   "cell_type": "markdown",
   "metadata": {},
   "source": [
    "* [Plots](#plots)\n",
    "  * [Kurven](#kurven)\n",
    "  * [Titel, Axen, Legenden](#stuff)\n",
    "  * [Felder](#felder)\n",
    "* [Anwendungsbeispiel](#anwendung)\n",
    "* [Übung 08: Plots](#uebung08)\n",
    "* [Referenzen](#referenzen)"
   ]
  },
  {
   "cell_type": "markdown",
   "metadata": {},
   "source": [
    "**Lernziele:** Am Ende dieser Einheit\n",
    "* könnt ihr simple Plots von Kurven erstellen\n",
    "* wisst ihr, wie ihr Plots mit Titeln, Achsenbeschriftungen und Legenden verseht.\n",
    "* könnt ihr Felder darstellen\n",
    "* habt ihr ein Anwendungsbeispiel aus meinem Arbeitsbereich gesehen."
   ]
  },
  {
   "cell_type": "markdown",
   "metadata": {
    "collapsed": true
   },
   "source": [
    "<a name=\"plots\"></a>Plots\n",
    "==="
   ]
  },
  {
   "cell_type": "markdown",
   "metadata": {},
   "source": [
    "Eine Standardaufgabe im Wissenschaftsbetrieb ist das visuelle Darstellen von Daten, das Plotten.\n",
    "\n",
    "Es gibt viel Software und viele Bibliotheken, die diese Aufgabe mehr oder weniger zufriedenstellend erledigen können. Für Python ist die größte und bekannteste ```matplotlib```. Praktischerweise interagiert ```matplotlib``` ohne Probleme mit ```NumPy``` Arrays - wir können die Arrays einfach als Argumente in die Plot-Funktionen stecken!"
   ]
  },
  {
   "cell_type": "markdown",
   "metadata": {
    "collapsed": true
   },
   "source": [
    "<a name=\"kurven\"></a>Kurven\n",
    "---"
   ]
  },
  {
   "cell_type": "code",
   "execution_count": null,
   "metadata": {},
   "outputs": [],
   "source": [
    "# das sub-modul von matplolib welches wir hier\n",
    "# zum plotten verwenden nennt sich \"pyplot\" und\n",
    "# wir importieren es unter dem Kürzel \"plt\".\n",
    "import matplotlib.pyplot as plt\n",
    "\n",
    "# wir importieren auch numpy um schnell\n",
    "# Beispieldaten generieren zu können.\n",
    "import numpy as np\n",
    "\n",
    "# diese Zeile macht, dass die Plots direkt\n",
    "# im Jupyter-Notebook angezeigt werden\n",
    "%matplotlib inline\n",
    "\n",
    "# generiere ein numpy array mit 100\n",
    "# Datenpunkten zwischen 0 und 10 um die\n",
    "# x-Werte zu erhalten\n",
    "x = np.linspace(0,10,100)\n",
    "\n",
    "# moduliere das Array mit der Sinus-Funktion\n",
    "# um die y-Werte zu erhalten.\n",
    "y = np.sin(x)\n",
    "\n",
    "# die plot() Funktion nimmt zwei Listen als\n",
    "# Argumente: die x-Koordinaten und die\n",
    "# y-Koordinaten, und plottet sie\n",
    "plt.plot(x,y);"
   ]
  },
  {
   "cell_type": "markdown",
   "metadata": {
    "collapsed": true
   },
   "source": [
    "<a name=\"stuff\"></a>Titel, Achsen, Legenden\n",
    "---"
   ]
  },
  {
   "cell_type": "markdown",
   "metadata": {},
   "source": [
    "Um daraus einen guten Plot mit etwas Aussagekraft zu machen, brauchen wir noch einen Titel, Achsenbeschriftungen und eine Legende:"
   ]
  },
  {
   "cell_type": "code",
   "execution_count": null,
   "metadata": {},
   "outputs": [],
   "source": [
    "# setze einen String als Titel\n",
    "plt.title('Beispielplot')\n",
    "\n",
    "# setze die Achsenbeschriftungen\n",
    "plt.xlabel('$x$')\n",
    "plt.ylabel('$y$')\n",
    "\n",
    "# plotte die Kurve und weise der Kurve\n",
    "# einen Namen zu\n",
    "plt.plot(x,y, label='$\\\\sin(x)$')\n",
    "\n",
    "# füge eine Legende hinzu die den Namen\n",
    "# der Kurve verwendet\n",
    "plt.legend();"
   ]
  },
  {
   "cell_type": "markdown",
   "metadata": {},
   "source": [
    "**WICHTIG:** Wir können in den Beschriftungen direkt hübsche LaTeX Zeichen verwenden, indem wir den String mit $$ Zeichen umgeben."
   ]
  },
  {
   "cell_type": "markdown",
   "metadata": {
    "collapsed": true
   },
   "source": [
    "<a name=\"felder\"></a>Felder\n",
    "---"
   ]
  },
  {
   "cell_type": "markdown",
   "metadata": {},
   "source": [
    "Eine zweite, handliche Funktion neben ```plot()``` ist ```imshow()```. Imshow kann Bilder anzeigen. "
   ]
  },
  {
   "cell_type": "code",
   "execution_count": null,
   "metadata": {},
   "outputs": [],
   "source": [
    "# um Bilder laden zu können, brauchen wir eine\n",
    "# spezielle Bibliothek, die mit Bildern umgehen\n",
    "# kann: die Python Image Library (PIL)\n",
    "from PIL import Image\n",
    "\n",
    "# mit der Funktionalität \"Image\" aus der PIL\n",
    "# können wir das Bild aus der Datei lesen\n",
    "img = Image.open('polygons.jpg')\n",
    "\n",
    "# dann konvertieren wir das Bild in ein Array\n",
    "img = np.asarray(img)\n",
    "\n",
    "# img ist ein dreidimensionales Array mit den\n",
    "# Dimensionen 816 x 1232 x 3\n",
    "print(img.shape)"
   ]
  },
  {
   "cell_type": "code",
   "execution_count": null,
   "metadata": {},
   "outputs": [],
   "source": [
    "# und zeigen es mittels imshow() an\n",
    "plt.imshow(img)"
   ]
  },
  {
   "cell_type": "markdown",
   "metadata": {},
   "source": [
    "Digitale Bilder können nämlich einfach als Matrizen aufgefasst werden! Jedes Pixel hat $(x,y)$ - Koordinaten und einen Grauwert. Wenn das Digitalbild in Farbe vorliegt, gibt es drei Farbkanäle (rot, grün und blau) die zusammen die Farbe des Bildes ergeben."
   ]
  },
  {
   "cell_type": "markdown",
   "metadata": {},
   "source": [
    "Das obige Programm ist ein sehr gutes Beispiel für den Alltag beim Programmieren in Python: es gibt viele auf spezielle Anwendungen spezialisierte Anwendungen die im Zusammenspiel relativ komplexe Ergebnisse in relativ wenigen Zeilen Code realisieren.\n",
    "\n",
    "Fast alle wissenschaftlichen Bibliotheken akzeptieren mittlerweile ```NumPy``` Arrays als Eingabe und fast alle Datentypen lassen sich mittlerweile in Arrays konvertieren - das macht das Leben ungemein viel einfacher!"
   ]
  },
  {
   "cell_type": "markdown",
   "metadata": {
    "collapsed": true
   },
   "source": [
    "<a name=\"anwendung\"></a>Anwendungsbeispiel\n",
    "==="
   ]
  },
  {
   "cell_type": "markdown",
   "metadata": {},
   "source": [
    "Das bisher gelernte können wir zusammenbauen, um ein Programm zu schreiben das schon recht nahe an ein im richtigen Leben anwendbares, sinnvolles Stück Code herankommt:"
   ]
  },
  {
   "cell_type": "code",
   "execution_count": null,
   "metadata": {},
   "outputs": [],
   "source": [
    "# importiere die notwendigen Module\n",
    "import numpy as np\n",
    "import matplotlib.pyplot as plt"
   ]
  },
  {
   "cell_type": "code",
   "execution_count": null,
   "metadata": {},
   "outputs": [],
   "source": [
    "# lade die Daten und visualisiere sie für\n",
    "# einen ersten Eindruck\n",
    "data = np.loadtxt('polygons.txt')\n",
    "\n",
    "plt.title('Salzpolygone im Death Valley')\n",
    "plt.imshow(data)"
   ]
  },
  {
   "cell_type": "code",
   "execution_count": null,
   "metadata": {},
   "outputs": [],
   "source": [
    "# berechne ein paar Kenngrößen um die\n",
    "# Muster zu charakterisieren\n",
    "minimum = np.nanmin(data)\n",
    "data = data - minimum\n",
    "\n",
    "# da die Daten nan-Werte enthalten, müssen\n",
    "# wir zum Berechnen spezielle Funktionen\n",
    "# nehmen die nan-Werte ignorieren.\n",
    "maximum = np.nanmax(data)\n",
    "durchschnitt = np.nanmean(data)\n",
    "\n",
    "# gib die berechneten Werte aus und formatiere sie so,\n",
    "# dass nur 2 Nachkommastellen angezeigt werden\n",
    "print('maximale Erhebung: {:1.2f} m'.format(maximum))\n",
    "print('durchschnittliche Erhebung: {:1.2f} m'.format(durchschnitt))\n"
   ]
  },
  {
   "cell_type": "code",
   "execution_count": null,
   "metadata": {},
   "outputs": [],
   "source": [
    "# filtere die Daten um den Musterverlauf besser\n",
    "# darzustellen und visualisieren sie\n",
    "filtered_data = np.where(data >= durchschnitt, 1, 0)\n",
    "\n",
    "# zeige die gefilterten Daten als schwarz-weiß Bild an\n",
    "plt.imshow(filtered_data, cmap=plt.get_cmap('Greys'))"
   ]
  },
  {
   "cell_type": "markdown",
   "metadata": {
    "collapsed": true
   },
   "source": [
    "<a name=\"uebung08\"></a>Übung 08: Plots\n",
    "==="
   ]
  },
  {
   "cell_type": "markdown",
   "metadata": {},
   "source": [
    "1. **Plots**\n",
    "  1. Erstelle ein Array x mit 100 Werten zwischen 0 und 2$\\pi$\n",
    "  2. Erstelle ein zweites Array mit Werten $\\cos(x)$ und ein drittes Array mit Werten $\\cos(2x)$.\n",
    "  3. Plotte beide Kurven in einen Plot übereinander.\n",
    "  HINWEIS: wenn man einfach ```plot()``` zwei mal intereinander in der selben Zelle aufruft, dann werden die Kurven in das selbe Bild geplottet.\n",
    "  4. Füge einen Titel und Achsenbeschriftungen hinzu.\n",
    "  5. Gib beiden Kurven je ein Label und füge dem Plot eine Legende hinzu.\n",
    "  6. **(Optional)** informiere dich über die Funktion ```plt.savefig()``` und verwende sie, um deinen Plot als .pdf Datei abzuspeichern.\n",
    "  7. **(Optional)** Erstelle in 100 x 100 Array mit einem sinusförmigen Werteverlauf in x-Richtung. Plotte das Array mittels ```imshow()```."
   ]
  },
  {
   "cell_type": "markdown",
   "metadata": {
    "collapsed": true
   },
   "source": [
    "<a name=\"referenzen\"></a>Referenzen\n",
    "==="
   ]
  },
  {
   "cell_type": "markdown",
   "metadata": {},
   "source": [
    "* Ausführlicher und weiterführender Python Kurs auf Beginner-Level. Diente als Grundlage für diesen kurz-Workshop, auch basierend auf Jupyter-Notebooks: https://github.com/leriomaggio/python-in-a-notebook\n",
    "* Tutorial zum einfachen Plotten mit ```matplotlib```: https://matplotlib.org/users/pyplot_tutorial.html\n",
    "* Python in den Geowissenschaften - mehr zum Lesen als zum Üben, hat aber ein paar hilfreichen Links zu weiteren Tutorials: http://earthpy.org/category/introduction-to-python.html\n",
    "* Spezielle Plot-Umgebung für Plots auf Karten. Gallerie: https://matplotlib.org/basemap/users/examples.html, Dokumentation: https://matplotlib.org/basemap/"
   ]
  },
  {
   "cell_type": "code",
   "execution_count": null,
   "metadata": {},
   "outputs": [],
   "source": []
  }
 ],
 "metadata": {
  "kernelspec": {
   "display_name": "Python 3",
   "language": "python",
   "name": "python3"
  },
  "language_info": {
   "codemirror_mode": {
    "name": "ipython",
    "version": 3
   },
   "file_extension": ".py",
   "mimetype": "text/x-python",
   "name": "python",
   "nbconvert_exporter": "python",
   "pygments_lexer": "ipython3",
   "version": "3.6.6"
  }
 },
 "nbformat": 4,
 "nbformat_minor": 1
}
