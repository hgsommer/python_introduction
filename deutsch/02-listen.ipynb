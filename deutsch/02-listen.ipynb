{
 "cells": [
  {
   "cell_type": "markdown",
   "metadata": {},
   "source": [
    "<a name=\"top\"></a>Übersicht: Listen\n",
    "==="
   ]
  },
  {
   "cell_type": "markdown",
   "metadata": {},
   "source": [
    "* [Listen](#listen)\n",
    "  * [Index](#index)\n",
    "  * [Iteration über Listen](#iteration)\n",
    "  * [Slicing](#slicing)\n",
    "  * [Kopieren](#kopieren)\n",
    "* [Übung 02: Listen](#uebung02)"
   ]
  },
  {
   "cell_type": "markdown",
   "metadata": {},
   "source": [
    "**Lernziele:** Am Ende dieser Einheit\n",
    "* wisst ihr, was ein _interierbarer_ Kontainer in Python ist,\n",
    "* wisst ihr, wie ihr Variablen in Listen speichern und auf sie zugreifen könnt"
   ]
  },
  {
   "cell_type": "markdown",
   "metadata": {},
   "source": [
    "<a name=\"listen\"></a>Listen\n",
    "==="
   ]
  },
  {
   "cell_type": "markdown",
   "metadata": {},
   "source": [
    "* Listen sind Sammlungen von Variablen, die ebenfalls in einer Variablen gespeichert werden\n",
    "* In einer Liste können beliebige Variablen gespeichert werden\n",
    "* Listen werden mithilfe von eckigen Klammern definiert\n",
    "* Variablen innerhalb einer Liste werden durch Kommas getrennt"
   ]
  },
  {
   "cell_type": "markdown",
   "metadata": {},
   "source": [
    "Jedes Objekt in Python das aus einer Sammlung von anderen Objekten besteht ist eine sogenannte **Iterable**, d.h. wir können über die einzelnen Objekte in der Sammlung *iterieren*."
   ]
  },
  {
   "cell_type": "code",
   "execution_count": null,
   "metadata": {},
   "outputs": [],
   "source": [
    "# das ist eine Liste\n",
    "data_types = ['integer', 'float', 'string', 'list']\n",
    "\n",
    "# und so iteriert man über alle Elemente der Liste\n",
    "for typ in data_types:\n",
    "    print (\"{} ist ein Datentyp in Python\".format(typ))"
   ]
  },
  {
   "cell_type": "markdown",
   "metadata": {},
   "source": [
    "[top](#top)"
   ]
  },
  {
   "cell_type": "markdown",
   "metadata": {},
   "source": [
    "<a name=\"index\"></a>Index\n",
    "---"
   ]
  },
  {
   "cell_type": "markdown",
   "metadata": {},
   "source": [
    "Um auf ein spezifisches Element in einer Liste zuzugreifen, benutzen wir seinen _index_ (also seine Position) in der Liste. \n",
    "\n",
    "**WICHTIG:** Der Index startet bei _null_!"
   ]
  },
  {
   "cell_type": "code",
   "execution_count": null,
   "metadata": {},
   "outputs": [],
   "source": [
    "# greife auf das Element an stelle 0 zu\n",
    "first_type = data_types[0]\n",
    "print(first_type)"
   ]
  },
  {
   "cell_type": "markdown",
   "metadata": {},
   "source": [
    "Wir können negative Indices benutzen, um die Liste von _hinten_ zu durchlaufen:"
   ]
  },
  {
   "cell_type": "code",
   "execution_count": null,
   "metadata": {},
   "outputs": [],
   "source": [
    "# greife auf das letzte Element in der Liste zu\n",
    "last_type = data_types[-1]\n",
    "print(last_type)"
   ]
  },
  {
   "cell_type": "markdown",
   "metadata": {},
   "source": [
    "Wir können die Anzahl der Elemente einer Liste (Länge der Liste) mit der `len()` Funktion überprüfen:"
   ]
  },
  {
   "cell_type": "code",
   "execution_count": null,
   "metadata": {},
   "outputs": [],
   "source": [
    "# die Länge der Liste data_types\n",
    "number_of_types = len(data_types)\n",
    "\n",
    "print(\"In der Liste data_types sind {} Elemente\" \\\n",
    "      .format(number_of_types))"
   ]
  },
  {
   "cell_type": "markdown",
   "metadata": {},
   "source": [
    "Versucht man, auf eine Position zuzugreifen, die außerhalb der Länge der Liste liegt, erzeugt das einen **IndexError**:"
   ]
  },
  {
   "cell_type": "code",
   "execution_count": null,
   "metadata": {},
   "outputs": [],
   "source": [
    "data_types[4]"
   ]
  },
  {
   "cell_type": "markdown",
   "metadata": {},
   "source": [
    "[top](#top)"
   ]
  },
  {
   "cell_type": "markdown",
   "metadata": {},
   "source": [
    "<a name=\"iteration\"></a>Iteration über Listen\n",
    "---"
   ]
  },
  {
   "cell_type": "markdown",
   "metadata": {},
   "source": [
    "Das Iterieren über Listen ist eines der wichtigsten Konzepte in Python und wenn man regelmäßig mit größeren Datenmengen zu tun hat oder Aktionen automatisieren möchte. Eine Liste kann mehrere Millionen Elemente haben, trotzdem kann ich mit Hilfe der Iteration über die Liste mit nur drei Zeilen Code eine Aktion für jedes einzelne Element der Liste ausführen."
   ]
  },
  {
   "cell_type": "markdown",
   "metadata": {},
   "source": [
    "##### Der loop"
   ]
  },
  {
   "cell_type": "markdown",
   "metadata": {},
   "source": [
    "Um jedes einzelne Element der Liste einmal \"anzufassen\" benutzen wir einen sogenannten _loop_ (eine Schleife). Ein loop ist ein Stück Code das für jedes Element der Liste wiederholt wird bis es keine Elemente mehr gibt oder bis eine Abbruchbedingung erreicht ist.  \n",
    "Das folgende Stück Code läuft vier mal (ein mal für jedes Element in der Liste) und gibt jedes Element auf der Kommandozeile aus:"
   ]
  },
  {
   "cell_type": "code",
   "execution_count": null,
   "metadata": {},
   "outputs": [],
   "source": [
    "for typ in data_types:\n",
    "    print(typ)"
   ]
  },
  {
   "cell_type": "markdown",
   "metadata": {},
   "source": [
    "Was ist hier passiert?\n",
    "* das Wort `for` ist ein sogenanntes Kontroll-Statement (Keyword) in Python das benutzt wird, um einen _loop_ zu starten.\n",
    "* `typ` ist eine _temporäre_ Variable die dem Programm nur _innerhalb_ des loops bekannt ist.\n",
    "* Die temporäre Variable hat für jede Iteration des loops den Wert des aktuellen Elements.\n",
    "* Der loop läuft vier mal, einmal für jedes Element in der Liste und hört dann selbstständig auf.  \n",
    "\n",
    "**WICHTIG:** Der Doppelpunkt am Ende der ersten Zeile ist wichtig! Er bedeutet, dass das Kontroll-Element an dieser Stelle aufhört und der loop beginnt."
   ]
  },
  {
   "cell_type": "markdown",
   "metadata": {},
   "source": [
    "##### Innerhalb und außerhalb von Loops"
   ]
  },
  {
   "cell_type": "markdown",
   "metadata": {},
   "source": [
    "In Python benutzen wir _Einrückungen_ um festzulegen, welche Teile des Codes innerhalb und welche außerhalb des loops liegen. Im Prinzip zählt schon ein einzelnes Leerzeichen als Einrückung aber es ist gute Praxis, Blöcke vier Leerzeichen einzurücken, um den Code lesbarer zu machen. "
   ]
  },
  {
   "cell_type": "code",
   "execution_count": null,
   "metadata": {},
   "outputs": [],
   "source": [
    "# Kopfzeile des loops\n",
    "for typ in data_types: \n",
    "    # hier beginnt der Bereich der \n",
    "    # innerhalb des Loops liegt und\n",
    "    # vier mal ausgeführt wird\n",
    "\n",
    "    # diese Aktion ist immer gleich\n",
    "    print('ein Datentyp in Python:')\n",
    "\n",
    "    # hier wird das aktuelle Element\n",
    "    # und ein zusätzlicher Zeilenumbruch ausgegeben\n",
    "    print(typ + '\\n')\n",
    "\n",
    "# diese Zeile wird nur einmal ausgegeben,\n",
    "# da sie außerhalb des loops liegt\n",
    "print('Nun ist der loop zu Ende')"
   ]
  },
  {
   "cell_type": "markdown",
   "metadata": {},
   "source": [
    "Neben dem Wert einer Variablen in einer Liste könnte auch ihr Index interessant sein. Python bietet uns zwei praktische Wege, um an den Index zu kommen. Erstens mit Hilfe der `list.index()` Funktion:"
   ]
  },
  {
   "cell_type": "code",
   "execution_count": null,
   "metadata": {},
   "outputs": [],
   "source": [
    "# gibt den Index eines spezifischen Elements\n",
    "# einer liste zurück\n",
    "index = data_types.index('float')\n",
    "print(index)"
   ]
  },
  {
   "cell_type": "markdown",
   "metadata": {},
   "source": [
    "Zweitens mit Hilfe der `enumerate()` Funktion:"
   ]
  },
  {
   "cell_type": "code",
   "execution_count": null,
   "metadata": {},
   "outputs": [],
   "source": [
    "# enumerate gibt uns für jedes Element einer\n",
    "# Liste seinen Wert und seinen Index zurück\n",
    "for index, value in enumerate(data_types):\n",
    "    print(\"der {}. Datentyp ist {}\".format(index, value))"
   ]
  },
  {
   "cell_type": "markdown",
   "metadata": {},
   "source": [
    "Natürlich können wir die Werte die uns `enumerate()` liefert auch modifizieren, bevor wir sie ausgeben:"
   ]
  },
  {
   "cell_type": "code",
   "execution_count": null,
   "metadata": {},
   "outputs": [],
   "source": [
    "print('Eigentlich ergibt null als Index wenig Sinn...')\n",
    "for index, value in enumerate(data_types):\n",
    "    print(\"der {}. Datentyp ist {}\".format(index + 1, value))"
   ]
  },
  {
   "cell_type": "markdown",
   "metadata": {},
   "source": [
    "[top](#top)"
   ]
  },
  {
   "cell_type": "markdown",
   "metadata": {},
   "source": [
    "<a name=\"slicing\"></a>Slicing\n",
    "---"
   ]
  },
  {
   "cell_type": "markdown",
   "metadata": {},
   "source": [
    "Ein sehr mächtiges Werkzeug um auf eine Untermenge von Elementen in Listen zuzugreifen ist das sogenannte \"slicing\". Dafür brauchen wir\n",
    "* den Startindex der Untermenge\n",
    "* den Endindex der Untermenge\n",
    "* die Größe der Schritte zwischen einzelnen Elementen der Untermenge (standardmäßig ist sie auf 1 gesetzt)  \n",
    "\n",
    "Syntax: `[start : stop (: step)]`"
   ]
  },
  {
   "cell_type": "code",
   "execution_count": null,
   "metadata": {},
   "outputs": [],
   "source": [
    "# wir bauen uns eine neue Liste mit Zahlen\n",
    "numbers = [1, 2, 3, 4, 5, 6, 7]\n",
    "print(numbers)"
   ]
  },
  {
   "cell_type": "code",
   "execution_count": null,
   "metadata": {},
   "outputs": [],
   "source": [
    "# greife auf das zweite bis vierte Element zu\n",
    "print(numbers[2:5])"
   ]
  },
  {
   "cell_type": "markdown",
   "metadata": {},
   "source": [
    "**WICHTIG:** der Zugriff erfolgt immer _exklusive_ des Endindex!"
   ]
  },
  {
   "cell_type": "code",
   "execution_count": null,
   "metadata": {},
   "outputs": [],
   "source": [
    "# greife auf alle geraden Zahlen zu\n",
    "# indem wir bei 2 starten und die Schrittweite\n",
    "# auf zwei setzen\n",
    "even = numbers[1::2]\n",
    "print(even)"
   ]
  },
  {
   "cell_type": "code",
   "execution_count": null,
   "metadata": {},
   "outputs": [],
   "source": [
    "# greife auf die ersten beiden Elemente zu\n",
    "print(numbers[:2])"
   ]
  },
  {
   "cell_type": "code",
   "execution_count": null,
   "metadata": {},
   "outputs": [],
   "source": [
    "# greife auf die letzen vier Elemente zu\n",
    "print(numbers[-4:])"
   ]
  },
  {
   "cell_type": "markdown",
   "metadata": {},
   "source": [
    "**WICHTIG:** Wenn wir den Startindex weglassen, greift Python auf alle Elemente _ab dem Start der Liste_ zu. Lassen wir den Endindex weg, dann wird automatisch auf alle Elemente _bis zum Ende der Liste_ zugegriffen."
   ]
  },
  {
   "cell_type": "markdown",
   "metadata": {},
   "source": [
    "[top](#top)"
   ]
  },
  {
   "cell_type": "markdown",
   "metadata": {},
   "source": [
    "<a name=\"kopieren\"></a>Kopieren\n",
    "---"
   ]
  },
  {
   "cell_type": "markdown",
   "metadata": {},
   "source": [
    "Einem so erzeugten sclice können wir natürlich auch wieder eine Variable zuweisen."
   ]
  },
  {
   "cell_type": "code",
   "execution_count": null,
   "metadata": {},
   "outputs": [],
   "source": [
    "# erstelle eine neue Liste mit Strings\n",
    "strings = ['here', 'there', 'and', 'all', 'over']\n",
    "\n",
    "# erstelle einen slice der Liste\n",
    "slc = strings[:2]\n",
    "print(slc)"
   ]
  },
  {
   "cell_type": "markdown",
   "metadata": {},
   "source": [
    "Ganze Listen können wir kopieren, indem wir sowohl den Startindex als auch den Endindex frei lassen:"
   ]
  },
  {
   "cell_type": "code",
   "execution_count": null,
   "metadata": {},
   "outputs": [],
   "source": [
    "# erstelle eine Kopie der Liste\n",
    "copied_strings = strings[:]\n",
    "print(copied_strings)"
   ]
  },
  {
   "cell_type": "markdown",
   "metadata": {},
   "source": [
    "Warum ist es wichtig, Kopien von Listen zu erstellen?"
   ]
  },
  {
   "cell_type": "code",
   "execution_count": null,
   "metadata": {},
   "outputs": [],
   "source": [
    "# naiv könnte man meinen, kopieren funktioniert so:\n",
    "new_strings = strings\n",
    "print(strings)\n",
    "print(new_strings)"
   ]
  },
  {
   "cell_type": "code",
   "execution_count": null,
   "metadata": {},
   "outputs": [],
   "source": [
    "# verändere ein Element der Liste 'strings'\n",
    "strings[0] = 1\n",
    "\n",
    "# was passiert mit der Liste new_strings?\n",
    "print(new_strings)"
   ]
  },
  {
   "cell_type": "code",
   "execution_count": null,
   "metadata": {},
   "outputs": [],
   "source": [
    "new_strings = strings[:]\n",
    "print(new_strings)\n",
    "strings[0] = '2'\n",
    "print(new_strings)"
   ]
  },
  {
   "cell_type": "markdown",
   "metadata": {},
   "source": [
    "**WICHTIG:** Listen die andere Listen als Wert zugewiesen bekommen sind nur verschiedene _Referenzen_ auf ein und dieselbe Sammlung von Elementen, _keine_ Kopie!"
   ]
  },
  {
   "cell_type": "markdown",
   "metadata": {},
   "source": [
    "Bei sogenannten _elementaren_ Datentypen wie Zahlen ist das allerdins anders:"
   ]
  },
  {
   "cell_type": "code",
   "execution_count": null,
   "metadata": {},
   "outputs": [],
   "source": [
    "# selbes Prinzip wie oben\n",
    "a = 10\n",
    "\n",
    "# hier findet allerdings eine richtige Kopie\n",
    "# des Wertes statt!\n",
    "b = a\n",
    "\n",
    "print('b vor Veränderung von a: {}'.format(b))\n",
    "\n",
    "# verändere den Wert von a\n",
    "a = 14\n",
    "print('a hat jetzt den Wert {}!'.format(a))\n",
    "\n",
    "# der Wert von b hat sich nicht verändert\n",
    "print('b nach Veränderung von a: {}'.format(b))"
   ]
  },
  {
   "cell_type": "markdown",
   "metadata": {},
   "source": [
    "[top](#top)"
   ]
  },
  {
   "cell_type": "markdown",
   "metadata": {},
   "source": [
    "<a name=\"uebung02\"></a>Übung 02: Listen\n",
    "==="
   ]
  },
  {
   "cell_type": "markdown",
   "metadata": {
    "collapsed": true
   },
   "source": [
    "1. **Listen und loops**\n",
    "  1. Erstelle eine Liste von Strings, die zusammen einen Satz bilden.\n",
    "  2. Addiere alle Strings zu einem einzigen String indem du mit einem `for` loop über die Liste iterierst.  \n",
    "  HINWEIS: Definiere außerhalb des loops eine neue Variable, in der der neue String gespeichert wird.\n",
    "  3. Erstelle eine Liste mit ganzen Zahlen von 1 bis 10. Gib alle geraden und dann alle ungeraden Zahlen in der Liste aus. Gib nur die ersten drei und dann nur die letzten drei Elemente der Liste aus.\n",
    "  5. **(Optional)** Erstelle eine Liste mit 5 beliebigen Zahlen. Iteriere über die Liste und addiere zu jeder Zahl die Summe aller Elemente der Liste. Speichere das Ergebnis in einer neuen Liste.  \n",
    "  HINWEIS: `sum()` berechnet automatisch die Summe der Elemente einer Liste.\n",
    "  6. **(Optional)** Setze jedes zweite Element der Liste gleich null, indem du eine slice-Operation benutzt."
   ]
  },
  {
   "cell_type": "markdown",
   "metadata": {},
   "source": [
    "[top](#top)"
   ]
  }
 ],
 "metadata": {
  "kernelspec": {
   "display_name": "Python 3",
   "language": "python",
   "name": "python3"
  },
  "language_info": {
   "codemirror_mode": {
    "name": "ipython",
    "version": 3
   },
   "file_extension": ".py",
   "mimetype": "text/x-python",
   "name": "python",
   "nbconvert_exporter": "python",
   "pygments_lexer": "ipython3",
   "version": "3.6.6"
  }
 },
 "nbformat": 4,
 "nbformat_minor": 1
}
