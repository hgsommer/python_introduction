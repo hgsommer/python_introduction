{
 "cells": [
  {
   "cell_type": "markdown",
   "metadata": {},
   "source": [
    "<a name='loesung03'></a>Lösung zur Übung 03\n",
    "==="
   ]
  },
  {
   "cell_type": "code",
   "execution_count": null,
   "metadata": {},
   "outputs": [],
   "source": [
    "# 1.a\n",
    "zahl = 3\n",
    "if zahl % 3 == 0:\n",
    "    print('durch 3 teilbar')"
   ]
  },
  {
   "cell_type": "code",
   "execution_count": null,
   "metadata": {},
   "outputs": [],
   "source": [
    "# 1.b\n",
    "word = 'tes'\n",
    "if 'e' in word and len(word) < 5:\n",
    "    print('e in \"{}\" und len(\"{}\") < 5'.format(word, word))"
   ]
  },
  {
   "cell_type": "code",
   "execution_count": null,
   "metadata": {},
   "outputs": [],
   "source": [
    "# 2.1\n",
    "numbers = [0,1,2,3,4,5,6,7,8,9,10,11,12,13,14,15,16,17,18,19,20]\n",
    "# oder\n",
    "numbers = list(range(0,21))\n",
    "\n",
    "# iteriere über alle Zahlen in der Liste\n",
    "for number in numbers:\n",
    "\n",
    "    # Fall für die null\n",
    "    if number == 0:\n",
    "        print('null gefunden!')\n",
    "\n",
    "    # Fall für gerade Zahlen\n",
    "    elif number % 2 == 0:\n",
    "        print('{} ist eine gerade Zahl!'.format(number))\n",
    "        # Extrafall für die Zwei (gerade UND prim!)\n",
    "        if number == 2:\n",
    "            print('{} ist eine Primzahl!'.format(number))\n",
    "\n",
    "    # Fall für die Primzahlen\n",
    "    else:\n",
    "        # wir nehmen erstmal an, die Zahl sei prim und \n",
    "        # überzeugen uns dann vom Gegenteil\n",
    "        prime = True\n",
    "\n",
    "        # iteriere über alle Zahlen, die wir bis jetzt\n",
    "        # schon überprüft haben und teste, ob sie Teiler\n",
    "        # der aktuellen Zahl sind\n",
    "        for factor in numbers[2:number]: \n",
    "            if number % factor == 0:\n",
    "                # wenn ja, setze prime auf False\n",
    "                prime = False\n",
    "\n",
    "        # Wenn kein Teiler gefunden wurde, dann ist prime \n",
    "        # immer noch True und die aktuelle Zahl eine Primzahl\n",
    "        if prime:\n",
    "            print('{} ist eine Primzahl!'.format(number))"
   ]
  }
 ],
 "metadata": {
  "kernelspec": {
   "display_name": "Python 3",
   "language": "python",
   "name": "python3"
  },
  "language_info": {
   "codemirror_mode": {
    "name": "ipython",
    "version": 3
   },
   "file_extension": ".py",
   "mimetype": "text/x-python",
   "name": "python",
   "nbconvert_exporter": "python",
   "pygments_lexer": "ipython3",
   "version": "3.6.6"
  }
 },
 "nbformat": 4,
 "nbformat_minor": 2
}
