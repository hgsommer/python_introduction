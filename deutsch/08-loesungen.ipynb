{
 "cells": [
  {
   "cell_type": "markdown",
   "metadata": {},
   "source": [
    "<a name=\"loesung07\"></a>Lösung Übung 07\n",
    "==="
   ]
  },
  {
   "cell_type": "code",
   "execution_count": null,
   "metadata": {},
   "outputs": [],
   "source": [
    "# 1.a\n",
    "# importiere sowohl random als auch numpy\n",
    "# merke: numpy ist von jetzt an mit dem Kürzel \"np\"\n",
    "# aufrufbar!\n",
    "import random\n",
    "import numpy as np\n",
    "\n",
    "# erstelle eine Liste mit 100 Zufallszahlen zwischen 0 und 100\n",
    "numbers = [random.randint(0, 100) for i in range(100)]\n",
    "# konvertiere die Liste in ein Array\n",
    "numbers = np.asarray(numbers)\n",
    "# \"forme\" das eindimensionale Array zu einer zweidimensionalen\n",
    "# 10x10 Matrix um\n",
    "numbers = numbers.reshape((10, 10))\n",
    "print(numbers)"
   ]
  },
  {
   "cell_type": "code",
   "execution_count": null,
   "metadata": {},
   "outputs": [],
   "source": [
    "# 1.b\n",
    "np.savetxt('zufaellige-zahlen.txt', numbers)"
   ]
  },
  {
   "cell_type": "code",
   "execution_count": null,
   "metadata": {},
   "outputs": [],
   "source": [
    "# 1.c\n",
    "# Dokumentation zu numpy.random.randint:\n",
    "# https://docs.scipy.org/doc/numpy/reference/generated/numpy.random.randint.html\n",
    "\n",
    "numbers = np.random.randint(0, 101, (10,10))\n",
    "print(numbers)"
   ]
  },
  {
   "cell_type": "code",
   "execution_count": null,
   "metadata": {},
   "outputs": [],
   "source": [
    "# 1.d\n",
    "print('oben links:')\n",
    "oben_links = numbers[0:5, 0:5]\n",
    "print(oben_links)\n",
    "print('oben rechts')\n",
    "oben_rechts = numbers[0:5, 5:]\n",
    "print(oben_rechts)\n",
    "print('unten links')\n",
    "unten_links = numbers [5:, 0:5]\n",
    "print(unten_links)\n",
    "print('unten rechts')\n",
    "unten_rechts = numbers[5:, 5:]\n",
    "print(unten_rechts)"
   ]
  },
  {
   "cell_type": "code",
   "execution_count": null,
   "metadata": {},
   "outputs": [],
   "source": [
    "# 1.e\n",
    "matrix_produkt = np.dot(oben_links, oben_rechts)\n",
    "print(matrix_produkt)\n",
    "\n",
    "# etc für die anderen Produkte"
   ]
  },
  {
   "cell_type": "code",
   "execution_count": null,
   "metadata": {},
   "outputs": [],
   "source": [
    "# 1.f\n",
    "# erstelle eine neue Matrix\n",
    "# schaue in der Matrix oben_rechts nach:\n",
    "# wenn oben_rechts > 50, nimm ein Element aus unten_links\n",
    "# wenn oben_rechts < 50, nimm ein Element aus unten_rechts\n",
    "neue_matrix = np.where(oben_rechts > 50, unten_links, unten_rechts)\n",
    "print(neue_matrix)"
   ]
  }
 ],
 "metadata": {
  "kernelspec": {
   "display_name": "Python 3",
   "language": "python",
   "name": "python3"
  },
  "language_info": {
   "codemirror_mode": {
    "name": "ipython",
    "version": 3
   },
   "file_extension": ".py",
   "mimetype": "text/x-python",
   "name": "python",
   "nbconvert_exporter": "python",
   "pygments_lexer": "ipython3",
   "version": "3.6.6"
  }
 },
 "nbformat": 4,
 "nbformat_minor": 1
}
