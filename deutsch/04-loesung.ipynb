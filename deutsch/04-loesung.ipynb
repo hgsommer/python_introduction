{
 "cells": [
  {
   "cell_type": "markdown",
   "metadata": {},
   "source": [
    "<a name=\"loesung04\"></a>Lösung zu Übung 04\n",
    "==="
   ]
  },
  {
   "cell_type": "code",
   "execution_count": null,
   "metadata": {},
   "outputs": [],
   "source": [
    "# 1.a\n",
    "namen = ['Jana']\n",
    "namen.append('Katrin')\n",
    "namen.append('Bianca')\n",
    "namen.insert(2,'Susanne')\n",
    "namen.extend(['Sophia'])\n",
    "print(namen)"
   ]
  },
  {
   "cell_type": "code",
   "execution_count": null,
   "metadata": {},
   "outputs": [],
   "source": [
    "# 1.b\n",
    "neue_liste = []\n",
    "for name, index in enumerate(namen):\n",
    "    neue_liste.append(index * name)\n",
    "    \n",
    "print(neue_liste)"
   ]
  },
  {
   "cell_type": "code",
   "execution_count": null,
   "metadata": {},
   "outputs": [],
   "source": [
    "# 1.c\n",
    "buchstaben = 0\n",
    "for name in namen:\n",
    "    buchstaben = buchstaben + len(name)\n",
    "    \n",
    "print('Länge der Liste: {}, Anzahl der Buchstaben: {}'\\\n",
    "      .format(len(namen), buchstaben))"
   ]
  },
  {
   "cell_type": "code",
   "execution_count": null,
   "metadata": {},
   "outputs": [],
   "source": [
    "# 1.d\n",
    "gerade_zahlen = list(range(2,51,2))\n",
    "print(gerade_zahlen)\n",
    "\n",
    "summe = 0\n",
    "for zahl in gerade_zahlen:\n",
    "    summe = summe + zahl\n",
    "\n",
    "print('Summe aus dem Loop: {}, Summe mit sum(): {}'\\\n",
    "     .format(summe, sum(gerade_zahlen)))"
   ]
  },
  {
   "cell_type": "code",
   "execution_count": null,
   "metadata": {},
   "outputs": [],
   "source": [
    "# 2.a\n",
    "cubes = [zahl ** 3 for zahl in range(0, 11)]\n",
    "print(cubes)"
   ]
  },
  {
   "cell_type": "code",
   "execution_count": null,
   "metadata": {},
   "outputs": [],
   "source": [
    "# 2.b\n",
    "fibonacci = [0, 1]\n",
    "\n",
    "for i in range(98):\n",
    "    fibonacci.append(fibonacci[-1] + fibonacci[-2])\n",
    "    \n",
    "print(fibonacci)"
   ]
  }
 ],
 "metadata": {
  "kernelspec": {
   "display_name": "Python 3",
   "language": "python",
   "name": "python3"
  },
  "language_info": {
   "codemirror_mode": {
    "name": "ipython",
    "version": 3
   },
   "file_extension": ".py",
   "mimetype": "text/x-python",
   "name": "python",
   "nbconvert_exporter": "python",
   "pygments_lexer": "ipython3",
   "version": "3.6.6"
  }
 },
 "nbformat": 4,
 "nbformat_minor": 2
}
