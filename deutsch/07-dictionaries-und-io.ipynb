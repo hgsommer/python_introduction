{
 "cells": [
  {
   "cell_type": "markdown",
   "metadata": {},
   "source": [
    "<a name=\"top\"></a>Übersicht: Dictionaries & I/O\n",
    "==="
   ]
  },
  {
   "cell_type": "markdown",
   "metadata": {},
   "source": [
    "* [Dictionaries](#dictionaries)\n",
    "  * [Indizierung](#dindex)\n",
    "  * [Iteration](#diteration)\n",
    "  * [Bearbeiten](#dmodify)\n",
    "\n",
    "* [Input/Output](#inputoutput)\n",
    "  * [Lesen von Dateien](#reading)\n",
    "  * [Schreiben von Dateien](#writing)\n",
    "  * [Nutzereingaben](#userinteraction)\n",
    "\n",
    "* [Exercise 07: Dictionaries & I/O](#exercise07)"
   ]
  },
  {
   "cell_type": "markdown",
   "metadata": {},
   "source": [
    "**Lernziele:** Am Ende dieser Einheit\n",
    "* wisst ihr, wie man Variablen in Dictionaries speichert und abruft\n",
    "* könnt ihr Dateien lesen und schreiben\n",
    "* könnt ihr Eingaben vom Nutzer anfordern und verarbeiten"
   ]
  },
  {
   "cell_type": "markdown",
   "metadata": {},
   "source": [
    "# <a name=\"dictionaries\"></a>Dictionaries"
   ]
  },
  {
   "cell_type": "markdown",
   "metadata": {},
   "source": [
    "Dictionaries sind neben Listen ein weiterer Datentyp für eine Sammlung von mehreren Elementen.\n",
    "\n",
    "Gemeinsamkeiten mit Listen:\n",
    "* Sammlung von Variablen, die wiederum in einer Variable gespeichert sind\n",
    "* es können beliebige Variablen gespeichert werden\n",
    "\n",
    "Unterschiede:\n",
    "* Elemente werden nicht über ihre Position (Index) angesprochen, sondern über ihren _Schlüssel_ (_key_)\n",
    "* Bei der Deklaration werden geschweifte Klammern `{}` statt eckigen Klammern `[]` verwendet\n",
    "\n",
    "Andere Bezeichnungen für so einen Datentyp sind z. B. _map_, _Assoziatives Array_, _Hashtable/Hashmap_\n",
    "\n",
    "Dictionaries bilden _Schlüssel_ auf _Werte_ ab, z. B.:\n",
    "\n",
    "* Wort $\\rightarrow$ Bedeutung oder Übersetzung (Wörterbuch)\n",
    "* Name $\\rightarrow$ Telefonnummer (Telefonbuch)\n",
    "* Einstellung $\\rightarrow$ Wert (Programmkonfiguration)"
   ]
  },
  {
   "cell_type": "markdown",
   "metadata": {},
   "source": [
    "##### Beispiel"
   ]
  },
  {
   "cell_type": "code",
   "execution_count": null,
   "metadata": {},
   "outputs": [],
   "source": [
    "# ein Dictionary, das Strings als Schlüssel verwendet\n",
    "data_types = {'integer': 'Ganzzahl',\n",
    "              'float': 'Dezimalzahl',\n",
    "              'string': 'Zeichenkette',\n",
    "              'list': 'Sammlung von Elementen mit Index'}"
   ]
  },
  {
   "cell_type": "markdown",
   "metadata": {},
   "source": [
    "[top](#top)"
   ]
  },
  {
   "cell_type": "markdown",
   "metadata": {},
   "source": [
    "## <a name=\"dindex\"></a>Indizierung"
   ]
  },
  {
   "cell_type": "markdown",
   "metadata": {},
   "source": [
    "Während Listen mit Zahlen indiziert werden, verwenden Dictionaries _Schlüssel_. Meistens werden dafür Integer oder Strings genutzt."
   ]
  },
  {
   "cell_type": "code",
   "execution_count": null,
   "metadata": {},
   "outputs": [],
   "source": [
    "# Zugriff auf ein Element\n",
    "int_type = data_types['integer']\n",
    "print(int_type)"
   ]
  },
  {
   "cell_type": "markdown",
   "metadata": {},
   "source": [
    "Um die Anzahl der Elemente eines Dictionary zu bestimmen, können wir wieder die Funktion `len()` verwenden:"
   ]
  },
  {
   "cell_type": "code",
   "execution_count": null,
   "metadata": {},
   "outputs": [],
   "source": [
    "# Anzahl an gespeicherten Datentypen\n",
    "number_of_types = len(data_types)\n",
    "\n",
    "print('Das Dictionary data_types enthält {} Elemente.'\n",
    "      .format(number_of_types))"
   ]
  },
  {
   "cell_type": "markdown",
   "metadata": {},
   "source": [
    "Der Zugriff auf ein nicht vorhandenes Element ergibt einen Fehler (**KeyError**):"
   ]
  },
  {
   "cell_type": "code",
   "execution_count": null,
   "metadata": {},
   "outputs": [],
   "source": [
    "data_types['bicycle']"
   ]
  },
  {
   "cell_type": "markdown",
   "metadata": {},
   "source": [
    "Wir können mit dem `in`-Operator überprüfen, ob ein Dictionary einen Wert zu dem gefragten Schlüssel gespeichert hat:"
   ]
  },
  {
   "cell_type": "code",
   "execution_count": null,
   "metadata": {},
   "outputs": [],
   "source": [
    "test_types = ['integer', 'bicycle']\n",
    "\n",
    "for test in test_types:\n",
    "    if test in data_types:\n",
    "        print('{} is in data_types'.format(test))\n",
    "    else:\n",
    "        print('{} is not in data_types'.format(test))"
   ]
  },
  {
   "cell_type": "markdown",
   "metadata": {},
   "source": [
    "[top](#top)"
   ]
  },
  {
   "cell_type": "markdown",
   "metadata": {},
   "source": [
    "## <a name=\"diteration\"></a>Iteration über Dictionaries"
   ]
  },
  {
   "cell_type": "markdown",
   "metadata": {},
   "source": [
    "Dictionaries können wie Listen iteriert werden, es gibt aber mehrere Möglichkeiten, das zu tun:\n",
    "* Iteration über die Schlüssel (der Normalfall)\n",
    "* Iteration über Paare von Schlüssel und Wert"
   ]
  },
  {
   "cell_type": "markdown",
   "metadata": {},
   "source": [
    "##### Iteration über Schlüssel"
   ]
  },
  {
   "cell_type": "markdown",
   "metadata": {},
   "source": [
    "Wir haben bereits `for`-Schleifen genutzt, um auf Elemente einer Liste zuzugreifen. Das gleiche machen wir jetzt mit den Schlüsseln des Dictionary. In diesem Fall läuft die Schleife also vier mal:"
   ]
  },
  {
   "cell_type": "code",
   "execution_count": null,
   "metadata": {},
   "outputs": [],
   "source": [
    "# Iteration über die Schlüssel\n",
    "for key in data_types:\n",
    "    print('{} ist ein Datentyp in Python.'.format(key))"
   ]
  },
  {
   "cell_type": "markdown",
   "metadata": {},
   "source": [
    "##### Iteration über Schlüssel-Wert-Paare\n",
    "\n",
    "Um über die Paare aus Schlüssel und Wert zu iterieren, können wir die `dict.items()`-Funktion nutzen:"
   ]
  },
  {
   "cell_type": "code",
   "execution_count": null,
   "metadata": {},
   "outputs": [],
   "source": [
    "# Iteration über Schlüssel-Wert-Paare\n",
    "for key, value in data_types.items():\n",
    "    print('{} ist eine {}.'.format(key, value))"
   ]
  },
  {
   "cell_type": "markdown",
   "metadata": {},
   "source": [
    "Natürlich können wir auch über die Schlüssel iterieren und dannn das Dictionary mit dem Schlüssel indizieren. Das ist aber langsamer und etwas unübersichtlicher als die vorherige Variante."
   ]
  },
  {
   "cell_type": "code",
   "execution_count": null,
   "metadata": {},
   "outputs": [],
   "source": [
    "# Iteriert über die Schlüssel und greift manuell auf die Werte zu,\n",
    "# das ist langsamer als die Iteration über die Paare!\n",
    "for key in data_types:\n",
    "    print('{} ist eine {}.'.format(key, data_types[key]))"
   ]
  },
  {
   "cell_type": "markdown",
   "metadata": {},
   "source": [
    "## <a name=\"dmodify\"></a>Dictionaries bearbeiten\n",
    "\n",
    "Variablen in Dictionaries können hinzugefügt, geändert und gelöscht werden."
   ]
  },
  {
   "cell_type": "markdown",
   "metadata": {},
   "source": [
    "##### Elemente hinzufügen oder ändern\n",
    "\n",
    "Um einen Wert zum Dictionary hinzuzufügen oder einen Wert zu ändern, indizieren wir das Dictionary mit dem dazugehörigen Schlüssel und weisen einen Wert zu:"
   ]
  },
  {
   "cell_type": "code",
   "execution_count": null,
   "metadata": {},
   "outputs": [],
   "source": [
    "data_types['dictionary'] = 'samlung von Schlüssel-Wret-Paaren'\n",
    "\n",
    "for key, value in data_types.items():\n",
    "    print('{} ist eine {}.'.format(key, value))"
   ]
  },
  {
   "cell_type": "markdown",
   "metadata": {},
   "source": [
    "Falsch geschrieben, das sollten wir korrigieren:"
   ]
  },
  {
   "cell_type": "code",
   "execution_count": null,
   "metadata": {},
   "outputs": [],
   "source": [
    "print('Ein Dictionary ist eine {}.'.format(data_types['dictionary']))\n",
    "data_types['dictionary'] = 'Sammlung von Schlüssel-Wert-Paaren'\n",
    "print('Ein Dictionary ist eine {}.'.format(data_types['dictionary']))"
   ]
  },
  {
   "cell_type": "markdown",
   "metadata": {},
   "source": [
    "##### Elemente entfernen\n",
    "\n",
    "Um ein Element aus einem Dictionary zu löschen, verwenden wir wieder den `del`-Operator:"
   ]
  },
  {
   "cell_type": "code",
   "execution_count": null,
   "metadata": {},
   "outputs": [],
   "source": [
    "del data_types['float']\n",
    "\n",
    "for key, value in data_types.items():\n",
    "    print('{} ist eine {}.'.format(key, value))"
   ]
  },
  {
   "cell_type": "markdown",
   "metadata": {},
   "source": [
    "[top](#top)"
   ]
  },
  {
   "cell_type": "markdown",
   "metadata": {},
   "source": [
    "# <span id=\"inputoutput\"/>Input & Output"
   ]
  },
  {
   "cell_type": "markdown",
   "metadata": {},
   "source": [
    "## <span id=\"reading\"/>Dateien lesen"
   ]
  },
  {
   "cell_type": "markdown",
   "metadata": {},
   "source": [
    "Wir haben bereits `open()` zum Öffnen von Dateien benutzt.  Die `open()`-Funktion gibt ein **file-Objekt** zurück, das zum Lesen oder Schreiben benutzt werden kann.\n",
    "\n",
    "Wenn keine weiteren Parameter angegeben sind, werden Dateien als Textdatei behandelt und nur zum Lesen geöffnet. Um Text zeilenweise zu lesen, gibt es die Funktion `readline()`.  File-Objekte sind außerdem **iterierbar**, wir können also eine `for`-Schleife zum Auslesen verwenden. Beide Möglichkeiten im Beispiel:"
   ]
  },
  {
   "cell_type": "code",
   "execution_count": null,
   "metadata": {
    "scrolled": true
   },
   "outputs": [],
   "source": [
    "# Textdatei zum Lesen öffnen\n",
    "f = open('text_file.txt')\n",
    "\n",
    "# Zeile lesen und ausgeben\n",
    "line = f.readline()\n",
    "print(line)\n",
    "\n",
    "# Iteriere über die Datei\n",
    "for line in f:\n",
    "    print(line)\n",
    "\n",
    "# Datei schließen\n",
    "f.close()"
   ]
  },
  {
   "cell_type": "markdown",
   "metadata": {},
   "source": [
    "**Beachte:** Python merkt sich die Position, bis zu der gelesen wurde, daher wird die erste Zeile nicht zweimal ausgegeben.\n",
    "\n",
    "Außerdem wird nach jeder Zeile eine Leerzeile ausgegeben, die in der Datei nicht vorhanden war. Das liegt daran, dass Python auch die Zeilenumbrüche aus der Datei liest und `print()` jeweils einen Zeilenumbruch anhängt. Mit der Funktion `str.rstrip()` kann das Beispiel verbessert werden:"
   ]
  },
  {
   "cell_type": "code",
   "execution_count": null,
   "metadata": {},
   "outputs": [],
   "source": [
    "f = open('text_file.txt')\n",
    "\n",
    "# Iteriere über die Datei\n",
    "for line in f:\n",
    "    # str.rstrip() entfernt whitespace (Leerzeichen, Tabs und Zeilenumbrüche)\n",
    "    # vom Ende des Strings\n",
    "    print(line.rstrip())\n",
    "\n",
    "    # oder alternativ den optionalen Parameter 'end' von print() auf den leeren String setzen:\n",
    "    # print(line, end=\"\")\n",
    "\n",
    "f.close()"
   ]
  },
  {
   "cell_type": "markdown",
   "metadata": {},
   "source": [
    "Die Datei mit `close()` zu schließen ist sehr empfehlenswert, da die Datei sonst bis zum Beenden des Programms geöffnet bleibt und Ressourcen belegt.\n",
    "\n",
    "Noch besser ist die Verwendung des `with`-Statements:"
   ]
  },
  {
   "cell_type": "code",
   "execution_count": null,
   "metadata": {},
   "outputs": [],
   "source": [
    "# Datei mit Kontextmanager öffnen\n",
    "# das keyword 'as' sorgt dafür, dass die geöffnete Datei der Variable f zugewiesen wird\n",
    "with open('text_file.txt') as f:\n",
    "    # read() liest den gesamten Inhalt in einen einzigen String\n",
    "    print(f.read())\n",
    "    print('Ist die Datei im Block geschlossen?:', f.closed)\n",
    "    # Am Ende des Blocks wird die Datei automatisch geschlossen.\n",
    "    # Das passiert sogar dann, wenn in dem eingerückten Block ein Fehler auftritt.\n",
    "\n",
    "print('Ist die Datei nach dem Block geschlossen?:', f.closed)"
   ]
  },
  {
   "cell_type": "markdown",
   "metadata": {},
   "source": [
    "[top](#top)"
   ]
  },
  {
   "cell_type": "markdown",
   "metadata": {},
   "source": [
    "## <span id=\"writing\"/>Dateien schreiben"
   ]
  },
  {
   "cell_type": "markdown",
   "metadata": {},
   "source": [
    "Um in eine Datei zu schreiben, muss ein zusätzliche Parameter für `open()` angegeben werden. Dabei gibt es verschiedene Möglichkeiten:\n",
    "\n",
    "* `'w'` (write) überschreibt den Dateiinhalt, falls die Datei schon existiert\n",
    "* `'a'` (append) fügt ans Ende der Datei an\n",
    "* `'r+'` öffnet die Datei zum Lesen und Schreiben\n",
    "\n",
    "Zum Schreiben können wir wieder `print()` verwenden, allerdings mit einem zusätzlichen Parameter, der die Datei angibt, in die geschrieben werden soll."
   ]
  },
  {
   "cell_type": "code",
   "execution_count": null,
   "metadata": {},
   "outputs": [],
   "source": [
    "# Datei zum Schreiben von Text öffnen\n",
    "with open('schreib_test.txt', 'w') as f:\n",
    "    # eine Zeile schreiben\n",
    "    print('Das ist eine Textdatei!', file=f)\n",
    "\n",
    "    # noch ein paar Zeilen mehr in einer Schleife:\n",
    "    for number in range(1, 6):\n",
    "        print('eine Zahl:', number, file=f)"
   ]
  },
  {
   "cell_type": "code",
   "execution_count": null,
   "metadata": {},
   "outputs": [],
   "source": [
    "!cat schreib_test.txt"
   ]
  },
  {
   "cell_type": "markdown",
   "metadata": {},
   "source": [
    "Wir können auch direkt `write()` verwenden, dann müssen wir uns aber selbst um die Formattierung kümmern:"
   ]
  },
  {
   "cell_type": "code",
   "execution_count": null,
   "metadata": {},
   "outputs": [],
   "source": [
    "# Datei zum Schreiben von Text öffnen\n",
    "with open('schreib_test2.txt', 'w') as f:\n",
    "    # eine Zeile schreiben, Zeilenumbruch wird nicht automatisch ergänzt\n",
    "    f.write('Das ist eine Textdatei!\\n')\n",
    "\n",
    "    # write() akzeptiert nur einen String, daher müssen wir die Zahl\n",
    "    # in den String einbauen\n",
    "    for number in range(1, 6):\n",
    "        f.write('eine Zahl: {}\\n'.format(number))"
   ]
  },
  {
   "cell_type": "code",
   "execution_count": null,
   "metadata": {},
   "outputs": [],
   "source": [
    "!cat schreib_test.txt"
   ]
  },
  {
   "cell_type": "markdown",
   "metadata": {},
   "source": [
    "[top](#top)"
   ]
  },
  {
   "cell_type": "markdown",
   "metadata": {},
   "source": [
    "## <span id=\"userinteraction\" />Nutzerinteraktion"
   ]
  },
  {
   "cell_type": "markdown",
   "metadata": {},
   "source": [
    "Manchmal soll ein Programm mit dem Benutzer interagieren können. Um Informationen auszugeben, können wir einfach `print()` benutzen. Für die umgekehrte Richtung gibt es die Funktion `input()`.\n",
    "\n",
    "Die `input()`-Funktion gibt einen String (z. B. eine Frage) aus und erwartet dann eine Eingabe. Das Ergebnis wird dem Programm als String zurückgeliefert."
   ]
  },
  {
   "cell_type": "code",
   "execution_count": null,
   "metadata": {},
   "outputs": [],
   "source": [
    "name = input('Wie heißt du?\\n')\n",
    "print('Hallo {}!'.format(name))"
   ]
  },
  {
   "cell_type": "markdown",
   "metadata": {},
   "source": [
    "Ein weiteres Beispiel, das die `split()`-Funktion nutzt, um den eingegebenen String in einzelne Wörter zu teilen."
   ]
  },
  {
   "cell_type": "code",
   "execution_count": null,
   "metadata": {},
   "outputs": [],
   "source": [
    "s = input('Bitte gib einen Satz ein: ')\n",
    "\n",
    "# zerlege den String an den Leerzeichen\n",
    "words = s.split(' ')\n",
    "\n",
    "word_num = 1\n",
    "for word in words:\n",
    "    print('Wort #{} ist \"{}\".'.format(word_num, word))\n",
    "    word_num = word_num + 1"
   ]
  },
  {
   "cell_type": "markdown",
   "metadata": {},
   "source": [
    "Und noch ein Beispiel mit Entscheidung basierend auf dem Input."
   ]
  },
  {
   "cell_type": "code",
   "execution_count": null,
   "metadata": {},
   "outputs": [],
   "source": [
    "# input() liefert einen String, den wir mit int()\n",
    "# zu einer Zahl umwandeln\n",
    "x = int(input('Bitte eine Zahl eingeben: '))\n",
    "if x < 0:\n",
    "    print('Die Zahl war negativ.')\n",
    "elif x == 0:\n",
    "    print('Null...')\n",
    "elif x < 10:\n",
    "    print('Die Zahl war einstellig.')\n",
    "else:\n",
    "    print('Die Zahl war größer als Zehn.')"
   ]
  },
  {
   "cell_type": "markdown",
   "metadata": {},
   "source": [
    "[top](#top)"
   ]
  },
  {
   "cell_type": "markdown",
   "metadata": {},
   "source": [
    "# <span id=\"exercise07\"/>Übung 07: Dictionaries & I/O"
   ]
  },
  {
   "cell_type": "markdown",
   "metadata": {},
   "source": [
    "1. **Dictionaries**\n",
    "  1. Erstelle ein Dictionary mit Namen und E-Mail-Adressen. Die Namen sollen als Keys verwendet werden.\n",
    "  2. Erstelle ein neues Dictionary, das ebenfalls Namen und E-Mail-Adressen enthält, diesmal aber mit E-Mail-Adressen als Keys. Iteriere dazu mit `for` über das vorherige Dictionary.\n",
    "  3. Füge einige neue Einträge zu dem neuen Dictionary hinzu.\n",
    "  4. Gib das neue Dictionary mit einer `for`-Schleife aus.\n",
    "\n",
    "\n",
    "2. **Buchstabenhäufigkeit**\n",
    "  1. Nimm einen beliebigen Satz oder kurzen Text uns speichere ihn in einer String-Variable. Erstelle ein Dictionary, das für jeden Buchstaben der in dem String vorkommt, speichert, wie oft er enthalten ist und gib es aus.\n",
    "  2. **(Optional)** Gib die Buchstaben und die Anzahl sortiert nach der Häufigkeit aus.\n",
    "\n",
    "\n",
    "3. **Input/Output**\n",
    "\n",
    "  1. Schreibe ein Programm, das Namen und E-Mail-Adressen aus einer Datei liest. Das Programm soll folgendes tun:\n",
    "\n",
    "      1. Namen und E-Mail-Adressen einlesen\n",
    "      2. Die gelesenen Daten ausgeben\n",
    "      3. Den Benutzer nach einem Namen fragen und die dazu passende E-Mail-Adresse ausgeben.\n",
    "\n",
    "    Die Datei `email_addresses.txt` enthält Zeilen in der folgenden Form:\n",
    "\n",
    "    `[Name] [E-Mail-Adresse]`\n",
    "\n",
    "    Jede Zeile enthält einen Namen und eine E-Mail-Adresse, die durch ein Leerzeichen getrennt sind. Da nur Vornamen gespeichert wurden, enthält `Name` keine Leerzeichen.\n",
    "\n",
    "    Hinweis: Nutze die `split()`-Funktion, um jede Zeile in Name und E-Mail-Adresse zu teilen. Das Ergebnis von `split()` ist eine Liste.\n",
    "\n",
    "  2. **(Optional)** Erweitere das Programm so, dass es für nicht vorhandene Namen zusätzlich nach einer E-Mail-Adresse fragt und beides zusammen in die Datei schreibt. Der vorherige Inhalt soll dabei natürlich nicht überschrieben werden."
   ]
  },
  {
   "cell_type": "markdown",
   "metadata": {},
   "source": [
    "[top](#top)"
   ]
  }
 ],
 "metadata": {
  "kernelspec": {
   "display_name": "Python 3",
   "language": "python",
   "name": "python3"
  },
  "language_info": {
   "codemirror_mode": {
    "name": "ipython",
    "version": 3
   },
   "file_extension": ".py",
   "mimetype": "text/x-python",
   "name": "python",
   "nbconvert_exporter": "python",
   "pygments_lexer": "ipython3",
   "version": "3.6.6"
  }
 },
 "nbformat": 4,
 "nbformat_minor": 1
}
