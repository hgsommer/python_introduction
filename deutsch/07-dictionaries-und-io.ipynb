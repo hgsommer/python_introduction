{
 "cells": [
  {
   "cell_type": "markdown",
   "metadata": {},
   "source": [
    "<a name=\"top\"></a>Übersicht: Dictionaries & I/O\n",
    "==="
   ]
  },
  {
   "cell_type": "markdown",
   "metadata": {},
   "source": [
    "* [Dictionaries](#dictionaries)\n",
    "  * [Indizierung](#dindex)\n",
    "  * [Iteration](#diteration)\n",
    "  * [Bearbeiten](#dmodify)\n",
    "\n",
    "* [Input/Output](#inputoutput)\n",
    "  * [Lesen von Dateien](#reading)\n",
    "  * [Schreiben von Dateien](#writing)\n",
    "  * [Lesen und Schreiben von .csv-Dateien](#Pandas)\n",
    "  * [Nutzereingaben](#userinteraction)\n",
    "\n",
    "* [Exercise 07: Dictionaries & I/O](#exercise07)"
   ]
  },
  {
   "cell_type": "markdown",
   "metadata": {},
   "source": [
    "**Lernziele:** Am Ende dieser Einheit\n",
    "* wisst ihr, wie man Variablen in Dictionaries speichert und abruft\n",
    "* könnt ihr Dateien lesen und schreiben\n",
    "* könnt ihr Eingaben vom Nutzer anfordern und verarbeiten"
   ]
  },
  {
   "cell_type": "markdown",
   "metadata": {},
   "source": [
    "# <a name=\"dictionaries\"></a>Dictionaries"
   ]
  },
  {
   "cell_type": "markdown",
   "metadata": {},
   "source": [
    "Dictionaries sind neben Listen ein weiterer Datentyp für eine Sammlung von mehreren Elementen.\n",
    "\n",
    "Gemeinsamkeiten mit Listen:\n",
    "* Sammlung von Variablen, die wiederum in einer Variable gespeichert sind\n",
    "* es können beliebige Variablen gespeichert werden\n",
    "\n",
    "Unterschiede:\n",
    "* Elemente werden nicht über ihre Position (Index) angesprochen, sondern über ihren _Schlüssel_ (_key_)\n",
    "* Bei der Deklaration werden geschweifte Klammern `{}` statt eckigen Klammern `[]` verwendet\n",
    "\n",
    "Andere Bezeichnungen für so einen Datentyp sind z. B. _map_, _Assoziatives Array_, _Hashtable/Hashmap_\n",
    "\n",
    "Dictionaries bilden _Schlüssel_ auf _Werte_ ab, z. B.:\n",
    "\n",
    "* Wort $\\rightarrow$ Bedeutung oder Übersetzung (Wörterbuch)\n",
    "* Name $\\rightarrow$ Telefonnummer (Telefonbuch)\n",
    "* Einstellung $\\rightarrow$ Wert (Programmkonfiguration)"
   ]
  },
  {
   "cell_type": "markdown",
   "metadata": {},
   "source": [
    "##### Beispiel"
   ]
  },
  {
   "cell_type": "code",
   "execution_count": null,
   "metadata": {},
   "outputs": [],
   "source": [
    "# ein Dictionary, das Strings als Schlüssel verwendet\n",
    "data_types = {'integer': 'Ganzzahl',\n",
    "              'float': 'Dezimalzahl',\n",
    "              'string': 'Zeichenkette',\n",
    "              'list': 'Sammlung von Elementen mit Index'}"
   ]
  },
  {
   "cell_type": "markdown",
   "metadata": {},
   "source": [
    "[top](#top)"
   ]
  },
  {
   "cell_type": "markdown",
   "metadata": {},
   "source": [
    "## <a name=\"dindex\"></a>Indizierung"
   ]
  },
  {
   "cell_type": "markdown",
   "metadata": {},
   "source": [
    "Während Listen mit Zahlen indiziert werden, verwenden Dictionaries _Schlüssel_. Meistens werden dafür Integer oder Strings genutzt."
   ]
  },
  {
   "cell_type": "code",
   "execution_count": null,
   "metadata": {},
   "outputs": [],
   "source": [
    "# Zugriff auf ein Element\n",
    "int_type = data_types['integer']\n",
    "print(int_type)"
   ]
  },
  {
   "cell_type": "markdown",
   "metadata": {},
   "source": [
    "Um die Anzahl der Elemente eines Dictionary zu bestimmen, können wir wieder die Funktion `len()` verwenden:"
   ]
  },
  {
   "cell_type": "code",
   "execution_count": null,
   "metadata": {},
   "outputs": [],
   "source": [
    "# Anzahl an gespeicherten Datentypen\n",
    "number_of_types = len(data_types)\n",
    "\n",
    "print('Das Dictionary data_types enthält {} Elemente.'\n",
    "      .format(number_of_types))"
   ]
  },
  {
   "cell_type": "markdown",
   "metadata": {},
   "source": [
    "Der Zugriff auf ein nicht vorhandenes Element ergibt einen Fehler (**KeyError**):"
   ]
  },
  {
   "cell_type": "code",
   "execution_count": null,
   "metadata": {},
   "outputs": [],
   "source": [
    "data_types['bicycle']"
   ]
  },
  {
   "cell_type": "markdown",
   "metadata": {},
   "source": [
    "Wir können mit dem `in`-Operator überprüfen, ob ein Dictionary einen Wert zu dem gefragten Schlüssel gespeichert hat:"
   ]
  },
  {
   "cell_type": "code",
   "execution_count": null,
   "metadata": {},
   "outputs": [],
   "source": [
    "test_types = ['integer', 'bicycle']\n",
    "\n",
    "for test in test_types:\n",
    "    if test in data_types:\n",
    "        print('{} is in data_types'.format(test))\n",
    "    else:\n",
    "        print('{} is not in data_types'.format(test))"
   ]
  },
  {
   "cell_type": "markdown",
   "metadata": {},
   "source": [
    "[top](#top)"
   ]
  },
  {
   "cell_type": "markdown",
   "metadata": {},
   "source": [
    "## <a name=\"diteration\"></a>Iteration über Dictionaries"
   ]
  },
  {
   "cell_type": "markdown",
   "metadata": {},
   "source": [
    "Dictionaries können wie Listen iteriert werden, es gibt aber mehrere Möglichkeiten, das zu tun:\n",
    "* Iteration über die Schlüssel (der Normalfall)\n",
    "* Iteration über Paare von Schlüssel und Wert"
   ]
  },
  {
   "cell_type": "markdown",
   "metadata": {},
   "source": [
    "##### Iteration über Schlüssel"
   ]
  },
  {
   "cell_type": "markdown",
   "metadata": {},
   "source": [
    "Wir haben bereits `for`-Schleifen genutzt, um auf Elemente einer Liste zuzugreifen. Das gleiche machen wir jetzt mit den Schlüsseln des Dictionary. In diesem Fall läuft die Schleife also vier mal:"
   ]
  },
  {
   "cell_type": "code",
   "execution_count": null,
   "metadata": {},
   "outputs": [],
   "source": [
    "# Iteration über die Schlüssel\n",
    "for key in data_types:\n",
    "    print (\"{} ist ein Datentyp in Python.\".format(key))"
   ]
  },
  {
   "cell_type": "markdown",
   "metadata": {},
   "source": [
    "##### Iteration über Schlüssel-Wert-Paare\n",
    "\n",
    "Um über die Paare aus Schlüssel und Wert zu iterieren, können wir die `dict.items()`-Funktion nutzen:"
   ]
  },
  {
   "cell_type": "code",
   "execution_count": null,
   "metadata": {},
   "outputs": [],
   "source": [
    "# Iteration über Schlüssel-Wert-Paare\n",
    "for key, value in data_types.items():\n",
    "    print (\"{} ist eine {}.\".format(key, value))"
   ]
  },
  {
   "cell_type": "markdown",
   "metadata": {},
   "source": [
    "Natürlich können wir auch über die Schlüssel iterieren und dannn das Dictionary mit dem Schlüssel indizieren. Das ist aber langsamer und etwas unübersichtlicher als die vorherige Variante."
   ]
  },
  {
   "cell_type": "code",
   "execution_count": null,
   "metadata": {},
   "outputs": [],
   "source": [
    "# Iteriert über die Schlüssel und greift manuell auf die Werte zu,\n",
    "# das ist langsamer als die Iteration über die Paare!\n",
    "for key in data_types:\n",
    "    print (\"{} ist eine {}.\".format(key, data_types[key]))"
   ]
  },
  {
   "cell_type": "markdown",
   "metadata": {},
   "source": [
    "## <a name=\"dmodify\"></a>Dictionaries bearbeiten\n",
    "\n",
    "Variablen in Dictionaries können hinzugefügt, geändert und gelöscht werden."
   ]
  },
  {
   "cell_type": "markdown",
   "metadata": {},
   "source": [
    "##### Elemente hinzufügen oder ändern\n",
    "\n",
    "Um einen Wert zum Dictionary hinzuzufügen oder einen Wert zu ändern, indizieren wir das Dictionary mit dem dazugehörigen Schlüssel und weisen einen Wert zu:"
   ]
  },
  {
   "cell_type": "code",
   "execution_count": null,
   "metadata": {},
   "outputs": [],
   "source": [
    "data_types['dictionary'] = 'samlung von Schlüssel-Wret-Paaren'\n",
    "\n",
    "for key, value in data_types.items():\n",
    "    print (\"{} ist eine {}.\".format(key, value))"
   ]
  },
  {
   "cell_type": "markdown",
   "metadata": {},
   "source": [
    "Falsch geschrieben, das sollten wir korrigieren:"
   ]
  },
  {
   "cell_type": "code",
   "execution_count": null,
   "metadata": {},
   "outputs": [],
   "source": [
    "print('Ein Dictionary ist eine {}.'.format(data_types['dictionary']))\n",
    "data_types['dictionary'] = 'Sammlung von Schlüssel-Wert-Paaren'\n",
    "print('Ein Dictionary ist eine {}.'.format(data_types['dictionary']))"
   ]
  },
  {
   "cell_type": "markdown",
   "metadata": {},
   "source": [
    "##### Elemente entfernen\n",
    "\n",
    "Um ein Element aus einem Dictionary zu löschen, verwenden wir wieder den `del`-Operator:"
   ]
  },
  {
   "cell_type": "code",
   "execution_count": null,
   "metadata": {},
   "outputs": [],
   "source": [
    "del data_types['float']\n",
    "\n",
    "for key, value in data_types.items():\n",
    "    print (\"{} ist eine {}.\".format(key, value))"
   ]
  },
  {
   "cell_type": "markdown",
   "metadata": {},
   "source": [
    "[top](#top)"
   ]
  },
  {
   "cell_type": "markdown",
   "metadata": {},
   "source": [
    "# <span id=\"inputoutput\"/>Input & Output"
   ]
  },
  {
   "cell_type": "markdown",
   "metadata": {},
   "source": [
    "## <span id=\"reading\"/>Reading files"
   ]
  },
  {
   "cell_type": "markdown",
   "metadata": {},
   "source": [
    "In the previous lesson we've already used ```open()``` to open files.  The ```open()``` function returns a **file-object** that can be be used to read from or to write to.\n",
    "\n",
    "By default a file is opened for reading text.  To read line of text, you can use the ```readline()``` function.  File objects are also **iterable**, which means that we can use a ```for``` loop in order to read from them.  Both are demonstrated here:"
   ]
  },
  {
   "cell_type": "code",
   "execution_count": null,
   "metadata": {},
   "outputs": [],
   "source": [
    "# Open a file for reading text.\n",
    "f = open(\"text_file.txt\")\n",
    "\n",
    "# Read a line, and print it.\n",
    "line = f.readline()\n",
    "print(line)\n",
    "\n",
    "# Iterate it and print its contents.\n",
    "for line in f:\n",
    "    print(line)\n",
    "\n",
    "# Close the file.  (Important!!!)\n",
    "f.close()"
   ]
  },
  {
   "cell_type": "markdown",
   "metadata": {},
   "source": [
    "Finally we close the file using the ```close()``` function.  If you don't do this, your program will sooner or later crash unexplicably!\n",
    "\n",
    "Note that there are empty lines interleaved with the text.  These lines are not present in the original file.  They got there, because Python reads the newlines from the file, and then ```print()``` adds another one.  This can be solved with the ```rstrip()``` function:"
   ]
  },
  {
   "cell_type": "code",
   "execution_count": null,
   "metadata": {},
   "outputs": [],
   "source": [
    "# Open a file for reading text.\n",
    "f = open(\"text_file.txt\")\n",
    "\n",
    "# Read a line, and print it.  Note the addition of rstrip()!\n",
    "line = f.readline().rstrip()\n",
    "print(line)\n",
    "\n",
    "# Iterate it and print its contents.  Note the addition of rstrip()!\n",
    "for line in f:\n",
    "    line = line.rstrip()\n",
    "    print(line)\n",
    "\n",
    "# Close the file.  (Important!!!)\n",
    "f.close()"
   ]
  },
  {
   "cell_type": "markdown",
   "metadata": {},
   "source": [
    "[top](#top)"
   ]
  },
  {
   "cell_type": "markdown",
   "metadata": {},
   "source": [
    "## <span id=\"writing\"/>Writing files"
   ]
  },
  {
   "cell_type": "markdown",
   "metadata": {},
   "source": [
    "By default a file is opened for reading text.  If we need to write to a file, we need to tell Python to open it for writing.  We can do this by passing an extra argument, ```'w'```, to ```open()```.\n",
    "\n",
    "Files that are opened for writing, can be written to using the ```print()``` function that we're already familiar with.  We can tell it what file-object to write to using the ```file=``` keyword argument."
   ]
  },
  {
   "cell_type": "code",
   "execution_count": null,
   "metadata": {},
   "outputs": [],
   "source": [
    "# Open a file for writing text.\n",
    "f = open('writing.txt','w')\n",
    "\n",
    "# Write a line of text to the file.\n",
    "print('This is a text file.', file=f)\n",
    "\n",
    "# Write a few lines to it:\n",
    "for number in range(1,6):\n",
    "    print('a number: {}'.format(number), file=f)\n",
    "\n",
    "# And we close the file.\n",
    "f.close()"
   ]
  },
  {
   "cell_type": "markdown",
   "metadata": {},
   "source": [
    "[top](#top)"
   ]
  },
  {
   "cell_type": "markdown",
   "metadata": {},
   "source": [
    "## <span id=\"Pandas\"/>Writing and reading .csv files"
   ]
  },
  {
   "cell_type": "markdown",
   "metadata": {},
   "source": [
    "We can of course read and write files line by line, as shown above. However, this is quite inefficient since there are ready-to-use file formats available.\n",
    "As an example (which you will probably need) we want to take a look at **c**omma-**s**eperated **v**alues (**csv** files here."
   ]
  },
  {
   "cell_type": "markdown",
   "metadata": {},
   "source": [
    "First we import a module for handling csv files called pandas:"
   ]
  },
  {
   "cell_type": "code",
   "execution_count": null,
   "metadata": {},
   "outputs": [],
   "source": [
    "import pandas as pd"
   ]
  },
  {
   "cell_type": "markdown",
   "metadata": {},
   "source": [
    "For a more detailed introduction to Pandas take a look at : http://pandas.pydata.org/pandas-docs/version/0.15/10min.html"
   ]
  },
  {
   "cell_type": "markdown",
   "metadata": {},
   "source": [
    "Now we want to make our own csv file. Pandas uses a data type called *dataframe* for dealing with multi column data, which can include different data types.\n",
    "For initializing, we first create a dictionary and then convert this dictionary to a dataframe."
   ]
  },
  {
   "cell_type": "code",
   "execution_count": null,
   "metadata": {},
   "outputs": [],
   "source": [
    "# initialize a dictionary, which has two keys and for each key a list of five values\n",
    "week_lunch_dict = {'Day': ['Monday', 'Tuesday', 'Wednesday', 'Thursda', 'Friday'],\n",
    "                   'Lunch': ['Salad', 'Schnitzel', 'Lasagna', 'Pizza', 'Fish filets']}\n",
    "# convert this dictionary to a dataframe\n",
    "week_lunch_dataframe = pd.DataFrame(data=week_lunch_dict)\n",
    "# visualize our dataframe\n",
    "print(week_lunch_dataframe)"
   ]
  },
  {
   "cell_type": "markdown",
   "metadata": {},
   "source": [
    "Note that the keys in our dictionary were converted to the names of the columns of our dataframe.\n",
    "Pandas can handle a variety of data types and is quite useful for working with data. Here we will only look at how to save and reav cvs files though.\n",
    "\n",
    "We can write our dataframe directly to a csv:"
   ]
  },
  {
   "cell_type": "code",
   "execution_count": null,
   "metadata": {},
   "outputs": [],
   "source": [
    "week_lunch_dataframe.to_csv('week_lunch.csv')"
   ]
  },
  {
   "cell_type": "markdown",
   "metadata": {},
   "source": [
    "Now you will probably wonder whether loading csv files in Pandas is just as easy as writing them is.\n",
    "\n",
    "Of course it ist - let us try to do it here:"
   ]
  },
  {
   "cell_type": "markdown",
   "metadata": {},
   "source": [
    "There is a file called 'Rain_netherlands.csv' in your folder. It contains data from the UN database on rain in the Netherlands - see:\n",
    "[UN data on rainfall in the Netherlands](http://data.un.org/Data.aspx?q=Rain&d=CLINO&f=ElementCode%3aBT%3bCountryCode%3aNL%3bStatisticCode%3a15&c=2,5,6,7,10,15,18,19,20,22,24,26,28,30,32,34,36,38,40,42,44,46&s=CountryName:asc,WmoStationNumber:asc,StatisticCode:asc&v=1)\n",
    "\n",
    "We can simply load it like this:"
   ]
  },
  {
   "cell_type": "code",
   "execution_count": null,
   "metadata": {},
   "outputs": [],
   "source": [
    "rain=pd.read_csv('Rain_netherlands.csv')\n",
    "rain.head()"
   ]
  },
  {
   "cell_type": "markdown",
   "metadata": {},
   "source": [
    "[top](#top)"
   ]
  },
  {
   "cell_type": "markdown",
   "metadata": {},
   "source": [
    "## <span id=\"userinteraction\" />User interaction"
   ]
  },
  {
   "cell_type": "markdown",
   "metadata": {},
   "source": [
    "Sometimes you might want your program to talk with the user.  If you just want to give some information to the user, you can use the ```print()``` function.  Using the ```input()``` function we can also get information from the user.\n",
    "\n",
    "The ```input()``` function asks the user a questions, and waits for input.  The input is returned as a string."
   ]
  },
  {
   "cell_type": "code",
   "execution_count": null,
   "metadata": {},
   "outputs": [],
   "source": [
    "s = input('What is your name? ')\n",
    "print('Your name is {}.'.format(s))"
   ]
  },
  {
   "cell_type": "markdown",
   "metadata": {},
   "source": [
    "Here is more elaborate example, that uses the ```split()``` function to split a string into separate words."
   ]
  },
  {
   "cell_type": "code",
   "execution_count": null,
   "metadata": {},
   "outputs": [],
   "source": [
    "s = input('Can you rhyme something for me? ')\n",
    "\n",
    "# Split the string on every space.\n",
    "words = s.split(' ')\n",
    "\n",
    "word_num = 1\n",
    "for word in words:\n",
    "    print('word #{} is \"{}\".'.format(word_num, word))\n",
    "    word_num = word_num + 1"
   ]
  },
  {
   "cell_type": "markdown",
   "metadata": {},
   "source": [
    "Here is another example, that shows you how to make decisions based on input.\n",
    "\n",
    "(Note this is very general: you can use any string here, not just input from ```input()```!)"
   ]
  },
  {
   "cell_type": "code",
   "execution_count": null,
   "metadata": {},
   "outputs": [],
   "source": [
    "answer = input('If you\\'re happy and you know it, clap your? ')\n",
    "if answer == 'hands':\n",
    "    print('If you\\'re happy and you know it, stomp your feet!')\n",
    "else:\n",
    "    print('Hmm...  I always clap my hands...')"
   ]
  },
  {
   "cell_type": "markdown",
   "metadata": {},
   "source": [
    "[top](#top)"
   ]
  },
  {
   "cell_type": "markdown",
   "metadata": {},
   "source": [
    "# <span id=\"exercise07\"/>Exercise 07: Dictionaries & I/O"
   ]
  },
  {
   "cell_type": "markdown",
   "metadata": {},
   "source": [
    "**Dictionaries**\n",
    "\n",
    "  1. Create a dictionary that contains the names and e-mail addresses of the tutors.  The names should be used as keys.\n",
    "  2. Create a new dictionary also with names and e-mail addresses, but now use the e-mail addresses as keys.  Make the new dictionary by looping over the previous exercise's dictionary with `for`.\n",
    "  3. Add the names and email addresses of your neighbours to previous exercise's dictionary.\n",
    "  4. Print the new dictionary by looping over it with `for`.\n",
    "\n",
    "\n",
    "**Lists & Dictionaries**\n",
    "\n",
    "  You're doing an experiment with genetically modified mice.  The modifications are such that they get an extra brain.  Sometimes this works, but other times, they only get an extra kidney or spleen.\n",
    "\n",
    "  1. In order to deal with your data, you decide to write a Python script.  For each mouse, you make a dictionary that holds the number of brains, kidneys, and spleens, and also the mouse's name.  Use 4 mice; you can make up some names and results.\n",
    "  2. Put the dictionaries in a list.\n",
    "  3. Print the number of the kidneys that the 3rd mouse has.\n",
    "  4. You want to give each mouse a score.  The higher it's score, the better your experiment went.  To do this iterate over the list, and print each mouse's name, followed by the number of brains minus the number of kidneys and spleens.  Save the mouse's score in its dictionary.\n",
    "  5. Print the name of the mouse that has the best score.\n",
    "\n",
    "\n",
    "**Input/Output**\n",
    "\n",
    "  In this exercise you'll write a program that reads a list of names and e-mail addresses from a file.  Your program should do the following:\n",
    "\n",
    "  1. Read the names and e-mail addresses;\n",
    "  2. Print what was read;\n",
    "  2. Ask the user for a name, and print the e-mail address corresponding to that name.\n",
    "\n",
    "  We've provided a file that contains e-mail addresses.  It's in file called `email_addresses.txt`.  Each line in this file is formatted as follows:\n",
    "\n",
    "  `[name] [e-mail-address]`\n",
    "\n",
    "  In other words, on each line name and e-mail address are separated by a space.  There are only firstnames, which means that `name` doesn't contain spaces.\n",
    "\n",
    "  You should store the list as a dictionary, so you can do easy lookups.  You can of course also use lists, but this is more cumbersome.\n",
    "\n",
    "  Hint: use the `split()` function to split each line into a name, and an e-mail address.  The output of `split()` is a list: you can index it.\n",
    "\n",
    "  Hint: string comparison is case-sensitive.  That is: 'guus' won't work, but 'Guus' will!\n",
    "\n",
    "**Bonus: CSV files**\n",
    "\n",
    "    Try to read one of your own csv files. Then change some of its value fields and save it under a different name."
   ]
  },
  {
   "cell_type": "markdown",
   "metadata": {},
   "source": [
    "[top](#top)"
   ]
  }
 ],
 "metadata": {
  "kernelspec": {
   "display_name": "Python 3",
   "language": "python",
   "name": "python3"
  },
  "language_info": {
   "codemirror_mode": {
    "name": "ipython",
    "version": 3
   },
   "file_extension": ".py",
   "mimetype": "text/x-python",
   "name": "python",
   "nbconvert_exporter": "python",
   "pygments_lexer": "ipython3",
   "version": "3.6.6"
  }
 },
 "nbformat": 4,
 "nbformat_minor": 1
}
