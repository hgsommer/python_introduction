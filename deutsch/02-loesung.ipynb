{
 "cells": [
  {
   "cell_type": "markdown",
   "metadata": {},
   "source": [
    "<a name=\"loesung02\"></a>Lösung zu Übung 02\n",
    "==="
   ]
  },
  {
   "cell_type": "code",
   "execution_count": null,
   "metadata": {},
   "outputs": [],
   "source": [
    "# 1.a\n",
    "satz = ['ich', 'möchte', 'endlich', 'feierabend', 'haben']"
   ]
  },
  {
   "cell_type": "code",
   "execution_count": null,
   "metadata": {},
   "outputs": [],
   "source": [
    "# 1.b\n",
    "new_string = ''\n",
    "for wort in satz:\n",
    "    new_string = new_string + wort\n",
    "    \n",
    "print(new_string)\n",
    "\n",
    "# oder noch besser:\n",
    "new_string = ''\n",
    "for wort in satz:\n",
    "    new_string = new_string + wort + ' '\n",
    "    \n",
    "print(new_string)"
   ]
  },
  {
   "cell_type": "code",
   "execution_count": null,
   "metadata": {},
   "outputs": [],
   "source": [
    "# 1.c\n",
    "numbers = [1,2,3,4,5,6,7,8,9,10]\n",
    "# gerade zahlen\n",
    "print(numbers[1::2])\n",
    "\n",
    "# ungerade zahlen\n",
    "print(numbers[2::2])\n",
    "\n",
    "# die ersten vier zahlen\n",
    "print(numbers[0:4])\n",
    "\n",
    "# die letzten vier zahlen\n",
    "print(numbers[-4:])"
   ]
  },
  {
   "cell_type": "code",
   "execution_count": null,
   "metadata": {},
   "outputs": [],
   "source": [
    "# 1.d\n",
    "liste = [6, 9, 1, 2, 15]\n",
    "neue_liste = []\n",
    "for zahl in liste:\n",
    "    neue_liste.append(zahl + sum(liste))\n",
    "print(neue_liste)"
   ]
  },
  {
   "cell_type": "code",
   "execution_count": null,
   "metadata": {},
   "outputs": [],
   "source": [
    "# 1.e\n",
    "neue_liste[1::2] = [0] * int(len(neue_liste)/2)\n",
    "print(neue_liste)"
   ]
  }
 ],
 "metadata": {
  "kernelspec": {
   "display_name": "Python 3",
   "language": "python",
   "name": "python3"
  },
  "language_info": {
   "codemirror_mode": {
    "name": "ipython",
    "version": 3
   },
   "file_extension": ".py",
   "mimetype": "text/x-python",
   "name": "python",
   "nbconvert_exporter": "python",
   "pygments_lexer": "ipython3",
   "version": "3.6.6"
  }
 },
 "nbformat": 4,
 "nbformat_minor": 2
}
