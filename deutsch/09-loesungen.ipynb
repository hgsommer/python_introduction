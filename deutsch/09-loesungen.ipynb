{
 "cells": [
  {
   "cell_type": "markdown",
   "metadata": {},
   "source": [
    "<a name=\"loesung09\"></a>Lösung Übung 09\n",
    "==="
   ]
  },
  {
   "cell_type": "code",
   "execution_count": null,
   "metadata": {},
   "outputs": [],
   "source": [
    "# 1.a\n",
    "import numpy as np\n",
    "import matplotlib.pyplot as plt\n",
    "%matplotlib inline\n",
    "\n",
    "x = np.linspace(0, 2*np.pi, 100)"
   ]
  },
  {
   "cell_type": "code",
   "execution_count": null,
   "metadata": {},
   "outputs": [],
   "source": [
    "# numpy erlaubt uns, mathematische Operationen auf Arrays\n",
    "# ganz einfach durchzuführen\n",
    "# merke: x ist hier ein Array mit 100 Elementen!\n",
    "y1 = np.cos(x)\n",
    "y2 = np.cos(2*x)\n",
    "\n",
    "# Ausgabe der ersten 5 Elemente zum Überprüfen\n",
    "print(x[0:5])\n",
    "print(y1[0:5])\n",
    "print(y2[0:5])"
   ]
  },
  {
   "cell_type": "code",
   "execution_count": null,
   "metadata": {},
   "outputs": [],
   "source": [
    "# 1.c\n",
    "plt.plot(x, y1)\n",
    "plt.plot(x, y2)"
   ]
  },
  {
   "cell_type": "code",
   "execution_count": null,
   "metadata": {},
   "outputs": [],
   "source": [
    "# 1.d\n",
    "def titel_achsen():\n",
    "    plt.title('Kurven')\n",
    "    plt.xlabel('x')\n",
    "    plt.ylabel('y')\n",
    "\n",
    "plt.plot(x, y1)\n",
    "plt.plot(x, y2)\n",
    "titel_achsen()"
   ]
  },
  {
   "cell_type": "code",
   "execution_count": null,
   "metadata": {},
   "outputs": [],
   "source": [
    "# 1.e\n",
    "titel_achsen()\n",
    "plt.plot(x, y1, label='$\\cos(x)$')\n",
    "plt.plot(x, y2, label='$\\cos(2x)$')\n",
    "plt.legend()"
   ]
  },
  {
   "cell_type": "code",
   "execution_count": null,
   "metadata": {},
   "outputs": [],
   "source": [
    "# 1.f\n",
    "# Dokumentation zum Speichern von Plots:\n",
    "# https://matplotlib.org/devdocs/api/_as_gen/matplotlib.pyplot.savefig.html\n",
    "titel_achsen()\n",
    "plt.plot(x, y1, label='$\\cos(x)$')\n",
    "plt.plot(x, y2, label='$\\cos(2x)$')\n",
    "plt.legend()\n",
    "plt.savefig('beispiel-plot.pdf')"
   ]
  }
 ],
 "metadata": {
  "kernelspec": {
   "display_name": "Python 3",
   "language": "python",
   "name": "python3"
  },
  "language_info": {
   "codemirror_mode": {
    "name": "ipython",
    "version": 3
   },
   "file_extension": ".py",
   "mimetype": "text/x-python",
   "name": "python",
   "nbconvert_exporter": "python",
   "pygments_lexer": "ipython3",
   "version": "3.7.3"
  }
 },
 "nbformat": 4,
 "nbformat_minor": 1
}
