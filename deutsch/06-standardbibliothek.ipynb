{
 "cells": [
  {
   "cell_type": "markdown",
   "metadata": {},
   "source": [
    "<a name=\"top\"></a>Übersicht: Standardbibliothek\n",
    "==="
   ]
  },
  {
   "cell_type": "markdown",
   "metadata": {},
   "source": [
    "* [Die Python Standardbibliothek](#standard)\n",
    "  * [Importieren von Modulen](#importieren)\n",
    "  * [Mathematik](#math)\n",
    "  * [Dateien und Ordner](#ospath)\n",
    "  * [Statistik und Zufallszahlen](#statistics)\n",
    "* [Übung 06: Standardbibliothek](#uebung06)"
   ]
  },
  {
   "cell_type": "markdown",
   "metadata": {},
   "source": [
    "**Lernziele:** Am Ende dieser Einheit\n",
    "* wisst ihr, wie ihr Funktionen aus anderen Modulen importiert\n",
    "* könnt ihr fortgeschrittenere Mathematik mit dem ```math``` Modul realisieren\n",
    "* könnt ihr Dateien und Ordnernamen mit Hilfe von ```os.path``` manipulieren\n",
    "* könnt ihr ein wenig Statistik mit ```statistics``` betreiben"
   ]
  },
  {
   "cell_type": "markdown",
   "metadata": {},
   "source": [
    "<a name=\"standard\"></a>Die Python Standardbibliothek\n",
    "==="
   ]
  },
  {
   "cell_type": "markdown",
   "metadata": {},
   "source": [
    "<a name=\"importieren\"></a>Importieren von Modulen\n",
    "---"
   ]
  },
  {
   "cell_type": "markdown",
   "metadata": {},
   "source": [
    "Wir haben schon einige Funktionen kennen gelernt, die standard-mäßig in Python \"eingebaut\" und meist relativ hilfreich sind, z.B.\n",
    "* ```print()```\n",
    "* ```sum()```\n",
    "* ```len()```\n",
    "* ..."
   ]
  },
  {
   "cell_type": "markdown",
   "metadata": {},
   "source": [
    "Eine Liste aller direkt verfügbaren Funktionen findet ihr hier: https://docs.python.org/2/library/functions.html"
   ]
  },
  {
   "cell_type": "markdown",
   "metadata": {},
   "source": [
    "Zusätzlich dazu gibt es noch die sogenannte Python _Standardbibliothek_. Sie wird automatisch mit jeder Installation von Python mitgeliefert aber wir haben nicht automatisch aus jedem Skript heraus Zugriff auf alle ihre Funktionen.  \n",
    "\n",
    "Wir müssen unserem Programm erst mitteilen, dass wir auf Funktionen aus einem bestimmten Berein der Standardbibliothek - einem _Modul_ zugreifen möchten, indem wir es _importieren_."
   ]
  },
  {
   "cell_type": "markdown",
   "metadata": {},
   "source": [
    "[top](#top)"
   ]
  },
  {
   "cell_type": "markdown",
   "metadata": {},
   "source": [
    "<a name=\"math\"></a>Mathematik\n",
    "---"
   ]
  },
  {
   "cell_type": "markdown",
   "metadata": {},
   "source": [
    "Ein klassisches Beispiel ist das Modul ```math```. Es gibt uns Zugriff auf ein paar praktische Funktionen wie z.B. ```sin()``` und ```cos()```. Um Python zu sagen, dass wir ein Modul importieren wollen, benutzen wir das ```import``` Keyword:"
   ]
  },
  {
   "cell_type": "code",
   "execution_count": null,
   "metadata": {},
   "outputs": [],
   "source": [
    "# wir importieren das Modul, von hier an ist das\n",
    "# Modul in dem ganzen restlichen Script bekannt\n",
    "import math"
   ]
  },
  {
   "cell_type": "markdown",
   "metadata": {},
   "source": [
    "Auf Funktionen des Moduls greifen wir mit Hilfe des Punktes zu:"
   ]
  },
  {
   "cell_type": "code",
   "execution_count": null,
   "metadata": {},
   "outputs": [],
   "source": [
    "math.sin(3)"
   ]
  },
  {
   "cell_type": "code",
   "execution_count": null,
   "metadata": {},
   "outputs": [],
   "source": [
    "ergebnis = math.cos(math.pi)\n",
    "print(ergebnis)"
   ]
  },
  {
   "cell_type": "markdown",
   "metadata": {},
   "source": [
    "##### Dokumentation"
   ]
  },
  {
   "cell_type": "markdown",
   "metadata": {},
   "source": [
    "Wir können schon vermuten, dass ```math``` Funktionen wie Sinus, Cosinus, Absolutwert oder richtiges Runden zur Verfügung stellt. Wenn wir genauere Informationen über den Umfang von ```math``` wollen, dann ist die online-Dokumentation des Moduls eine gute Anlaufstelle: "
   ]
  },
  {
   "cell_type": "markdown",
   "metadata": {},
   "source": [
    "Dokumentation von ```math```: https://docs.python.org/2/library/math.html"
   ]
  },
  {
   "cell_type": "markdown",
   "metadata": {},
   "source": [
    "Alternativ können wir uns auch direkt im Notebook Hilfe zu einzelnen Funktionen holen:"
   ]
  },
  {
   "cell_type": "code",
   "execution_count": null,
   "metadata": {},
   "outputs": [],
   "source": [
    "help(math.cos)"
   ]
  },
  {
   "cell_type": "code",
   "execution_count": null,
   "metadata": {},
   "outputs": [],
   "source": [
    "? math.cos"
   ]
  },
  {
   "cell_type": "markdown",
   "metadata": {},
   "source": [
    "[top](#top)"
   ]
  },
  {
   "cell_type": "markdown",
   "metadata": {},
   "source": [
    "<a name=\"ospath\"></a>Dateien und Ordner\n",
    "---"
   ]
  },
  {
   "cell_type": "markdown",
   "metadata": {},
   "source": [
    "Um mit dem umliegenden Betriebssystem, Dateien und Ordnern zu interagieren, gibt es das Modul ```os``` (für **o**perating **s**ystem):"
   ]
  },
  {
   "cell_type": "code",
   "execution_count": null,
   "metadata": {},
   "outputs": [],
   "source": [
    "import os"
   ]
  },
  {
   "cell_type": "markdown",
   "metadata": {},
   "source": [
    "Damit können wir uns z.B. den Pfad zu unserem aktuellen Arbeitsverzeichnis (das Verzeichnis, in dem _dieses_ Notebook liegt) anzeigen lassen:"
   ]
  },
  {
   "cell_type": "code",
   "execution_count": null,
   "metadata": {},
   "outputs": [],
   "source": [
    "pfad = os.getcwd()  # [c]urrent [w]orking [d]irectory, cwd\n",
    "\n",
    "# der Pfad wird as String zurückgeliefert\n",
    "print(pfad)"
   ]
  },
  {
   "cell_type": "markdown",
   "metadata": {},
   "source": [
    "Wir können uns auch alle Dateien auflisten lassen, die in einem Arbeitsverzeichnis liegen:"
   ]
  },
  {
   "cell_type": "code",
   "execution_count": null,
   "metadata": {},
   "outputs": [],
   "source": [
    "# os.listdir gibt uns eine Liste mit den\n",
    "# Dateinamen als Strings zurück\n",
    "dateien = os.listdir(pfad)\n",
    "\n",
    "# merke: es werden auch einige versteckte Dateien,\n",
    "# erkennbar an dem führendne Punkt gelistet\n",
    "print(dateien)"
   ]
  },
  {
   "cell_type": "markdown",
   "metadata": {},
   "source": [
    "Im Folgenden werden wir ein paar neue Dateien erstellen. Um das Dateien-Chaos im Zaum zu halten, erstellen wir zuerst einen neuen Ordner dafür:"
   ]
  },
  {
   "cell_type": "code",
   "execution_count": null,
   "metadata": {},
   "outputs": [],
   "source": [
    "neuer_ordner_name = 'mein-ordner'\n",
    "os.mkdir(neuer_ordner_name)"
   ]
  },
  {
   "cell_type": "code",
   "execution_count": null,
   "metadata": {},
   "outputs": [],
   "source": [
    "print(os.listdir(pfad))"
   ]
  },
  {
   "cell_type": "markdown",
   "metadata": {},
   "source": [
    "Damit wir die neuen Dateien auch an der richtigen Stelle ablegen, updaten wir den Pfad, damit er auf den neuen Ordner zeigt. Dafür brauchen wir ein sogenanntes _Untermodul_ von ```os```, nämlich ```os.path```:"
   ]
  },
  {
   "cell_type": "code",
   "execution_count": null,
   "metadata": {},
   "outputs": [],
   "source": [
    "pfad = os.path.join(pfad, neuer_ordner_name)\n",
    "print(pfad)"
   ]
  },
  {
   "cell_type": "markdown",
   "metadata": {},
   "source": [
    "Weil wir nicht jedes mal ```os.path.join()``` tippen wollen, wenn wir Pfade modifizieren wollen, können wir die Funktion ```join()``` auch direkt in den globalen Namespace unseres Scripts importieren:"
   ]
  },
  {
   "cell_type": "code",
   "execution_count": null,
   "metadata": {},
   "outputs": [],
   "source": [
    "from os.path import join"
   ]
  },
  {
   "cell_type": "markdown",
   "metadata": {},
   "source": [
    "Wir können mit Dateien interagieren, indem wir sie z.B. in unserem Programm öffnen, etwas hineinschreiben und sie dann wieder schließen (dafür brauchen wir noch nicht mal das Modul ```os```). Wenn wir versuchen, eine Datei zu öffnen die nicht existiert, gibt es erst einmal einen Fehler:"
   ]
  },
  {
   "cell_type": "code",
   "execution_count": null,
   "metadata": {},
   "outputs": [],
   "source": [
    "dateiname = 'meine_datei.txt'\n",
    "open(join(pfad,dateiname))"
   ]
  },
  {
   "cell_type": "markdown",
   "metadata": {},
   "source": [
    "Den Fehler können wir beheben, indem wir der Funktion ```open``` ein zusätzliches Argument mitgeben: "
   ]
  },
  {
   "cell_type": "code",
   "execution_count": null,
   "metadata": {},
   "outputs": [],
   "source": [
    "# 'w' steht hier für 'write' und erlaubt open(), \n",
    "# in einer Datei zu schreiben.\n",
    "open(os.path.join(pfad, dateiname), 'w')"
   ]
  },
  {
   "cell_type": "code",
   "execution_count": null,
   "metadata": {},
   "outputs": [],
   "source": [
    "# datei wieder entfernen:\n",
    "os.remove(join(pfad, dateiname))"
   ]
  },
  {
   "cell_type": "markdown",
   "metadata": {},
   "source": [
    "Nun wollen wir automatisiert eine Reihe von Dateien erstellen. Dafür verpacken wir die Funktionen von gerade eben in einen Loop:"
   ]
  },
  {
   "cell_type": "code",
   "execution_count": null,
   "metadata": {},
   "outputs": [],
   "source": [
    "# loop über 10 iterationen, die\n",
    "# temporäre Variable i benutzen wir,\n",
    "# um die Dateinamen hochzuzählen\n",
    "for i in range(10):\n",
    "    \n",
    "    # bastele einen String für den Dateinamen\n",
    "    datei_name = 'datei_{}.txt'.format(i)\n",
    "    \n",
    "    # erstelle eine leere Datei mit dem Namen\n",
    "    # datei_name im Verzeichnis pfad\n",
    "    open(join(pfad, datei_name), 'w+')"
   ]
  },
  {
   "cell_type": "markdown",
   "metadata": {},
   "source": [
    "Und jetzt wollen wir die Dateien automatisiert umbenennen:"
   ]
  },
  {
   "cell_type": "code",
   "execution_count": null,
   "metadata": {},
   "outputs": [],
   "source": [
    "filenames = os.listdir(pfad)\n",
    "print(filenames)\n",
    "# merke: die versteckte Datei .ipynb_checkpoints \n",
    "# ist auch in dem Ordner, die wollen wir nicht anfassen!"
   ]
  },
  {
   "cell_type": "code",
   "execution_count": null,
   "metadata": {},
   "outputs": [],
   "source": [
    "# iteriere über alle files in der Liste,\n",
    "# benutze enumerate() damit wir eine index-\n",
    "# Zahl haben, die wir in den neuen Dateinamen\n",
    "# schreiben können\n",
    "for i, name in enumerate(filenames):\n",
    "    \n",
    "    # wir wollen nur Dateien umbenennen, die mit\n",
    "    # '.txt' enden\n",
    "    if name.endswith('.txt'):\n",
    "        \n",
    "        # bastele einen neuen Namen\n",
    "        neuer_name = '2017-06-11_{}.txt'.format(i)\n",
    "        # benutze rename(alter_pfad, neuer_pfad) um\n",
    "        # die Datei der aktuellen Interation umzubenennen\n",
    "        os.rename(join(pfad, name), join(pfad,neuer_name))\n",
    "        \n",
    "# WICHTIG: nicht vergessen, immer den ganzen Pfad zur Datei\n",
    "# anzugeben!"
   ]
  },
  {
   "cell_type": "markdown",
   "metadata": {},
   "source": [
    "[top](#top)"
   ]
  },
  {
   "cell_type": "markdown",
   "metadata": {},
   "source": [
    "<a name=\"statistics\"></a>Statistik und Zufallszahlen\n",
    "---"
   ]
  },
  {
   "cell_type": "markdown",
   "metadata": {},
   "source": [
    "Die Standardbibliothek hält auch Basisfunktionalität für Statistik und Zufallszahlen bereit. Die Dokumentation für die beiden Module findet ihr unter:\n",
    "* ```statistics```: https://docs.python.org/3/library/statistics.html\n",
    "* ```random```: https://docs.python.org/3/library/random.html"
   ]
  },
  {
   "cell_type": "code",
   "execution_count": null,
   "metadata": {},
   "outputs": [],
   "source": [
    "import random\n",
    "import statistics"
   ]
  },
  {
   "cell_type": "markdown",
   "metadata": {},
   "source": [
    "Damit können wir uns z.B. eine Liste gefüllt mit zufälligen Ganzzahlen erstellen:"
   ]
  },
  {
   "cell_type": "code",
   "execution_count": null,
   "metadata": {},
   "outputs": [],
   "source": [
    "# wir benutzen eine list-comprehension, um \n",
    "# zehn Zufallszahlen zwischen 0 und 10 zu \n",
    "# erzeugen und in einer Liste zu speichern\n",
    "random_numbers = [random.randint(0,10) for i in range(10)]\n",
    "\n",
    "# jedes neue Ausführen dieser Code-Zelle wird\n",
    "# eine andere, zufällige Liste erzeugen\n",
    "print(random_numbers)"
   ]
  },
  {
   "cell_type": "markdown",
   "metadata": {},
   "source": [
    "Damit können wir schon ein bisschen interessante Statistik machen und uns den Mittelwert, die Standardabweichung und den Median anschauen:"
   ]
  },
  {
   "cell_type": "code",
   "execution_count": null,
   "metadata": {},
   "outputs": [],
   "source": [
    "# erzeuge 10 mal eine Liste mit zufälligen Ganzzahlen\n",
    "for i in range(10):\n",
    "    \n",
    "    # erzeuge zufällige Zahlen zwischen -10 und 10\n",
    "    numbers = [random.randint(-10,10) for i in range(10)]\n",
    "    \n",
    "    mean = statistics.mean(numbers)     # Mittelwert\n",
    "    std = statistics.stdev(numbers)     # Standardabweichung\n",
    "    median = statistics.median(numbers) # Median\n",
    "    \n",
    "    # gib die berechneten Werte schön formatiert aus\n",
    "    print('mean: {}, stdev: {}, median: {}'\\\n",
    "         .format(mean, std, median))"
   ]
  },
  {
   "cell_type": "markdown",
   "metadata": {},
   "source": [
    "[top](#top)"
   ]
  },
  {
   "cell_type": "markdown",
   "metadata": {},
   "source": [
    "<a name=\"uebung06\"></a>Übung 06: Standardbibliothek\n",
    "==="
   ]
  },
  {
   "cell_type": "markdown",
   "metadata": {},
   "source": [
    "1. **Math**\n",
    "  1. Informiere dich in der Dokumentation von ```math``` über die Funktionen zum Konvertieren von Grad in Radianten und umgekehrt. Konvertiere $\\pi$, $\\pi/2$ und $2\\pi$ in Grad und $100^\\circ$, $200^\\circ$ und $300^\\circ$ in Radianten.\n",
    "  2. Gegeben die Koordinaten von drei Eckpunkten eines Dreiecks:  \n",
    "  $A = (0,0); \\quad B = (3,0); \\quad C = (4,2)$.  \n",
    "  Schreibe eine Funktion die aus den $(x,y)$ Koordinaten von zwei Punkten mit Hilfe des ```math``` Moduls die Länge der Strecke dazwischen berechnet. \n",
    "  3. Berechne mit Hilfe der Funktion die längen der Seiten $a, b, c$ des Dreiecks. \n",
    "  4. **(Optional)** Berechne die gegenüberliegenden Winkel $\\alpha, \\beta, \\gamma$ des Dreiecks:  \n",
    "  HINWEIS: Cosinussatz https://de.wikipedia.org/wiki/Kosinussatz\n",
    "2. **Dateien und Ordner**\n",
    "  1. Erstelle einen neuen Ordner mit ```mkdir()```.\n",
    "  2. Bastel dir eine Variable mit dem Pfad zum neuen Ordner.\n",
    "  3. Erstelle automatisiert 5 neue .txt Dateien und 5 neue .csv Dateien in dem neuen Ordner.\n",
    "  4. Benenne die neu erstellten Dateien automatisiert um. Wähle unterschiedliche Namen, je nachdem ob es sich um eine .txt oder eine .csv Datei handelt.\n",
    "  5. **(Optional)** Erstelle automatisiert einen Ordner für jede Woche im Juni. Erstelle in jedem Ordner eine Datei für jeden Wochentag der Woche für den der Ordner steht. Gib den Dateien ihr Datum (z.B. 2017-06-01 für den 1. Juni 2017) als Name.\n",
    "  6. **(Optional)** Recherchiere, wie man aus einem Programm heraus in eine Datei schreibt. Teste das Konzept an einer einzelnen Test-Datei.\n",
    "  7. **(Optional)** Schreibe in jede Datei in den Juni-Ordnern den dem Datum entsprechenden Wochentag.\n",
    "3. **Statistik und Zufallszahlen**\n",
    "  1. Erzeuge eine Liste einer zufälligen Länge zwischen 5 und 10 Elementen gefüllt mit zufälligen Ganzzahlen\n",
    "  2. Schau dir die Funktion ```shuffle()``` des ```random``` Moduls an und benutze sie, um die Reihenfolge der Elemente in der Liste durchzumischen.\n",
    "  3. **(Optional)**: Erstelle eine Kopie der Liste. Schreibe eine Funktion die die Kopie mischt, mit dem Original vergleicht und ```True``` zurück gibt, wenn sie gleich sind, ```False``` sonst. \n",
    "  4. **(Optional)** Schreibe eine Schleife die mit hilfe der Misch-Funktion die Liste N mal durchmischt. Wie lange dauert es, bis die Liste zufällig wieder die gleiche Reihenfolge hat wie das Original? Wie hängt die Anzahl an notwendigen Iterationen von der Länge der Liste ab?"
   ]
  },
  {
   "cell_type": "markdown",
   "metadata": {},
   "source": [
    "[top](#top)"
   ]
  }
 ],
 "metadata": {
  "kernelspec": {
   "display_name": "Python 3",
   "language": "python",
   "name": "python3"
  },
  "language_info": {
   "codemirror_mode": {
    "name": "ipython",
    "version": 3
   },
   "file_extension": ".py",
   "mimetype": "text/x-python",
   "name": "python",
   "nbconvert_exporter": "python",
   "pygments_lexer": "ipython3",
   "version": "3.6.6"
  }
 },
 "nbformat": 4,
 "nbformat_minor": 1
}
