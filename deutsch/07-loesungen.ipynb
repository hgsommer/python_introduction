{
 "cells": [
  {
   "cell_type": "markdown",
   "metadata": {},
   "source": [
    "# Lösungen Übung 07"
   ]
  },
  {
   "cell_type": "code",
   "execution_count": null,
   "metadata": {},
   "outputs": [],
   "source": [
    "# 1.A\n",
    "name_email = {'G. Bertens': 'guus.bertens@whuteva.com',\n",
    "             'T. Eckstein': 'torsten.eckstein@example.com',\n",
    "             'F. Cosi': 'filippo.cosi@python.rules'}"
   ]
  },
  {
   "cell_type": "code",
   "execution_count": null,
   "metadata": {},
   "outputs": [],
   "source": [
    "# 1.B\n",
    "email_name = {}\n",
    "for name, email in name_email.items():\n",
    "    email_name[email] = name"
   ]
  },
  {
   "cell_type": "code",
   "execution_count": null,
   "metadata": {},
   "outputs": [],
   "source": [
    "# 1.C\n",
    "email_name['left@neighbours.net'] = 'L. Neighbour'\n",
    "email_name['right@neighbours.net'] = 'R. Neighbour'"
   ]
  },
  {
   "cell_type": "code",
   "execution_count": null,
   "metadata": {
    "scrolled": true
   },
   "outputs": [],
   "source": [
    "# 1.D\n",
    "for email, name in email_name.items():\n",
    "    print('{} -> {}'.format(email,name))"
   ]
  },
  {
   "cell_type": "code",
   "execution_count": null,
   "metadata": {},
   "outputs": [],
   "source": [
    "# 2.A\n",
    "text = '''Guido van Rossum (* 31. Januar 1956 in Haarlem, Niederlande)\n",
    "ist ein niederländischer Softwareentwickler, der als Autor der\n",
    "Programmiersprache Python bekannt wurde, deren Entwicklung er bis\n",
    "Juli 2018 als \"wohlwollender Diktator auf Lebenszeit\" leitete.'''\n",
    "\n",
    "letter_freq = {}\n",
    "for letter in text:\n",
    "    if letter in letter_freq:\n",
    "        letter_freq[letter] += 1\n",
    "    else:\n",
    "        letter_freq[letter] = 1\n",
    "\n",
    "print(letter_freq)"
   ]
  },
  {
   "cell_type": "code",
   "execution_count": null,
   "metadata": {},
   "outputs": [],
   "source": [
    "# 2.B\n",
    "for key, value in sorted(letter_freq.items(), key=lambda item: item[1],  reverse=True):\n",
    "    print(\"{}: {}\".format(repr(key), value))"
   ]
  },
  {
   "cell_type": "code",
   "execution_count": null,
   "metadata": {},
   "outputs": [],
   "source": [
    "# 3.A.a\n",
    "addressbook = {}\n",
    "with open('email_addresses.txt') as f:\n",
    "    for line in f:\n",
    "        name_email = line.rstrip().split(' ')\n",
    "        name = name_email[0]\n",
    "        email = name_email[1]\n",
    "        addressbook[name] = email"
   ]
  },
  {
   "cell_type": "code",
   "execution_count": null,
   "metadata": {},
   "outputs": [],
   "source": [
    "# 3.A.b\n",
    "for name, email in addressbook.items():\n",
    "    print('{} -> {}'.format(name, email))"
   ]
  },
  {
   "cell_type": "code",
   "execution_count": null,
   "metadata": {},
   "outputs": [],
   "source": [
    "# 3.A.c\n",
    "who = input('Wen nachschlagen? ')\n",
    "if who in addressbook:\n",
    "    print('Gefunden: {} -> {}'.format(who, addressbook[who]))\n",
    "else:\n",
    "    print('Kein Ergebnis für {}.'.format(who))"
   ]
  },
  {
   "cell_type": "code",
   "execution_count": null,
   "metadata": {},
   "outputs": [],
   "source": [
    "# 3.B\n",
    "who = input('Wen nachschlagen? ')\n",
    "if who in addressbook:\n",
    "    print('Gefunden: {} -> {}'.format(who, addressbook[who]))\n",
    "else:\n",
    "    email = input('Nicht gefunden, bitte E-Mail-Adresse für {} eingeben: '.format(who))\n",
    "    with open('email_addresses.txt', 'a') as f:\n",
    "        f.write('{} {}\\n'.format(who, email))\n",
    "    addressbook[who] = email\n",
    "    print('{} -> {} wurde im Adressbuch gepeichert.'.format(who, email))"
   ]
  }
 ],
 "metadata": {
  "kernelspec": {
   "display_name": "Python 3",
   "language": "python",
   "name": "python3"
  },
  "language_info": {
   "codemirror_mode": {
    "name": "ipython",
    "version": 3
   },
   "file_extension": ".py",
   "mimetype": "text/x-python",
   "name": "python",
   "nbconvert_exporter": "python",
   "pygments_lexer": "ipython3",
   "version": "3.7.6"
  }
 },
 "nbformat": 4,
 "nbformat_minor": 1
}
