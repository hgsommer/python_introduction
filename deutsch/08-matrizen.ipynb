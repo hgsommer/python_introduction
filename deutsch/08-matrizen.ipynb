{
 "cells": [
  {
   "cell_type": "markdown",
   "metadata": {},
   "source": [
    "<a name=\"top\"></a>Übersicht: Matrizen\n",
    "==="
   ]
  },
  {
   "cell_type": "markdown",
   "metadata": {},
   "source": [
    "* [Matrizen](#matrizen)\n",
    "  * [Mehrdimensionale Listen](#listen)\n",
    "  * [NumPy Arrays](#arrays)\n",
    "  * [Arrays erstellen](#erstellen)\n",
    "  * [Mathe mit Arrays](#mathe)\n",
    "  * [Filter](#filter)\n",
    "* [Übung 08: Matrizen](#uebung08)"
   ]
  },
  {
   "cell_type": "markdown",
   "metadata": {},
   "source": [
    "**Lernziele:** Am Ende dieser Einheit\n",
    "* wisst ihr, was eine third party Bibliothek ist und wie ihr sie verwenden könnt\n",
    "* könnt ihr mehrdimensionalen Daten in Arrays speichern\n",
    "* könnt einfache Mathe und Filteroperationen auf Arrays ausführen\n",
    "* könnt Arrays in Dateien speichern und laden"
   ]
  },
  {
   "cell_type": "markdown",
   "metadata": {},
   "source": [
    "<a name=\"matrizen\"></a>Matrizen\n",
    "==="
   ]
  },
  {
   "cell_type": "markdown",
   "metadata": {},
   "source": [
    "Bis jetzt hatten wir es immer nur mit eindimensionalen Datenkontainern zu tun:"
   ]
  },
  {
   "cell_type": "code",
   "execution_count": null,
   "metadata": {},
   "outputs": [],
   "source": [
    "liste = [1, 2, 3, 4, 5]"
   ]
  },
  {
   "cell_type": "markdown",
   "metadata": {},
   "source": [
    "Was tun, wenn wir eine Matrix darstellen wollen?\n",
    "\\begin{equation*}\n",
    "A = \\begin{pmatrix} 1 & 2  & 3 \\\\ 4 & 5 & 6 \\\\ 7 & 8 & 9 \\end{pmatrix}\n",
    "\\end{equation*}  "
   ]
  },
  {
   "cell_type": "markdown",
   "metadata": {},
   "source": [
    "<a name=\"listen\"></a>Mehrdimensionale Listen\n",
    "---"
   ]
  },
  {
   "cell_type": "markdown",
   "metadata": {},
   "source": [
    "Im Prinzip könnten wir das mit in Listen verschachtelten Listen realisieren:"
   ]
  },
  {
   "cell_type": "code",
   "execution_count": null,
   "metadata": {},
   "outputs": [],
   "source": [
    "A = [[1, 2, 3], [4, 5, 6], [7, 8, 9]]\n",
    "print(A)"
   ]
  },
  {
   "cell_type": "markdown",
   "metadata": {},
   "source": [
    "Auf einzelne Elemente der Liste zugreifen geht noch relativ einfach"
   ]
  },
  {
   "cell_type": "code",
   "execution_count": null,
   "metadata": {},
   "outputs": [],
   "source": [
    "print(A[1][1])"
   ]
  },
  {
   "cell_type": "markdown",
   "metadata": {},
   "source": [
    "Aber spätestens wenn wir eine ähnliche Funktionalität wie slicing haben wollten, wird es kompliziert. Zur Erinnerung: Bei eindimensionalen Listen funktioniert das slicing so:"
   ]
  },
  {
   "cell_type": "code",
   "execution_count": null,
   "metadata": {},
   "outputs": [],
   "source": [
    "a = [1, 2, 3, 4, 5]\n",
    "print(a[2:4])"
   ]
  },
  {
   "cell_type": "markdown",
   "metadata": {},
   "source": [
    "[top](#top)"
   ]
  },
  {
   "cell_type": "markdown",
   "metadata": {},
   "source": [
    "<a name=\"arrays\"></a>NumPy Arrays\n",
    "---"
   ]
  },
  {
   "cell_type": "markdown",
   "metadata": {},
   "source": [
    "Eine umfangreichere Einführung in NumPy findet ihr auf https://numpy.org/doc/stable/user/quickstart.html"
   ]
  },
  {
   "cell_type": "markdown",
   "metadata": {},
   "source": [
    "Die Lösung bietet eine sogenannte _third party_ Bibliothek. Im Gegensatz zur Standardbibliothek werden third party Bibliotheken nicht mit jeder Python-Installation mitgeliefert, sondern man muss sie zusätzlich von Hand dazu installieren.\n",
    "\n",
    "Praktischerweise bringen viele wissenschaftliche Python-Distributionen (wie z. B. die von Anaconda) schon sehr viele von den wichtigen third party Bibliotheken mit. Auch unsere hier benutzte Programmierumgebung kennt sie schon.\n",
    "\n",
    "Die Bibliothek, die wir für mehrdimensionale Listen, sog. _arrays_ brauchen, ist `NumPy` (für numeric Python). Genau wie Module aus der Standardbibliothek, können wir NumPy einfach importieren:"
   ]
  },
  {
   "cell_type": "code",
   "execution_count": null,
   "metadata": {},
   "outputs": [],
   "source": [
    "# das keyword 'as' gibt numpy beim Import ein\n",
    "# anderes Kürzel, um auf die Funktionalität zuzugreifen.\n",
    "# Das tun wir, um weniger Tippen zu müssen.\n",
    "import numpy as np"
   ]
  },
  {
   "cell_type": "code",
   "execution_count": null,
   "metadata": {},
   "outputs": [],
   "source": [
    "# konvertiere die Liste von Listen A mit der\n",
    "# asarray() Funktion in ein NumPy Array\n",
    "B = np.asarray(A)\n",
    "\n",
    "# zum Vergleich geben wir A und B noch einmal aus\n",
    "print('Liste von Listen:\\n {}\\n'.format(A))\n",
    "print('NumPy nD-Array:\\n {}'.format(B))"
   ]
  },
  {
   "cell_type": "markdown",
   "metadata": {},
   "source": [
    "Auf Elemente in mehrdimensionalen Arrays greifen wir mit Hilfe von mehreren Indices zu (ein Index pro Dimension des Arrays um das Element zweifelsfrei zu lokalisieren):"
   ]
  },
  {
   "cell_type": "code",
   "execution_count": null,
   "metadata": {},
   "outputs": [],
   "source": [
    "print(B[1, 1])"
   ]
  },
  {
   "cell_type": "markdown",
   "metadata": {},
   "source": [
    "Macht erstmal nicht viel her, aber schon die eingebaute slicing Funktionalität ist wirklich praktisch, denn wir können jetzt slices über mehrere Dimensionen definieren:"
   ]
  },
  {
   "cell_type": "code",
   "execution_count": null,
   "metadata": {},
   "outputs": [],
   "source": [
    "print(B[0:2, 0:2])  # [Zeile, Spalte]"
   ]
  },
  {
   "cell_type": "code",
   "execution_count": null,
   "metadata": {},
   "outputs": [],
   "source": [
    "print(B[:, 0:2])    # [Zeile, Spalte]"
   ]
  },
  {
   "cell_type": "code",
   "execution_count": null,
   "metadata": {},
   "outputs": [],
   "source": [
    "print(B[0:2, :])    # [Zeile, Spalte]"
   ]
  },
  {
   "cell_type": "markdown",
   "metadata": {},
   "source": [
    "**WICHTIG:** Bei der Reihenfolge der Indices gilt der Merksatz:\n",
    "_Zeile zuerst, Spalte später!_"
   ]
  },
  {
   "cell_type": "markdown",
   "metadata": {},
   "source": [
    "[top](#top)"
   ]
  },
  {
   "cell_type": "markdown",
   "metadata": {},
   "source": [
    "<a name=\"erstellen\"></a>Arrays erstellen\n",
    "---"
   ]
  },
  {
   "cell_type": "markdown",
   "metadata": {},
   "source": [
    "Um Arrays zu erstellen gibt es neben `asarray()` zum konvertieren anderer Kontainer in Arrays noch viele andere Funktionen. Drei hilfreiche davon sind:"
   ]
  },
  {
   "cell_type": "markdown",
   "metadata": {},
   "source": [
    "* `arange()`: gleich wie `range()`, nur dass direkt ein Array erstellt wird.\n",
    "* `reshape()`: verändert die Form eines Arrays.\n",
    "* `linspace()`: ähnlich zu `arange()` aber erzeugt keine Ganzzahlen sondern eine lineare Interpolation zwischen Start und Ende."
   ]
  },
  {
   "cell_type": "code",
   "execution_count": null,
   "metadata": {},
   "outputs": [],
   "source": [
    "# erstelle ein eindimensionales Array mit 16 Elementen\n",
    "A = np.arange(16)\n",
    "print(A)\n",
    "print(type(A))"
   ]
  },
  {
   "cell_type": "code",
   "execution_count": null,
   "metadata": {},
   "outputs": [],
   "source": [
    "# forme A in ein zweidimensionales 4x4 Array um\n",
    "A = A.reshape((4, 4))\n",
    "print(A)\n",
    "\n",
    "# merke: die Gesamtzahl der Elemente muss dabei\n",
    "# erhalten bleiben!"
   ]
  },
  {
   "cell_type": "code",
   "execution_count": null,
   "metadata": {},
   "outputs": [],
   "source": [
    "start = 0\n",
    "stop = 10\n",
    "anzahl = 50\n",
    "\n",
    "# linspace erzeugt \"anzahl\" Elemente die gleichmäßig\n",
    "# zwischen start und stop verteilt werden\n",
    "B = np.linspace(start, stop, anzahl)  # (start, stop, anzahl)\n",
    "\n",
    "print(B)"
   ]
  },
  {
   "cell_type": "markdown",
   "metadata": {},
   "source": [
    "Zusätzlich dazu können wir Arrays auch aus Dateien laden bzw. sie als Dateien speichern mit\n",
    "* `np.loadtxt()`\n",
    "* `np.savetxt()`"
   ]
  },
  {
   "cell_type": "code",
   "execution_count": null,
   "metadata": {},
   "outputs": [],
   "source": [
    "polygone = np.loadtxt('../polygons.txt')\n",
    "print(polygone)"
   ]
  },
  {
   "cell_type": "markdown",
   "metadata": {},
   "source": [
    "Wenn ein Array zu groß ist, um es sinnvoll auszugeben, dann hilft uns ein sogenanntes _Attribut_ des Array-Objektes weiter, ```shape```:"
   ]
  },
  {
   "cell_type": "code",
   "execution_count": null,
   "metadata": {},
   "outputs": [],
   "source": [
    "print(polygone.shape)"
   ]
  },
  {
   "cell_type": "code",
   "execution_count": null,
   "metadata": {},
   "outputs": [],
   "source": [
    "# shape ist ein Tupel, ein iterierbarer Kontainer\n",
    "# ähnlich einer Liste, und hat zwei Elemente die\n",
    "# wir einzelnen Variablen zuweisen können\n",
    "hoehe, breite = polygone.shape\n",
    "\n",
    "print('Anzahl Zeilen: {}'.format(hoehe))\n",
    "print('Anzahl Spalten: {}'.format(breite))"
   ]
  },
  {
   "cell_type": "markdown",
   "metadata": {},
   "source": [
    "Ähnlich einfach können wir Matrizen aus Variablen in Dateien schreiben und speichern:"
   ]
  },
  {
   "cell_type": "code",
   "execution_count": null,
   "metadata": {},
   "outputs": [],
   "source": [
    "np.savetxt('matrix_c.txt', C)"
   ]
  },
  {
   "cell_type": "markdown",
   "metadata": {},
   "source": [
    "[top](#top)"
   ]
  },
  {
   "cell_type": "markdown",
   "metadata": {},
   "source": [
    "<a name=\"mathe\"></a>Mathe mit Arrays\n",
    "---"
   ]
  },
  {
   "cell_type": "markdown",
   "metadata": {},
   "source": [
    "Führen wir Standardoperationen wie plus, minus, mal oder geteilt auf Arrays aus, werden diese _elementeweise_ auf jeden Eintrag im Array angewendet:"
   ]
  },
  {
   "cell_type": "code",
   "execution_count": null,
   "metadata": {},
   "outputs": [],
   "source": [
    "A = np.arange(16).reshape((4, 4))\n",
    "\n",
    "print('vorher:')\n",
    "print(A)\n",
    "A = A + 2\n",
    "print('\\nnachher:')\n",
    "print(A)"
   ]
  },
  {
   "cell_type": "markdown",
   "metadata": {},
   "source": [
    "Zum Vergleich: mit Listen funktioniert das nicht!"
   ]
  },
  {
   "cell_type": "code",
   "execution_count": null,
   "metadata": {},
   "outputs": [],
   "source": [
    "a = [1, 2, 3, 4]\n",
    "a + 2"
   ]
  },
  {
   "cell_type": "markdown",
   "metadata": {},
   "source": [
    "Auch ganz einfach mittels `dot()` Funktion zu realisieren ist die Matrix-Multiplikation:"
   ]
  },
  {
   "cell_type": "code",
   "execution_count": null,
   "metadata": {},
   "outputs": [],
   "source": [
    "# erstelle zwei 3x3 Matrizen aus Listen\n",
    "A = np.asarray([[1, 2, 3], [0, 1, 0], [2, 0, 1]])\n",
    "B = np.asarray([[3, 0, 4], [0, 0, 1], [2, 2, 2]])\n",
    "\n",
    "# multipliziere die Matrizen und speichere das Ergebnis\n",
    "C = np.dot(A, B)\n",
    "\n",
    "# überprüfe den Output\n",
    "print('A:')\n",
    "print(A)\n",
    "print('\\nB:')\n",
    "print(B)\n",
    "print('\\nC:')\n",
    "print(C)"
   ]
  },
  {
   "cell_type": "markdown",
   "metadata": {},
   "source": [
    "[top](#top)"
   ]
  },
  {
   "cell_type": "markdown",
   "metadata": {},
   "source": [
    "<a name=\"filter\"></a>Filter\n",
    "---"
   ]
  },
  {
   "cell_type": "markdown",
   "metadata": {},
   "source": [
    "Wir können auch logische Funktionen auf Arrays anwenden und sie damit _filtern_. Die entsprechende Funktion dafür ist ```where()```:"
   ]
  },
  {
   "cell_type": "code",
   "execution_count": null,
   "metadata": {},
   "outputs": [],
   "source": [
    "# an welchen Indices in der Matrix C ist die\n",
    "# Bedingung Element < 10 erfüllt?\n",
    "np.where(C < 10)"
   ]
  },
  {
   "cell_type": "code",
   "execution_count": null,
   "metadata": {},
   "outputs": [],
   "source": [
    "# welche Einträge in C sind kleiner C?\n",
    "C[np.where(C < 10)]"
   ]
  },
  {
   "cell_type": "code",
   "execution_count": null,
   "metadata": {},
   "outputs": [],
   "source": [
    "# filtert die Matrix C so, dass jedes\n",
    "# Element größer 10 auf 1 gesetzt wird\n",
    "# und jedes Element kleiner 10 auf null\n",
    "D = np.where(C < 10, 0, 1)\n",
    "print(D)"
   ]
  },
  {
   "cell_type": "markdown",
   "metadata": {},
   "source": [
    "[top](#top)"
   ]
  },
  {
   "cell_type": "markdown",
   "metadata": {},
   "source": [
    "<a name=\"uebung08\"></a>Übung 08: Matrizen\n",
    "==="
   ]
  },
  {
   "cell_type": "markdown",
   "metadata": {},
   "source": [
    "1. **Matrizen**\n",
    "  1. Erstelle eine Liste mit 100 zufälligen Ganzzahlen. Konvertiere die Liste in ein NumPy Array und forme sie in eine 10 x 10 Matrix um.\n",
    "  2. Speichere die Matrix in einer Textdatei.\n",
    "  3. **(Optional)** Recherchiere, wie man die selbe Aufgabe mit `numpy.random.randint()` wesentlich kürzer schreiben kann.\n",
    "  4. Weise die 5x5 sub-Matrizen oben links, oben rechts, unten links und unten rechts jeweils separaten Variablen zu.\n",
    "  5. Multipliziere die sub-Matrizen miteinander und gib das Ergebnis aus.\n",
    "  6. **(Optional)** Experimentiere ein bisschen mit der Filter-Funktion `where()`. Andere logische Abfragen und Operationen? Elemente aus zwei Matrizen einer dritten zuweisen?"
   ]
  },
  {
   "cell_type": "markdown",
   "metadata": {},
   "source": [
    "[top](#top)"
   ]
  }
 ],
 "metadata": {
  "kernelspec": {
   "display_name": "Python 3",
   "language": "python",
   "name": "python3"
  },
  "language_info": {
   "codemirror_mode": {
    "name": "ipython",
    "version": 3
   },
   "file_extension": ".py",
   "mimetype": "text/x-python",
   "name": "python",
   "nbconvert_exporter": "python",
   "pygments_lexer": "ipython3",
   "version": "3.8.6"
  }
 },
 "nbformat": 4,
 "nbformat_minor": 4
}
