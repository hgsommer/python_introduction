{
 "cells": [
  {
   "cell_type": "markdown",
   "metadata": {},
   "source": [
    "<a name=\"top\"></a>Übersicht: mehr Listen\n",
    "==="
   ]
  },
  {
   "cell_type": "markdown",
   "metadata": {},
   "source": [
    "* [Operationen auf Listen](#operationen)\n",
    "  * [Hinzufügen von Elementen](#hinzufuegen)\n",
    "  * [Entfernen von Elementen](#entfernen)\n",
    "  * [Leere Listen](#leer)\n",
    "  * [Sortieren](#sortieren)\n",
    "  * [Umkehren](#umkehren)\n",
    "  * [min, max, sum](#funktionalitaet)\n",
    "* [Listen erzeugen](#erzeugen)\n",
    "  * [Die range() Funktion](#range)\n",
    "  * [List comprehensions](#comprehensions)\n",
    "* [Übung 04: Mehr Listen](#uebung04) "
   ]
  },
  {
   "cell_type": "markdown",
   "metadata": {},
   "source": [
    "**Lernziele:** Am Ende dieser Einheit\n",
    "* wisst ihr, wie ihr Elemente zu Listen hinzufügt, entfernt und Listen sortiert\n",
    "* wisst ihr, wie ihr automatisch Listen von Zahlen erstellt.\n",
    "* wisst ihr, wie ihr automatisch komplizierte Listen mit Hilfe von List comprehensions erzeugt."
   ]
  },
  {
   "cell_type": "markdown",
   "metadata": {},
   "source": [
    "<a name=\"operationen\"></a>Operationen auf Listen\n",
    "==="
   ]
  },
  {
   "cell_type": "markdown",
   "metadata": {},
   "source": [
    "##### Elemente modifizieren"
   ]
  },
  {
   "cell_type": "markdown",
   "metadata": {},
   "source": [
    "Wie oben schon gesehen, können wir Elemente in der Liste auch noch nach Erstellen der Liste modifizieren:"
   ]
  },
  {
   "cell_type": "code",
   "execution_count": null,
   "metadata": {},
   "outputs": [],
   "source": [
    "# erstelle eine Liste\n",
    "animals = ['cat', 'dog', 'bird', 'horse']\n",
    "print(animals)\n",
    "\n",
    "# weise dem Element an Index 2 einen neuen Wert zu\n",
    "animals[2] = 'penguin'\n",
    "print(animals)"
   ]
  },
  {
   "cell_type": "markdown",
   "metadata": {},
   "source": [
    "<a name=\"hinzufuegen\"></a>Hinzufügen von Elementen\n",
    "---"
   ]
  },
  {
   "cell_type": "markdown",
   "metadata": {},
   "source": [
    "Um Elemente zu einer existierenden Liste hinzuzufügen, gibt uns Python drei verschiedene Möglichkeiten:\n",
    "* `list.insert()`: um ein Element an einem bestimmten Index einzufügen (Elemente danach werden nach hinten verschoben)\n",
    "* `list.append()`: um ein Element an das Ende der Liste anzuhängen\n",
    "* `list.extend()`: um eine existierende Liste um eine andere existierende Liste zu erweitern."
   ]
  },
  {
   "cell_type": "code",
   "execution_count": null,
   "metadata": {},
   "outputs": [],
   "source": [
    "# erzeuge zwei neue Beispiellisten\n",
    "strings = ['a', 'b', 'c']\n",
    "numbers = [1, 2, 3]"
   ]
  },
  {
   "cell_type": "code",
   "execution_count": null,
   "metadata": {},
   "outputs": [],
   "source": [
    "print(strings)\n",
    "# füge strings ein neues Element am Index 2 hinzu\n",
    "strings.insert(2, 'z')\n",
    "print(strings)"
   ]
  },
  {
   "cell_type": "code",
   "execution_count": null,
   "metadata": {},
   "outputs": [],
   "source": [
    "print(numbers)\n",
    "# hänge ein Element an numbers an\n",
    "numbers.append(10)\n",
    "print(numbers)"
   ]
  },
  {
   "cell_type": "code",
   "execution_count": null,
   "metadata": {},
   "outputs": [],
   "source": [
    "# erweitere strings um die Liste numbers\n",
    "strings.extend(numbers)\n",
    "print(strings)"
   ]
  },
  {
   "cell_type": "code",
   "execution_count": null,
   "metadata": {},
   "outputs": [],
   "source": [
    "# Listen lassen sich auch 'addieren'\n",
    "numbers = numbers + strings\n",
    "print(numbers)"
   ]
  },
  {
   "cell_type": "markdown",
   "metadata": {},
   "source": [
    "<a name=\"entfernen\"></a>Entfernen von Elementen\n",
    "---"
   ]
  },
  {
   "cell_type": "markdown",
   "metadata": {},
   "source": [
    "Auch für das Entfernen von Elementen aus einer Liste gibt es drei Möglichkeiten:\n",
    "* `list.remove()`: entfernt ein Element mit einem bestimmten Wert\n",
    "* `del`: entfernt ein Element an einem bestimmten Index\n",
    "* `list.pop()`: entfernt das letzte Element in der Liste und gibt es zurück"
   ]
  },
  {
   "cell_type": "code",
   "execution_count": null,
   "metadata": {
    "scrolled": true
   },
   "outputs": [],
   "source": [
    "# erstelle eine neue Liste\n",
    "dinge = ['stein', 'blume', 'foto', 'PC', 'kuchen', 'stein']\n",
    "print(dinge)\n",
    "\n",
    "# entferne das erste Element mit dem Wert 'stein'\n",
    "# aus der Liste\n",
    "dinge.remove('stein')\n",
    "print(dinge)"
   ]
  },
  {
   "cell_type": "code",
   "execution_count": null,
   "metadata": {},
   "outputs": [],
   "source": [
    "# entferne das element am index 0 aus der Liste\n",
    "del dinge[0]\n",
    "print(dinge)"
   ]
  },
  {
   "cell_type": "code",
   "execution_count": null,
   "metadata": {},
   "outputs": [],
   "source": [
    "# entferne das letzte Element aus der Liste und\n",
    "# \"fange\" es in einer Variablen auf\n",
    "last_element = dinge.pop()\n",
    "\n",
    "# dinge hat jetzt nur noch zwei Elemente\n",
    "print(dinge)\n",
    "# 'kuchen' ist in der Variablen 'last_element'\n",
    "# gespeichert\n",
    "print(last_element)"
   ]
  },
  {
   "cell_type": "markdown",
   "metadata": {},
   "source": [
    "[top](#top)"
   ]
  },
  {
   "cell_type": "markdown",
   "metadata": {},
   "source": [
    "<a name=\"leer\"></a>Leere Listen\n",
    "---"
   ]
  },
  {
   "cell_type": "markdown",
   "metadata": {},
   "source": [
    "Machmal kann es sinnvoll sein, eine leere Liste zu erstellen, die dann später aufgefüllt wird - z.B. mit Hilfe eines loops:"
   ]
  },
  {
   "cell_type": "code",
   "execution_count": null,
   "metadata": {},
   "outputs": [],
   "source": [
    "# wir erstellen eine gefüllte Liste\n",
    "letters = ['a', 'b', 'c', 'd']\n",
    "\n",
    "# und eine leere Liste\n",
    "alphabet = []\n",
    "\n",
    "# wir füllen alphabet mittels eines loops\n",
    "for letter in letters:\n",
    "    alphabet.append(letter + letter)\n",
    "\n",
    "print(alphabet)"
   ]
  },
  {
   "cell_type": "code",
   "execution_count": null,
   "metadata": {},
   "outputs": [],
   "source": [
    "leere_liste = []\n",
    "print(len(leere_liste))"
   ]
  },
  {
   "cell_type": "markdown",
   "metadata": {},
   "source": [
    "[top](#top)"
   ]
  },
  {
   "cell_type": "markdown",
   "metadata": {},
   "source": [
    "<a name=\"sortieren\"></a>Sortieren\n",
    "---"
   ]
  },
  {
   "cell_type": "markdown",
   "metadata": {},
   "source": [
    "Wir können Listen mit Hilfe von `list.sort()` automatisch anhand ihres Inhalts sortieren. Natürlich funktioniert das nur, wenn für den Inhalt Relationen wie _größer_, _kleiner_ und _gleich_ sinnvoll definiert sind. Standardmäßig werden Strings alphabetisch und Zahlen aufsteigend sortiert.  "
   ]
  },
  {
   "cell_type": "code",
   "execution_count": null,
   "metadata": {},
   "outputs": [],
   "source": [
    "# erstelle eine ungeordnete Liste\n",
    "letters = ['b', 'a', 'x', 'z', 'c', 'y']\n",
    "print('original: {}'.format(letters))\n",
    "\n",
    "# sortiere die Liste\n",
    "letters.sort()\n",
    "print('alphabetisch: {}'.format(letters))"
   ]
  },
  {
   "cell_type": "markdown",
   "metadata": {},
   "source": [
    "**WICHTIG:** Die Reihenfolge der Elemente in der Liste wird _permanent_ verändert, die Information über die originale Reihenfolge geht verloren!\n",
    "\n",
    "Wenn das nicht passieren soll, können wir mit der Funktion `sorted()` eine sortierte Kopie der Liste erzeugen:"
   ]
  },
  {
   "cell_type": "code",
   "execution_count": null,
   "metadata": {},
   "outputs": [],
   "source": [
    "letters = ['b', 'a', 'x', 'z', 'c', 'y']\n",
    "# Gib die Buchstaben in alphabetischer Reihenfolge aus,\n",
    "# aber erhalte ursprüngliche Reihenfolge\n",
    "print('Alphabetisch: {}'.format(sorted(letters)))\n",
    "\n",
    "# Gib die Buchstaben in umgekehrt alphabetischer Reihenfolge aus,\n",
    "# aber erhalte ursprüngliche Reihenfolge\n",
    "print('Umgekehrt alphabetisch: {}'.format(sorted(letters, reverse=True)))\n",
    "\n",
    "# Show that the original order is preserved\n",
    "print('Ursprüngliche Reihenfolge: {}'.format(letters))"
   ]
  },
  {
   "cell_type": "markdown",
   "metadata": {},
   "source": [
    "[top](#top)"
   ]
  },
  {
   "cell_type": "markdown",
   "metadata": {},
   "source": [
    "<a name=\"umkehren\"></a>Umkehren\n",
    "---"
   ]
  },
  {
   "cell_type": "markdown",
   "metadata": {},
   "source": [
    "Die Funktion `list.reverse()` kehrt die Reihenfolge der Listenelemente um:"
   ]
  },
  {
   "cell_type": "code",
   "execution_count": null,
   "metadata": {},
   "outputs": [],
   "source": [
    "# erstelle eine Liste\n",
    "numbers = [10, 2, 5, 3]\n",
    "print('original: {}'.format(numbers))\n",
    "\n",
    "# sortiere die Liste aufsteigend\n",
    "numbers.sort()\n",
    "print('aufsteigend: {}'.format(numbers))\n",
    "\n",
    "# drehe die Reihenfolge um\n",
    "numbers.reverse()\n",
    "print('absteigend: {}'.format(numbers))"
   ]
  },
  {
   "cell_type": "markdown",
   "metadata": {},
   "source": [
    "[top](#top)"
   ]
  },
  {
   "cell_type": "markdown",
   "metadata": {},
   "source": [
    "<a name=\"funktionalitaet\"></a>Min, max, sum\n",
    "---"
   ]
  },
  {
   "cell_type": "markdown",
   "metadata": {},
   "source": [
    "Für Listen die nur Zahlen enthalten, gibt es noch ein paar praktische Helferlein:\n",
    "* `min()`: gibt das kleines Element einer Liste zurück\n",
    "* `max()`: gibt das größte Element einer Liste zurück\n",
    "* `sum()`: gibt die Summe aller Elemente einer Liste zurück"
   ]
  },
  {
   "cell_type": "code",
   "execution_count": null,
   "metadata": {},
   "outputs": [],
   "source": [
    "# erstelle eine neue Liste\n",
    "numbers = [5, 1, 3, 10, 8, 14, 10]\n",
    "\n",
    "# finde das Minimum\n",
    "minimum = min(numbers)\n",
    "\n",
    "# finde das Maximum\n",
    "maximum = max(numbers)\n",
    "\n",
    "# berechne die Summe\n",
    "summe = sum(numbers)\n",
    "\n",
    "print('Minimum: {}, Maximum: {}, Summe: {}'\\\n",
    "     .format(minimum, maximum, summe))"
   ]
  },
  {
   "cell_type": "markdown",
   "metadata": {},
   "source": [
    "[top](#top)"
   ]
  },
  {
   "cell_type": "markdown",
   "metadata": {},
   "source": [
    "<a name=\"erzeugen\"></a>Listen erzeugen\n",
    "==="
   ]
  },
  {
   "cell_type": "markdown",
   "metadata": {},
   "source": [
    "<a name=\"range\"></a>Die range() Funktion\n",
    "---"
   ]
  },
  {
   "cell_type": "markdown",
   "metadata": {},
   "source": [
    "Kompliziertere oder längere Listen immer von Hand zu tippen ist nervig und frisst Zeit. Für Zahlen gibt es dafür die handliche `range()` Funktion. Wie bei den slices brauchen wir hier den Start einer Sequenz von Zahlen, ihr Ende und die Schrittweite:"
   ]
  },
  {
   "cell_type": "code",
   "execution_count": null,
   "metadata": {},
   "outputs": [],
   "source": [
    "# gib alle geraden Zahlen zwischen 0 und 15 aus\n",
    "for number in range(0, 15, 2):\n",
    "    print(number)"
   ]
  },
  {
   "cell_type": "markdown",
   "metadata": {},
   "source": [
    "Diese Zahlen könnten wir auch in einer Liste speichern:"
   ]
  },
  {
   "cell_type": "code",
   "execution_count": null,
   "metadata": {},
   "outputs": [],
   "source": [
    "# erstelle eine leere Liste\n",
    "even_numbers = []\n",
    "\n",
    "# für jede Iteration des loops\n",
    "# hänge ein Element an die Liste an\n",
    "for number in range(0, 15, 2):\n",
    "    even_numbers.append(number)\n",
    "\n",
    "print(even_numbers)"
   ]
  },
  {
   "cell_type": "markdown",
   "metadata": {},
   "source": [
    "Das ganze geht aber auch einfacher, indem wir die Funktion `list()` anwenden:"
   ]
  },
  {
   "cell_type": "code",
   "execution_count": null,
   "metadata": {},
   "outputs": [],
   "source": [
    "# list() erzeugt eine Liste aus einer\n",
    "# anderen Interablen\n",
    "even_numbers = list(range(0, 15, 2))\n",
    "print(even_numbers)"
   ]
  },
  {
   "cell_type": "markdown",
   "metadata": {},
   "source": [
    "[top](#top)"
   ]
  },
  {
   "cell_type": "markdown",
   "metadata": {},
   "source": [
    "<a name=\"comprehensions\"></a>List comprehensions\n",
    "---"
   ]
  },
  {
   "cell_type": "markdown",
   "metadata": {},
   "source": [
    "Wenn wir noch kompliziertere Listen erstellen wollen, die wir nicht mit Start, Ende und Schrittweite beschreiben können, dann bietet uns Python sogenannte \"list comprehensions\" (Listen-Ausdrücke):"
   ]
  },
  {
   "cell_type": "code",
   "execution_count": null,
   "metadata": {},
   "outputs": [],
   "source": [
    "squares = [number ** 2 for number in range(0, 15, 2)]\n",
    "print(squares)"
   ]
  },
  {
   "cell_type": "markdown",
   "metadata": {},
   "source": [
    "Was ist da gerade passiert?\n",
    "* der Teil nach dem `for` startet einen loop der 8 mal läuft und  in jedem Durchlauf die nächste gerade Zahl zurückgibt\n",
    "* der Teil vor dem `for` führt eine Operation auf der gerade aktuellen geraden Zahl aus (in unserem Fall wird die Zahl quadriert)\n",
    "* die eckigen Klammern um den ganzen Ausdruck herum \"kanalisieren\" das Ergebnis in eine Liste\n",
    "* die Liste wird dann einer neuen Variable `squares` zugewiesen"
   ]
  },
  {
   "cell_type": "markdown",
   "metadata": {},
   "source": [
    "List comprehensions sind eine extrem praktische und sehr Python-typische Sache. Das Konzept ist ein bisschen schwieriger zu verstehen aber sehr wichtig, deswegen noch ein paar mehr Beispiele:"
   ]
  },
  {
   "cell_type": "code",
   "execution_count": null,
   "metadata": {},
   "outputs": [],
   "source": [
    "# erstelle eine neue Liste der\n",
    "# Zahlen von 0 bis 9\n",
    "numbers = [number for number in range(10)]\n",
    "print(numbers)\n",
    "\n",
    "# teile jede Zahl durch 2\n",
    "halves = [number / 2 for number in numbers]\n",
    "print(halves)"
   ]
  },
  {
   "cell_type": "code",
   "execution_count": null,
   "metadata": {},
   "outputs": [],
   "source": [
    "# addiere zwei zu jedem Element\n",
    "numbers = list(range(10))\n",
    "plus_two = [number + 2 for number in numbers]\n",
    "print(plus_two)"
   ]
  },
  {
   "cell_type": "code",
   "execution_count": null,
   "metadata": {},
   "outputs": [],
   "source": [
    "# Spaß mit Strings\n",
    "names = ['Jana', 'Katrin']\n",
    "narcissists = [name + ' die Großartige' for name in names]\n",
    "print(narcissists)"
   ]
  },
  {
   "cell_type": "markdown",
   "metadata": {},
   "source": [
    "[top](#top)"
   ]
  },
  {
   "cell_type": "markdown",
   "metadata": {},
   "source": [
    "<a name=\"uebung04\"></a>Übung 04: Mehr Listen\n",
    "==="
   ]
  },
  {
   "cell_type": "markdown",
   "metadata": {},
   "source": [
    "2. **Operationen auf Listen**\n",
    "  1. Erstelle eine Liste mit Vornamen. Fange mit der Liste [dein_eigener_Name] an und fülle die Liste mit den Namen von mindestens 5 weiteren Kursteilnehmer\\*innen indem du `append()`, `insert()` und `extend()` benutzt.\n",
    "  2. Erstelle eine zweite, leere Liste. Iteriere mittels `for` und `enumerate()` über die Liste mit Namen. Multipliziere jeden Namen mit seinem Index in der Liste. Speichere das Ergebnis in der leeren Liste.\n",
    "  3. **(Optional)** Gib die Länge der Liste und die Gesamtzahl von Buchstaben von allen Strings in der Liste gemeinsam aus.\n",
    "  HINWEIS: Strings sind selbst eine Sammlung von Buchstaben, ihre Länge kann mittels `len()` bestimmt werden!\n",
    "  4. **(Optional)** Erstelle eine Liste der ersten 50 geraden Zahlen  mit der `range()` Funktion. Berechne die Summe aller Zahlen einmal mit einem `for` loop und einmal mit der `sum()` Funktion.\n",
    "3. **Listen erzeugen**\n",
    "  1. Erstelle eine Liste der ersten zehn Zahlen hoch 3 indem du eine list-comprehension benutzt.\n",
    "  2. **(Optional)** Erstelle eine Liste mit den ersten 100 Elementen der Fibonacci Folge. Was für Probleme ergeben sich, wenn du versuchst, eine List-comprehension dafür zu benutzen?"
   ]
  },
  {
   "cell_type": "markdown",
   "metadata": {},
   "source": [
    "[top](#top)"
   ]
  }
 ],
 "metadata": {
  "kernelspec": {
   "display_name": "Python 3",
   "language": "python",
   "name": "python3"
  },
  "language_info": {
   "codemirror_mode": {
    "name": "ipython",
    "version": 3
   },
   "file_extension": ".py",
   "mimetype": "text/x-python",
   "name": "python",
   "nbconvert_exporter": "python",
   "pygments_lexer": "ipython3",
   "version": "3.6.6"
  }
 },
 "nbformat": 4,
 "nbformat_minor": 1
}
