{
 "cells": [
  {
   "cell_type": "markdown",
   "metadata": {
    "nbpresent": {
     "id": "949ee12e-e777-4571-9fff-d8b7e94026de"
    }
   },
   "source": [
    "# Verschiedenes und Ausblick\n",
    "\n",
    "## Inhalt\n",
    "\n",
    "* [Python lokal installieren](#local)\n",
    "  * [Von python.org herunterladen](#pythonorg)\n",
    "  * [Alternative: Anaconda](#anaconda)\n",
    "* [Pakete installieren mit pip](#pip)\n",
    "* [Kommandozeile / Terminal](#cli)\n",
    "* [Ein paar weitere nützliche Module](#modules)\n",
    "* [IDEs (Integrated Development Environments)](#ide)\n",
    "* [Links](#links)\n",
    "  * [Tutorials](#tutorials)"
   ]
  },
  {
   "cell_type": "markdown",
   "metadata": {
    "nbpresent": {
     "id": "364b38e2-94e7-41c6-a80c-6719b657ef2e"
    }
   },
   "source": [
    "# Python lokal installieren<a name=\"local\"></a>"
   ]
  },
  {
   "cell_type": "markdown",
   "metadata": {
    "nbpresent": {
     "id": "5382c652-a268-4c41-aa8b-fffc8608e847"
    }
   },
   "source": [
    "## Von python.org herunterladen <a name=\"pythonorg\"></a>\n",
    "\n",
    "Auf der offiziellen Website http://www.python.org finden Sie das Installationsprogramm für Python bzw. Anleitungen, wie Sie Python für Ihr jeweiliges Betriebssystem installieren können."
   ]
  },
  {
   "cell_type": "markdown",
   "metadata": {
    "nbpresent": {
     "id": "a4dd0a71-5624-4feb-a697-6d5ef3bad184"
    }
   },
   "source": [
    "## Alternative: Anaconda<a name=\"anaconda\"></a>\n",
    "\n",
    "Die **Anaconda Python Distribution** enthält bereits eine Menge Pakete, die für wissenschaftliche Anwendungen nützlich sind:\n",
    "- Python 2, Python 3, pip\n",
    "- Bibliotheken: numpy, pandas, SciPy, Matplotlib, ...\n",
    "- Conda: Verwaltung von mehreren separaten „Environments“, Paketverwaltung\n",
    "- IDEs: Jupyter, Spyder\n",
    "\n",
    "Download: https://www.anaconda.com/distribution/\n"
   ]
  },
  {
   "cell_type": "markdown",
   "metadata": {},
   "source": [
    "# Pakete installieren mit pip<a name=\"pip\"></a>\n",
    "\n",
    "Python stellt ein Program zur Paketverwaltung bereit, mit dem man Pakete aus dem [Python Package Index](https://pypi.org) (PyPI) installieren kann.\n",
    "\n",
    "Einfaches Beispiel:\n",
    "```\n",
    "> pip install PackageName\n",
    "```\n",
    "Dokumentation für pip: https://pip.pypa.io/en/stable/user_guide/\n"
   ]
  },
  {
   "cell_type": "markdown",
   "metadata": {
    "nbpresent": {
     "id": "f51a4894-327e-4cae-9348-0c0f25c323e4"
    }
   },
   "source": [
    "# Running Python from the command-line / terminal<a name=\"cli\"></a>"
   ]
  },
  {
   "cell_type": "markdown",
   "metadata": {
    "nbpresent": {
     "id": "4bb1a36a-8bfa-4c22-9c9e-2711c705608b"
    }
   },
   "source": [
    "## Interaktiver Modus\n",
    "\n",
    "Öffnen Sie ein Terminal-Fenster und geben Sie ein:\n",
    "```\n",
    "> python\n",
    "```\n",
    "Dadurch wird der interaktive Python-Interpreter gestartet, mit dem man schrittweise Python-Code eingeben und ausführen kann:\n",
    "\n",
    "```\n",
    "Python 3.5.2 |Anaconda custom (64-bit)| (default, Jul  5 2016, 11:41:13) [MSC v.1900 64 bit (AMD64)] on win32\n",
    "Type \"help\", \"copyright\", \"credits\" or \"license\" for more information.\n",
    ">>> print('Hello world!')\n",
    "Hello world!\n",
    ">>> exit()\n",
    "```\n",
    "Für einfache Aufgaben und schnelle Tests ist der interaktive Interpreter sehr nützlich."
   ]
  },
  {
   "cell_type": "markdown",
   "metadata": {},
   "source": [
    "## Python-Scripte ausführen\n",
    "\n",
    "Python-Scripte werden normalerweise in Dateien mit der Dateieindung **.py** gespeichert.\n",
    "\n",
    "Inhalt der Datei `sample_script.py`:"
   ]
  },
  {
   "cell_type": "markdown",
   "metadata": {},
   "source": [
    "```python\n",
    "# A very simple python program\n",
    "\n",
    "import sys\n",
    "\n",
    "# Ask for user input\n",
    "try:\n",
    "    a = int(input(\"Please enter a number: \"))\n",
    "    b = int(input(\"Please enter another number: \"))\n",
    "except:\n",
    "    print(\"Huh? I didn't expect that...\")\n",
    "    sys.exit(1)\n",
    "    \n",
    "print(\"The sum of {} and {} is {}\".format(a, b, a+b))\n",
    "```"
   ]
  },
  {
   "cell_type": "markdown",
   "metadata": {
    "nbpresent": {
     "id": "0697d0f1-607e-4059-8ba0-d8ab5fb95ca6"
    }
   },
   "source": [
    "Dieses Script lässt sich ausführen, in dem man im Terminal in das entsprechende Verzeichnis wechselt und folgendes eingibt:\n",
    "```\n",
    "> python sample_script.py\n",
    "```"
   ]
  },
  {
   "cell_type": "markdown",
   "metadata": {},
   "source": [
    "## Scripte mit Kommandozeilen-Parametern ausführen\n",
    "\n",
    "Ähnlich wie Funktionen, können auch Scripte mit Parametern ausgeführt werden. Die Liste der im Terminal eingegebenen Argumente wird durch die Variable `argv` aus dem Modul `sys` bereitgestellt."
   ]
  },
  {
   "cell_type": "markdown",
   "metadata": {},
   "source": [
    "Inhalt der Datei `script-arguments.py`:"
   ]
  },
  {
   "cell_type": "markdown",
   "metadata": {},
   "source": [
    "```python\n",
    "import sys\n",
    "print('Number of arguments:', len(sys.argv))\n",
    "print('Argument List:', sys.argv)\n",
    "if len(sys.argv) > 2:\n",
    "    print(sys.argv[2])\n",
    "```"
   ]
  },
  {
   "cell_type": "markdown",
   "metadata": {
    "nbpresent": {
     "id": "90975b12-a726-4cb9-9586-e5198b51c7de"
    }
   },
   "source": [
    "Um das Script mit Argumenten aufzurufen, schreiben wir sie hinter den Scriptnamen:\n",
    "```\n",
    "> python script-arguments.py John Cleese 1939 \"Monty Python\"\n",
    "Number of arguments: 5\n",
    "Argument List: ['script-arguments.py', 'John', 'Cleese', '1939', 'Monty Python']\n",
    "```"
   ]
  },
  {
   "cell_type": "markdown",
   "metadata": {
    "nbpresent": {
     "id": "537eb814-a823-44ca-baf5-31c1fea0418c"
    }
   },
   "source": [
    "Folgendes können wir aus der Ausgabe ablesen:\n",
    "- Das erste Argument ist immer der Scriptname und daher immer vorhanden.\n",
    "- Argumente werden durch Leerzeichen getrennt.\n",
    "- Alle Argumente werden als Strings an das Script übergeben und müssen gegebenenfalls in andere Datentypen umgewandelt werden.\n",
    "- Argumente, die Leerzeichen enthalten sollen, müssen durch Anführungszeichen eingefasst werden.\n",
    "- Wir können auf einzelne Argumente zugreifen, indem wird die Liste `sys.argv` indizieren."
   ]
  },
  {
   "cell_type": "markdown",
   "metadata": {},
   "source": [
    "**Komplexere Programme**:\n",
    "Wenn ein Programm viele verschiedene Argumente haben soll, wird es schnell mühsam, direkt mit `argv` zu arbeiten. Das Modul **`argparse`** (in der Standardbibliothek enthalten) ermöglicht es, Benutzer-freundliche Kommandozeilen-Programme zu schreiben:\n",
    "- Argumente mit Lang- und Kurzform (`--help`, `-h`)\n",
    "- Optionale Argumente\n",
    "- Automatische Überprüfung des Datentyps\n",
    "- Fehlerbehandlung für ungültige Eingaben\n",
    "\n",
    "Dokumentation: https://docs.python.org/3/library/argparse.html\n"
   ]
  },
  {
   "cell_type": "markdown",
   "metadata": {},
   "source": [
    "# Einige weitere nützliche Module<a name=\"modules\"></a>\n",
    "\n",
    "Dies ist eine kleine und subjektive Auswahl von Modulen, die in vielen Situationen hilfreich sein könnten:\n",
    "\n",
    "Standardbibliothek:\n",
    "* `datetime` - Arbeiten mit Datums- und Zeitangaben ([Documentation](https://docs.python.org/3/library/datetime.html))\n",
    "* `re` - Reguläre Ausdrücke ([Documentation](https://docs.python.org/3/library/re.html))\n",
    "* `subprocess` - Andere Programme ausführen, ihre Ausgabe lesen usw. ([Documentation](https://docs.python.org/3/library/subprocess.html))\n",
    "\n",
    "Externe Module:\n",
    "* `requests` - für HTTP-Anfragen (z. B. Kommunikation mit einer Webschnittstelle) ([Documentation](https://3.python-requests.org/))\n",
    "* `pandas` - Riesige Bibliothek für Datenanalyse, gute Integration mit NumPy und Matplotlib ([Documentation](http://pandas.pydata.org/pandas-docs/stable/))"
   ]
  },
  {
   "cell_type": "markdown",
   "metadata": {
    "nbpresent": {
     "id": "424156ec-2133-40f0-ae49-c315b705223c"
    }
   },
   "source": [
    "\n",
    "# IDEs für Python<a name=\"ide\"></a>\n",
    "\n",
    "Integrated Development Environments (IDE) können sowohl für einzelne Dateien, aber insbesondere für große Projekte hilfreich sein.\n",
    "\n",
    "Einige üblich Funktionen von IDEs:\n",
    "\n",
    "- Grafische Oberfläche\n",
    "- Texteditor für mehrere Dateien\n",
    "- Syntax-Hervorhebung\n",
    "- Autovervollständigung\n",
    "- Dateimanager\n",
    "- Variablen-Betrachter\n",
    "- Debugger\n",
    "- Integration mit Software zur Versionskontrolle"
   ]
  },
  {
   "cell_type": "markdown",
   "metadata": {
    "collapsed": true
   },
   "source": [
    "Vergleich einiger Python IDEs:\n",
    "\n",
    "https://www.datacamp.com/community/tutorials/data-science-python-ide"
   ]
  },
  {
   "cell_type": "markdown",
   "metadata": {
    "nbpresent": {
     "id": "ec7c2ef7-2fa6-4472-8f8e-3088c0941144"
    }
   },
   "source": [
    "## Spyder\n",
    "\n",
    "![Screenshot of Spyder](../img/spyder.png)"
   ]
  },
  {
   "cell_type": "markdown",
   "metadata": {},
   "source": [
    "# Links<a name=\"links\"></a>\n",
    "\n",
    "* Dokumentation der Standardbibliothek (*\"keep this under your pillow\"*): https://docs.python.org/3/library/index.html\n",
    "* Übersichtsseite mit vielen Hinweisen zu deutschsprachigen Ressourcen rund um Python: https://wiki.python.org/moin/GermanLanguage"
   ]
  },
  {
   "cell_type": "markdown",
   "metadata": {},
   "source": [
    "## Tutorials<a name=\"tutorials\"></a>\n",
    "\n",
    "* Das offizielle Python-Tutorial: https://docs.python.org/3/tutorial/index.html\n",
    "    * deutsche Übersetzung: https://py-tutorial-de.readthedocs.io/de/python-3.3/\n",
    "* Beginners guide: https://wiki.python.org/moin/BeginnersGuide\n",
    "* Ein weiterer Göttinger Python-Kurs (mit mathematischem Fokus), der ebenfalls Jupyter-Notebooks verwendet: https://gitlab.gwdg.de/jschulz1/math_prog"
   ]
  }
 ],
 "metadata": {
  "anaconda-cloud": {},
  "kernelspec": {
   "display_name": "Python 3",
   "language": "python",
   "name": "python3"
  },
  "language_info": {
   "codemirror_mode": {
    "name": "ipython",
    "version": 3
   },
   "file_extension": ".py",
   "mimetype": "text/x-python",
   "name": "python",
   "nbconvert_exporter": "python",
   "pygments_lexer": "ipython3",
   "version": "3.6.6"
  }
 },
 "nbformat": 4,
 "nbformat_minor": 1
}
