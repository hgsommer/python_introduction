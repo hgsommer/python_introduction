{
 "cells": [
  {
   "cell_type": "markdown",
   "metadata": {},
   "source": [
    "<a name=\"loesung06\"></a>Lösung Übung 06\n",
    "==="
   ]
  },
  {
   "cell_type": "code",
   "execution_count": null,
   "metadata": {},
   "outputs": [],
   "source": [
    "# 1.a Die Dokumentation ist hier zu finden:\n",
    "# https://docs.python.org/3/library/math.html#angular-conversion\n",
    "import math\n",
    "pi = math.pi\n",
    "print('pi in degrees is {}'.format(math.degrees(pi)))\n",
    "print('pi / 2 in degrees is {}'.format(math.degrees(pi/2)))\n",
    "print('2*pi in degrees is {}'.format(math.degrees(2*pi)))"
   ]
  },
  {
   "cell_type": "code",
   "execution_count": null,
   "metadata": {},
   "outputs": [],
   "source": [
    "# 1.b\n",
    "A = [0, 0]\n",
    "B = [3, 0]\n",
    "C = [4, 2]\n",
    "\n",
    "# punkt1 und punkt2 sind jeweils Listen mit zwei Einträgen\n",
    "# für die x- und y-Koordinaten\n",
    "def distance(punkt1, punkt2):\n",
    "    # speichere x und y Werte in eigenen Variablen\n",
    "    x1 = punkt1[0]\n",
    "    y1 = punkt1[1]\n",
    "    x2 = punkt2[0]\n",
    "    y2 = punkt2[1]\n",
    "\n",
    "    # berechne die Strecke zwischen den zwei Punkten\n",
    "    distance = math.sqrt((x1 - x2)**2 + (y1 - y2)**2)\n",
    "\n",
    "    # gib den Wert an den Rest des Programms zurück\n",
    "    return distance"
   ]
  },
  {
   "cell_type": "code",
   "execution_count": null,
   "metadata": {},
   "outputs": [],
   "source": [
    "# 1.c\n",
    "\n",
    "# berechne die drei Strecken mittels der oben definierten Funkion\n",
    "a = distance(B, C)\n",
    "b = distance(A, C)\n",
    "c = distance(A, B)\n",
    "\n",
    "# gib die Ergebnisse aus\n",
    "print('distance between B and C is {}'.format(a))\n",
    "print('distance between A and C is {}'.format(b))\n",
    "print('distance between A and B is {}'.format(c))"
   ]
  },
  {
   "cell_type": "code",
   "execution_count": null,
   "metadata": {},
   "outputs": [],
   "source": [
    "# 1.d\n",
    "def calculate_alpha(a, b, c):\n",
    "    cos = (b**2 + c**2 - a**2) / (2 * b * c)\n",
    "    alpha = math.degrees(math.acos(cos))\n",
    "    return alpha\n",
    "\n",
    "def calculate_beta(a, b, c):\n",
    "    cos = (a**2 + c**2 - b**2) / (2 * a * c)\n",
    "    beta = math.degrees(math.acos(cos))\n",
    "    return beta\n",
    "\n",
    "def calculate_gamma(a, b, c):\n",
    "    cos = (a**2 + b**2 - c**2) / (2 * a * b)\n",
    "    gamma = math.degrees(math.acos(cos))\n",
    "    return gamma\n",
    "\n",
    "alpha = calculate_alpha(a, b, c)\n",
    "beta = calculate_beta(a, b, c)\n",
    "gamma = calculate_gamma(a, b, c)\n",
    "\n",
    "print('alpha = {}, beta = {}, gamma = {}'.format(alpha, beta, gamma))\n",
    "print('check Winkelsumme: {}'.format(alpha + beta + gamma))"
   ]
  },
  {
   "cell_type": "code",
   "execution_count": null,
   "metadata": {},
   "outputs": [],
   "source": [
    "# 2.a\n",
    "import os\n",
    "from os.path import join\n",
    "ordner_name = 'uebung-06'\n",
    "os.mkdir(ordner_name)"
   ]
  },
  {
   "cell_type": "code",
   "execution_count": null,
   "metadata": {},
   "outputs": [],
   "source": [
    "# 2.b\n",
    "aktuelles_verzeichnis = os.getcwd()\n",
    "pfad = join(aktuelles_verzeichnis, ordner_name)\n",
    "print(pfad)"
   ]
  },
  {
   "cell_type": "code",
   "execution_count": null,
   "metadata": {},
   "outputs": [],
   "source": [
    "# 2.c\n",
    "for i in range(5):\n",
    "    datei_name = 'datei_{}.txt'.format(i)\n",
    "    open(join(pfad,datei_name), 'w')\n",
    "    datei_name = 'datei_{}.csv'.format(i)\n",
    "    open(join(pfad,datei_name), 'w')"
   ]
  },
  {
   "cell_type": "code",
   "execution_count": null,
   "metadata": {},
   "outputs": [],
   "source": [
    "# 2.d\n",
    "# erstelle eine Liste der im Ordner enthaltenen Dateien\n",
    "dateien = os.listdir(pfad)\n",
    "# sortiere die liste alphabetisch weil die Reihenfolge sonst\n",
    "# nicht garantiert ist\n",
    "dateien.sort()\n",
    "\n",
    "# erstelle zwei temporäre Variablen um die Dateinummer zu\n",
    "# verfolgen\n",
    "i = 0\n",
    "j = 0\n",
    "\n",
    "# iteriere über alle Dateien im Ordner\n",
    "for datei in dateien:\n",
    "    # Fall für eine .txt Datei\n",
    "    if datei.endswith('.txt'):\n",
    "        # erstelle einen neuen Dateinamen\n",
    "        neuer_name = 'umbenannt_{}.txt'.format(i)\n",
    "        print('renaming datei {} to {}'.format(datei, neuer_name))\n",
    "        # benenne die Datei um mit rename(alter_pfad, neuer_pfad)\n",
    "        os.rename(join(pfad, datei), join(pfad, neuer_name))\n",
    "        # erhöhe die temporäre Variable um 1\n",
    "        i = i + 1\n",
    "    # Fall für eine .csv Datei\n",
    "    elif datei.endswith('.csv'):\n",
    "        neuer_name = 'umbenannt_{}.csv'.format(j)\n",
    "        print('renaming datei {} to {}'.format(datei, neuer_name))\n",
    "        os.rename(join(pfad, datei), join(pfad, neuer_name))\n",
    "        j = j + 1\n",
    "    # Fall für eine andere Datei\n",
    "    else:\n",
    "        print('andere Datei gefunden: {}'.format(datei))\n",
    "    "
   ]
  },
  {
   "cell_type": "code",
   "execution_count": null,
   "metadata": {},
   "outputs": [],
   "source": [
    "# 3.e\n",
    "\n",
    "# Iteration über 4 Wochen\n",
    "for i in range(4):\n",
    "    # name für den Wochen-Ordner\n",
    "    ordner_name = 'juni-0{}'.format(i + 1)\n",
    "    # pfad zum neuen Ordner\n",
    "    arbeitsverzeichnis = os.getcwd()\n",
    "    pfad = join(arbeitsverzeichnis, ordner_name)\n",
    "    print('erstelle ordner {}'.format(ordner_name))\n",
    "\n",
    "    # erstelle Ordner nur, wenn er noch nicht existiert\n",
    "    # schau in der Dokumentation\n",
    "    # https://docs.python.org/3/tutorial/errors.html\n",
    "    # nach für eine Erklärung zum Fehler-handling in Python\n",
    "    try:\n",
    "        os.mkdir(pfad)\n",
    "    except FileExistsError:\n",
    "        pass\n",
    "\n",
    "    # berechne Start und Ende der aktuellen Woche\n",
    "    # in Tagen\n",
    "    woche_start = i * 7 + 1\n",
    "    print('woche_start {}'.format(woche_start))\n",
    "    woche_ende = (i + 1) * 7 + 1\n",
    "    print('woche_ende {}'.format(woche_ende))\n",
    "\n",
    "    # iteriere über die 7 Tage der aktuellen Woche\n",
    "    for j in range(woche_start, woche_ende):\n",
    "        # name für die neue Datei\n",
    "        datei_name = '2019-06-{}.txt'.format(j)\n",
    "        print('erstelle datei {} in ordner {}'\\\n",
    "              .format(datei_name, ordner_name))\n",
    "        # erstelle die Datei im aktuellen Ordner\n",
    "        open(join(pfad, datei_name), 'w')\n",
    "    "
   ]
  },
  {
   "cell_type": "code",
   "execution_count": null,
   "metadata": {},
   "outputs": [],
   "source": [
    "# 3.f\n",
    "# Dokumentation zum Lesen und Schreiben in Dateien:\n",
    "# https://docs.python.org/3/tutorial/inputoutput.html\n",
    "testdatei = open('testdatei.txt', 'w')\n",
    "testdatei.write('test-text')\n",
    "testdatei.close()"
   ]
  },
  {
   "cell_type": "code",
   "execution_count": null,
   "metadata": {},
   "outputs": [],
   "source": [
    "# 3.g\n",
    "\n",
    "# Liste für die Wochentage die später geschrieben werden sollen\n",
    "wochentage = ['Montag', 'Dienstag', 'Mittwoch', 'Donnerstag',\\\n",
    "             'Freitag', 'Samstag', 'Sonntag']\n",
    "\n",
    "# Iteration über die vier Wochen\n",
    "for i in range(4):\n",
    "    # Pfad zum Wochen-Ordner\n",
    "    ordner_name = 'juni-0{}'.format(i + 1)\n",
    "    arbeitsverzeichnis = os.getcwd()\n",
    "    pfad = join(arbeitsverzeichnis, ordner_name)\n",
    "\n",
    "    # liste der Dateien im aktuellen Verzeichnis\n",
    "    dateien = os.listdir(pfad)\n",
    "    # sortiere die Liste aufsteigend\n",
    "    dateien.sort()\n",
    "    # wenn der erste Eintrag der versteckte Ordner\n",
    "    # .ipynb-checkpoints ist dann schneide ihn aus\n",
    "    # der Liste mit einem slice aus\n",
    "    dateien = dateien[1:]\n",
    "    # iteriere über die 7 Tage der aktuellen Woche\n",
    "    for index, datei in enumerate(dateien):\n",
    "        if datei.endswith('.txt'):\n",
    "            datei = open(join(pfad, datei), 'w')\n",
    "            datei.write(wochentage[index])\n",
    "            datei.close()\n",
    "    "
   ]
  },
  {
   "cell_type": "code",
   "execution_count": null,
   "metadata": {},
   "outputs": [],
   "source": [
    "# 3.a\n",
    "import random\n",
    "\n",
    "# zufällige Länge der Liste\n",
    "length = random.randint(5, 11)\n",
    "\n",
    "# erstelle eine Liste der Länge \"length\" gefüllt mit\n",
    "# Zufallszahlen zwischen 0 und 10 mittels einer list comprehension\n",
    "numbers = [random.randint(0, 11) for i in range(length)]\n",
    "print(numbers)"
   ]
  },
  {
   "cell_type": "code",
   "execution_count": null,
   "metadata": {},
   "outputs": [],
   "source": [
    "# 3.b\n",
    "# Dokumentation zu shuffle gibt es hier\n",
    "# https://docs.python.org/3/library/random.html#random.shuffle\n",
    "\n",
    "# wichtig: shuffle operiert \"in place\", hat also keinen Rückgabewert,\n",
    "# sondern mischt die Liste, ohne eine Kopie zu erstellen\n",
    "random.shuffle(numbers)\n",
    "print(numbers)"
   ]
  },
  {
   "cell_type": "code",
   "execution_count": null,
   "metadata": {},
   "outputs": [],
   "source": [
    "# 3.c\n",
    "\n",
    "# Definition der Vergleichsfunktion\n",
    "def vergleich(original):\n",
    "    # erstelle iene Kopie\n",
    "    kopie = original[:]\n",
    "\n",
    "    # mische die Kopie durch\n",
    "    random.shuffle(kopie)\n",
    "\n",
    "    # Fallunterscheidung: wenn die Kopie gleich dem Original\n",
    "    # ist (Vergleich: kopie == original), gib True zurück\n",
    "    if kopie == original:\n",
    "        return True\n",
    "    # sonst False\n",
    "    else:\n",
    "        return False"
   ]
  },
  {
   "cell_type": "code",
   "execution_count": null,
   "metadata": {},
   "outputs": [],
   "source": [
    "# 3.d\n",
    "# Anzahl der Iterationen\n",
    "N = 100\n",
    "\n",
    "# \"schneide\" die Liste ab um verschiedene Längen zu testen\n",
    "numbers = numbers[0:4]\n",
    "\n",
    "# mische die Liste N mal und vergleiche sie mit dem Original\n",
    "for i in range(N):\n",
    "\n",
    "    # wenn vergleich True zurück liefert:\n",
    "    if vergleich(numbers):\n",
    "        # gib eine Nachricht mit der Zahl der aktuellen\n",
    "        # Iteration zurück\n",
    "        print('Liste ist gleich in Iteration {}'.format(i))\n",
    "\n",
    "        # verlasse den for-loop mittels break\n",
    "        break"
   ]
  }
 ],
 "metadata": {
  "kernelspec": {
   "display_name": "Python 3",
   "language": "python",
   "name": "python3"
  },
  "language_info": {
   "codemirror_mode": {
    "name": "ipython",
    "version": 3
   },
   "file_extension": ".py",
   "mimetype": "text/x-python",
   "name": "python",
   "nbconvert_exporter": "python",
   "pygments_lexer": "ipython3",
   "version": "3.6.6"
  }
 },
 "nbformat": 4,
 "nbformat_minor": 1
}
