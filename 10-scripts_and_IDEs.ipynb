{
 "cells": [
  {
   "cell_type": "markdown",
   "metadata": {},
   "source": [
    "# Using Python outside of GWDG's Jupyter\n",
    "\n",
    "\n",
    "## Overview\n",
    "- Installing Python\n",
    "  - Anaconda Python\n",
    "- Command Line / Terminal\n",
    "- IDEs (Integrated Development Environments):\n",
    "  - Spyder\n",
    "  - PyCharm\n"
   ]
  },
  {
   "cell_type": "markdown",
   "metadata": {},
   "source": [
    "# Installing Python"
   ]
  },
  {
   "cell_type": "markdown",
   "metadata": {},
   "source": [
    "## Pure Python\n",
    "\n",
    "To obtain pure Python, you can download it from http://www.python.org\n",
    "There you can also find other resources, e.g. a Beginners Guide and Documentation for standard library."
   ]
  },
  {
   "cell_type": "markdown",
   "metadata": {},
   "source": [
    "## Anaconda\n",
    "\n",
    "Get it here: http://www.anaconda.com\n",
    "\n",
    "### What is Anaconda?\n",
    "Anaconda offers an **Anaconda Python Distribution**\n",
    "- Python\n",
    "- IDEs: Jupyter, Spyder, PyCharm,  ...\n",
    "- Libraries: numpy, pandas, SciPy, Matplotlib, ...\n",
    "- Environment and package manager: Conda"
   ]
  },
  {
   "cell_type": "markdown",
   "metadata": {},
   "source": [
    "# Running Python from the Command Line / Terminal"
   ]
  },
  {
   "cell_type": "markdown",
   "metadata": {},
   "source": [
    "## Interactive mode\n",
    "\n",
    "Open a terminal window and type:\n",
    "```Shell\n",
    "> python\n",
    "```\n",
    "This will start the interactive python interpreter, where you can enter Python commands at the prompt:\n",
    "\n",
    "```\n",
    ">>> python commands\n",
    "\n",
    "```\n",
    "It is usefull for simple tasks or testing."
   ]
  },
  {
   "cell_type": "markdown",
   "metadata": {},
   "source": [
    "## Running scripts\n",
    "\n",
    "You can combine several python commands in a script file with extension **.py**\n",
    "\n",
    "In order to execute this script in the terminal, go to the directory containing the script file and type:\n",
    "```\n",
    "> python script1.py\n",
    "```\n"
   ]
  },
  {
   "cell_type": "markdown",
   "metadata": {},
   "source": [
    "## Running scripts with arguments\n",
    "\n",
    "Similar to arguments of functions, scripts can be called with arguments:\n",
    "\n",
    "```\n",
    "> python script2.py 20 Johannes\n",
    "```"
   ]
  },
  {
   "cell_type": "markdown",
   "metadata": {},
   "source": [
    "# Using IDEs for working with python\n",
    "\n",
    "Integrated Development Environments (IDE) are usefull for managing single Python files as well as large projects.\n",
    "\n",
    "\n",
    "\n",
    "- Graphical User Interface\n",
    "- Syntax Highlighting\n",
    "- Integrated Python console\n",
    "- File Explorer\n",
    "- Variable explorer\n",
    "- Debugger\n",
    "- Integration of Version Control Systems, like Git and Mercurial (PyCharm)"
   ]
  },
  {
   "cell_type": "markdown",
   "metadata": {},
   "source": [
    "## Spyder\n",
    "\n",
    "![Screenshot of Spyder](img/spyder.png)"
   ]
  },
  {
   "cell_type": "code",
   "execution_count": null,
   "metadata": {
    "collapsed": true
   },
   "outputs": [],
   "source": []
  }
 ],
 "metadata": {
  "anaconda-cloud": {},
  "kernelspec": {
   "display_name": "Python [Root]",
   "language": "python",
   "name": "Python [Root]"
  },
  "language_info": {
   "codemirror_mode": {
    "name": "ipython",
    "version": 3
   },
   "file_extension": ".py",
   "mimetype": "text/x-python",
   "name": "python",
   "nbconvert_exporter": "python",
   "pygments_lexer": "ipython3",
   "version": "3.5.2"
  }
 },
 "nbformat": 4,
 "nbformat_minor": 0
}
